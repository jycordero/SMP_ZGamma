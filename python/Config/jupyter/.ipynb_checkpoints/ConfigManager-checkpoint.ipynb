{
 "cells": [
  {
   "cell_type": "code",
   "execution_count": 1,
   "metadata": {},
   "outputs": [],
   "source": [
    "from Common import IO\n",
    "from Common.ProjectManage import ProjectManage"
   ]
  },
  {
   "cell_type": "code",
   "execution_count": 2,
   "metadata": {},
   "outputs": [],
   "source": [
    "class ConfigManager( ProjectManage ):\n",
    "    def __init__(self):\n",
    "        self.structpath = \"/home/jcordero/CMS/SMP_ZGamma/json/manage/\"\n",
    "    \n",
    "    def _getDirStruct(self):\n",
    "        return IO.openDict(self.structpath+\"dirstructure.json\")\n",
    "    \n",
    "    def _getDirFigStruct(self):\n",
    "        return IO.openDict(self.structpath+\"figstructure.json\")\n",
    "    \n",
    "    def CreateProject(self,path,Print=False):\n",
    "        super().dirStructure(path,self._getDirStruct(),date=True,Print=Print)\n",
    "        \n",
    "    def CreateFigStructure(self,path,Print=False):\n",
    "        super().dirStructure(path,self._getDirFigStruct(),date=False,Print=Print)\n",
    "        \n",
    "        \n",
    "    def legacy(self,era):\n",
    "        if   '2016' in era : return 'legacy'\n",
    "        elif '2017' in era : return 'rereco'\n",
    "        elif '2018' in era : return 'rereco'"
   ]
  }
 ],
 "metadata": {
  "kernelspec": {
   "display_name": "SMP",
   "language": "python",
   "name": "smp"
  },
  "language_info": {
   "codemirror_mode": {
    "name": "ipython",
    "version": 3
   },
   "file_extension": ".py",
   "mimetype": "text/x-python",
   "name": "python",
   "nbconvert_exporter": "python",
   "pygments_lexer": "ipython3",
   "version": "3.6.10"
  },
  "varInspector": {
   "cols": {
    "lenName": 16,
    "lenType": 16,
    "lenVar": 40
   },
   "kernels_config": {
    "python": {
     "delete_cmd_postfix": "",
     "delete_cmd_prefix": "del ",
     "library": "var_list.py",
     "varRefreshCmd": "print(var_dic_list())"
    },
    "r": {
     "delete_cmd_postfix": ") ",
     "delete_cmd_prefix": "rm(",
     "library": "var_list.r",
     "varRefreshCmd": "cat(var_dic_list()) "
    }
   },
   "types_to_exclude": [
    "module",
    "function",
    "builtin_function_or_method",
    "instance",
    "_Feature"
   ],
   "window_display": false
  }
 },
 "nbformat": 4,
 "nbformat_minor": 2
}
