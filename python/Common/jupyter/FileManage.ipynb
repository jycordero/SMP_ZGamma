{
 "cells": [
  {
   "cell_type": "code",
   "execution_count": null,
   "metadata": {},
   "outputs": [],
   "source": [
    "import os\n",
    "import datetime"
   ]
  },
  {
   "cell_type": "code",
   "execution_count": null,
   "metadata": {},
   "outputs": [],
   "source": [
    "def Date():\n",
    "    date = datetime.datetime.now()\n",
    "    return str(date.year) + str(date.month) + str(date.day) + \"/\"\n",
    "\n",
    "def CreateDir(figpath,sufix='', Print = False):\n",
    "    try:\n",
    "        os.mkdir(figpath+sufix)\n",
    "        if Print: print(\"Dir \"+figpath+sufix+\" created\")\n",
    "    except:\n",
    "        if Print:\n",
    "            print(\"Directory \"+figpath+sufix+ \" already exist\")   \n",
    "\n",
    "def dirStructure(path,dictStruct,date=True,Print = False):\n",
    "    if date:\n",
    "        path = os.path.join(path,Date())\n",
    "        CreateDir(path,Print=Print)\n",
    "        \n",
    "    for key in dictStruct:\n",
    "        try:\n",
    "            dirStructure(os.path.join(path,key),dictStruct[key],date=False,Print=Print)\n",
    "        except:\n",
    "            CreateDir(os.path.join(path,key),Print=Print)\n",
    "\n"
   ]
  },
  {
   "cell_type": "code",
   "execution_count": null,
   "metadata": {},
   "outputs": [],
   "source": []
  }
 ],
 "metadata": {
  "kernelspec": {
   "display_name": "SMP",
   "language": "python",
   "name": "smp"
  },
  "language_info": {
   "codemirror_mode": {
    "name": "ipython",
    "version": 3
   },
   "file_extension": ".py",
   "mimetype": "text/x-python",
   "name": "python",
   "nbconvert_exporter": "python",
   "pygments_lexer": "ipython3",
   "version": "3.6.10"
  },
  "varInspector": {
   "cols": {
    "lenName": 16,
    "lenType": 16,
    "lenVar": 40
   },
   "kernels_config": {
    "python": {
     "delete_cmd_postfix": "",
     "delete_cmd_prefix": "del ",
     "library": "var_list.py",
     "varRefreshCmd": "print(var_dic_list())"
    },
    "r": {
     "delete_cmd_postfix": ") ",
     "delete_cmd_prefix": "rm(",
     "library": "var_list.r",
     "varRefreshCmd": "cat(var_dic_list()) "
    }
   },
   "types_to_exclude": [
    "module",
    "function",
    "builtin_function_or_method",
    "instance",
    "_Feature"
   ],
   "window_display": false
  }
 },
 "nbformat": 4,
 "nbformat_minor": 2
}
