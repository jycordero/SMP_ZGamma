{
 "cells": [
  {
   "cell_type": "code",
   "execution_count": null,
   "metadata": {},
   "outputs": [],
   "source": [
    "def assErr(k,N):\n",
    "    a, b = 0.001,1\n",
    "    steps = 1000\n",
    "    beta = np.arange(a,b,step = (b-a)/steps)\n",
    "\n",
    "    Beta  = spc.betainc(k+1,N-k+1,beta)\n",
    "    Sols = [[100 if np.isnan(Bs-As-lamb) else np.abs(Bs-As-lamb) for Bs in Beta] for As in Beta]\n",
    "\n",
    "    i = int(np.argmin(Sols)/steps)\n",
    "    j = int(np.argmin(Sols)- i*steps)\n",
    "\n",
    "    intLow, intHigh = beta[i],beta[j]\n",
    "    print(np.argmin(Sols),np.min(Sols),Sols[i][j])\n",
    "    print(i,j)\n",
    "\n",
    "\n",
    "def Template(Nsig,Nbkg,Sig,Bkg):\n",
    "    return Nsig * (Sig/np.sum(Sig)) + Nbkg * (Bkg/np.sum(Bkg))\n",
    "\n",
    "\n",
    "def GetCDF(dist):\n",
    "    return np.cumsum(dist/np.sum(dist))      \n",
    "\n",
    "\n",
    "def CHI2(Exp,Obs):\n",
    "    if np.sum(Exp) == 0:\n",
    "        return np.sum((Exp-Obs)**2/np.sqrt(Exp))\n",
    "    else:\n",
    "        return np.sum((Exp-Obs)**2)\n",
    "\n",
    "\n",
    "def Sampling(dist,N):\n",
    "    indices = []\n",
    "\n",
    "    CDF = self.GetCDF(dist[0])\n",
    "\n",
    "    for samp in np.random.rand(N):\n",
    "        indices.append(np.sum(CDF < samp))\n",
    "    hist = np.histogram(dist[1][indices],bins=np.arange(-1,1.1,step=0.1))\n",
    "    return np.array(hist[0])"
   ]
  }
 ],
 "metadata": {
  "kernelspec": {
   "display_name": "SMP",
   "language": "python",
   "name": "smp"
  },
  "language_info": {
   "codemirror_mode": {
    "name": "ipython",
    "version": 3
   },
   "file_extension": ".py",
   "mimetype": "text/x-python",
   "name": "python",
   "nbconvert_exporter": "python",
   "pygments_lexer": "ipython3",
   "version": "3.6.10"
  },
  "varInspector": {
   "cols": {
    "lenName": 16,
    "lenType": 16,
    "lenVar": 40
   },
   "kernels_config": {
    "python": {
     "delete_cmd_postfix": "",
     "delete_cmd_prefix": "del ",
     "library": "var_list.py",
     "varRefreshCmd": "print(var_dic_list())"
    },
    "r": {
     "delete_cmd_postfix": ") ",
     "delete_cmd_prefix": "rm(",
     "library": "var_list.r",
     "varRefreshCmd": "cat(var_dic_list()) "
    }
   },
   "types_to_exclude": [
    "module",
    "function",
    "builtin_function_or_method",
    "instance",
    "_Feature"
   ],
   "window_display": false
  }
 },
 "nbformat": 4,
 "nbformat_minor": 2
}
