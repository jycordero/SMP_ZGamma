{
 "cells": [
  {
   "cell_type": "code",
   "execution_count": 3,
   "metadata": {},
   "outputs": [
    {
     "name": "stdout",
     "output_type": "stream",
     "text": [
      "Welcome to JupyROOT 6.18/04\n"
     ]
    }
   ],
   "source": [
    "from ROOT import TFile"
   ]
  },
  {
   "cell_type": "code",
   "execution_count": 4,
   "metadata": {},
   "outputs": [],
   "source": [
    "class ShowerShape():\n",
    "    def __init__(self, Config):\n",
    "        self.projectdir = Config.projectdir\n",
    "        self.era = Config.era\n",
    "        self.selection = Config.selection\n",
    "        self.DataGen = Config.DataGen\n",
    "        \n",
    "        self.corrPath = self.projectdir + 'figs/' + self.era + '/'+ self.DataGen +'/ee/ShowerShapeCorrections/'\n",
    "\n",
    "        self.showershapeVar = [\n",
    "                                'Phi','R9',\n",
    "                                'Sieie','Sieip',\n",
    "                                'E2x2','E5x5',\n",
    "                                'Eta',\n",
    "                                'ScRawE',\n",
    "                                'ScEtaWidth','ScPhiWidth',\n",
    "                                'PreShowerE','ScRawE',\n",
    "                                'Srr',\n",
    "                                'Rho'\n",
    "                                ]\n",
    "\n",
    "    def readShowerShapeCorr(self):\n",
    "        graph = {}\n",
    "        for ph in ['EE','EB']:\n",
    "            graph[ph] = {}\n",
    "            for ssV in self.showershapeVar:\n",
    "                file = TFile(self.corrPath + 'trans_ShowerShape_'+ssV+'_'+ph+'.root')\n",
    "                graph[ph][ssV] = file.Get('trans_'+ssV+'_'+ph)\n",
    "\n",
    "        return graph \n",
    "    \n",
    "    def ShowerShapeCorrection(self,Var,graph):\n",
    "        for i in range(len(Var)):\n",
    "            Var[i] = graph.Eval(Var[i])\n",
    "        return Var"
   ]
  },
  {
   "cell_type": "code",
   "execution_count": null,
   "metadata": {},
   "outputs": [],
   "source": []
  }
 ],
 "metadata": {
  "kernelspec": {
   "display_name": "Python [conda env:CMSenv] *",
   "language": "python",
   "name": "conda-env-CMSenv-py"
  },
  "language_info": {
   "codemirror_mode": {
    "name": "ipython",
    "version": 3
   },
   "file_extension": ".py",
   "mimetype": "text/x-python",
   "name": "python",
   "nbconvert_exporter": "python",
   "pygments_lexer": "ipython3",
   "version": "3.6.7"
  }
 },
 "nbformat": 4,
 "nbformat_minor": 2
}
