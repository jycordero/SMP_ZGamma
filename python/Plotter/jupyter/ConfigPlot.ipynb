{
 "cells": [
  {
   "cell_type": "code",
   "execution_count": null,
   "metadata": {},
   "outputs": [],
   "source": [
    "import json"
   ]
  },
  {
   "cell_type": "code",
   "execution_count": null,
   "metadata": {},
   "outputs": [],
   "source": [
    "class ConfigPlot():\n",
    "    def __init__(self, projectdir, name):\n",
    "        self.projectdir = projectdir\n",
    "        self.name = name\n",
    "        \n",
    "        self.setConfigVars( self.getConfigFile() )\n",
    "\n",
    "    def getConfigFile(self):\n",
    "        #self.projectdir + \"conf/confPlot.txt\"\n",
    "        file = self.projectdir + \"json/plot/plot_conf.json\"\n",
    "        with open(file, 'r') as f:\n",
    "            JS = f.read()\n",
    "        \n",
    "        config = json.loads(JS)\n",
    "        \n",
    "        return config\n",
    "        \n",
    "    def setConfigVars(self,config):\n",
    "        conf = config[self.name]\n",
    "        \n",
    "        for var in conf.keys():\n",
    "            setattr(self,var, conf[var])"
   ]
  }
 ],
 "metadata": {
  "kernelspec": {
   "display_name": "SMP",
   "language": "python",
   "name": "smp"
  },
  "language_info": {
   "codemirror_mode": {
    "name": "ipython",
    "version": 3
   },
   "file_extension": ".py",
   "mimetype": "text/x-python",
   "name": "python",
   "nbconvert_exporter": "python",
   "pygments_lexer": "ipython3",
   "version": "3.6.10"
  },
  "varInspector": {
   "cols": {
    "lenName": 16,
    "lenType": 16,
    "lenVar": 40
   },
   "kernels_config": {
    "python": {
     "delete_cmd_postfix": "",
     "delete_cmd_prefix": "del ",
     "library": "var_list.py",
     "varRefreshCmd": "print(var_dic_list())"
    },
    "r": {
     "delete_cmd_postfix": ") ",
     "delete_cmd_prefix": "rm(",
     "library": "var_list.r",
     "varRefreshCmd": "cat(var_dic_list()) "
    }
   },
   "types_to_exclude": [
    "module",
    "function",
    "builtin_function_or_method",
    "instance",
    "_Feature"
   ],
   "window_display": false
  }
 },
 "nbformat": 4,
 "nbformat_minor": 2
}
