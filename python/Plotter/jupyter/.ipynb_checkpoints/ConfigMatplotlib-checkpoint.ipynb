{
 "cells": [
  {
   "cell_type": "code",
   "execution_count": 1,
   "metadata": {},
   "outputs": [],
   "source": [
    "from Common.CommonHelper import CommonHelper"
   ]
  },
  {
   "cell_type": "code",
   "execution_count": 2,
   "metadata": {},
   "outputs": [],
   "source": [
    "class ConfigMatplotlib:\n",
    "    confpath = \"/home/jcordero/CMS/SMP_ZGamma/json/plot/\"\n",
    "    file = \"plot_params.json\"\n",
    "    \n",
    "    def setRC(self,rc,rcDict = None,Type = \"Single\"):\n",
    "        if rcDict is None:\n",
    "            rcDict = self.getRC(Type=Type)\n",
    "        \n",
    "        for key in rcDict:\n",
    "            rc(key, **rcDict[key])\n",
    "\n",
    "    def getRC(self,Type = \"Single\"):\n",
    "        return CommonHelper.Read.openJson(self.confpath+self.file)[Type]\n",
    "            \n",
    "    def getAxesLabelSize(self,Type=\"Single\"):\n",
    "        return CommonHelper.Read.openJson(self.confpath+self.file)[Type]['axes']['labelsize']\n",
    "    \n",
    "    def getAxesTitleSize(self,Type=\"Single\"):\n",
    "        return CommonHelper.Read.openJson(self.confpath+self.file)[Type]['axes']['titlesize'] \n",
    "    \n",
    "    def getAxesGrid(self,Type=\"Single\"):\n",
    "        return CommonHelper.Read.openJson(self.confpath+self.file)[Type]['axes']['grid.linestyle']\n",
    "    \n",
    "    def getYtickLabelSize(self,Type=\"Single\"):\n",
    "        return CommonHelper.Read.openJson(self.confpath+self.file)[Type]['ytick']['labelsize']  \n",
    "                    \n",
    "    def getXtickLabelSize(self,Type=\"Single\"):\n",
    "        return CommonHelper.Read.openJson(self.confpath+self.file)[Type]['xtick']['labelsize']  \n",
    "                    \n",
    "    def getLegendFontSize(self,Type=\"Single\"):\n",
    "        return CommonHelper.Read.openJson(self.confpath+self.file)[Type]['legend']['fontsize']\n",
    "        "
   ]
  },
  {
   "cell_type": "code",
   "execution_count": 31,
   "metadata": {},
   "outputs": [
    {
     "ename": "TypeError",
     "evalue": "getRC() missing 1 required positional argument: 'self'",
     "output_type": "error",
     "traceback": [
      "\u001b[0;31m---------------------------------------------------------------------------\u001b[0m",
      "\u001b[0;31mTypeError\u001b[0m                                 Traceback (most recent call last)",
      "\u001b[0;32m<ipython-input-31-d4e442d65a27>\u001b[0m in \u001b[0;36m<module>\u001b[0;34m\u001b[0m\n\u001b[1;32m      2\u001b[0m     \u001b[0mConfig\u001b[0m \u001b[0;34m=\u001b[0m \u001b[0mConfigMatplotlib\u001b[0m\u001b[0;34m\u001b[0m\u001b[0;34m\u001b[0m\u001b[0m\n\u001b[1;32m      3\u001b[0m     \u001b[0mConfig\u001b[0m\u001b[0;34m.\u001b[0m\u001b[0mconfpath\u001b[0m\u001b[0;34m+\u001b[0m\u001b[0mConfig\u001b[0m\u001b[0;34m.\u001b[0m\u001b[0mfile\u001b[0m\u001b[0;34m\u001b[0m\u001b[0;34m\u001b[0m\u001b[0m\n\u001b[0;32m----> 4\u001b[0;31m     \u001b[0mConfig\u001b[0m\u001b[0;34m.\u001b[0m\u001b[0mgetRC\u001b[0m\u001b[0;34m(\u001b[0m\u001b[0;34m)\u001b[0m\u001b[0;34m\u001b[0m\u001b[0;34m\u001b[0m\u001b[0m\n\u001b[0m",
      "\u001b[0;31mTypeError\u001b[0m: getRC() missing 1 required positional argument: 'self'"
     ]
    }
   ],
   "source": [
    "if __name__ == \"__main__\":\n",
    "    Config = ConfigMatplotlib()\n",
    "    Config.confpath+Config.file\n",
    "    Config.getRC()"
   ]
  }
 ],
 "metadata": {
  "kernelspec": {
   "display_name": "Python [conda env:CMSenv] *",
   "language": "python",
   "name": "conda-env-CMSenv-py"
  },
  "language_info": {
   "codemirror_mode": {
    "name": "ipython",
    "version": 3
   },
   "file_extension": ".py",
   "mimetype": "text/x-python",
   "name": "python",
   "nbconvert_exporter": "python",
   "pygments_lexer": "ipython3",
   "version": "3.6.7"
  },
  "varInspector": {
   "cols": {
    "lenName": 16,
    "lenType": 16,
    "lenVar": 40
   },
   "kernels_config": {
    "python": {
     "delete_cmd_postfix": "",
     "delete_cmd_prefix": "del ",
     "library": "var_list.py",
     "varRefreshCmd": "print(var_dic_list())"
    },
    "r": {
     "delete_cmd_postfix": ") ",
     "delete_cmd_prefix": "rm(",
     "library": "var_list.r",
     "varRefreshCmd": "cat(var_dic_list()) "
    }
   },
   "types_to_exclude": [
    "module",
    "function",
    "builtin_function_or_method",
    "instance",
    "_Feature"
   ],
   "window_display": false
  }
 },
 "nbformat": 4,
 "nbformat_minor": 2
}
