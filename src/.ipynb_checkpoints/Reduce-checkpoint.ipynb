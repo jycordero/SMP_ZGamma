{
 "cells": [
  {
   "cell_type": "code",
   "execution_count": 2,
   "metadata": {},
   "outputs": [],
   "source": [
    "import sys\n",
    "import datetime"
   ]
  },
  {
   "cell_type": "code",
   "execution_count": 3,
   "metadata": {},
   "outputs": [],
   "source": [
    "projectdir = \"/home/jcordero/CMS/JYCMCMS/SMP_ZG/\"\n",
    "sys.path.append(projectdir+\"python\")"
   ]
  },
  {
   "cell_type": "code",
   "execution_count": 1,
   "metadata": {},
   "outputs": [
    {
     "name": "stdout",
     "output_type": "stream",
     "text": [
      "Welcome to JupyROOT 6.18/04\n"
     ]
    },
    {
     "name": "stderr",
     "output_type": "stream",
     "text": [
      "/home/jcordero/anaconda3/envs/CMSenv/lib/python3.6/site-packages/root_numpy/__init__.py:34: RuntimeWarning: ROOT 6.18/04 is currently active but you installed root_numpy against ROOT 6.05/02. Please consider reinstalling root_numpy for this ROOT version.\n",
      "  RuntimeWarning)\n",
      "/home/jcordero/anaconda3/envs/CMSenv/lib/python3.6/site-packages/root_numpy/__init__.py:46: RuntimeWarning: numpy 1.15.0 is currently installed but you installed root_numpy against numpy 1.12.1. Please consider reinstalling root_numpy for this numpy version.\n",
      "  RuntimeWarning)\n"
     ]
    }
   ],
   "source": [
    "from scipy.optimize  import curve_fit, fsolve\n",
    "from scipy.special   import erf, betainc, gamma\n",
    "\n",
    "import array\n",
    "import pandas as pd\n",
    "import numpy as np\n",
    "import matplotlib as mpl\n",
    "import matplotlib.pyplot as plt \n",
    "\n",
    "from ROOT import TFile,TMVA,TH2F, TCanvas,TTree\n",
    "from root_pandas import read_root"
   ]
  },
  {
   "cell_type": "markdown",
   "metadata": {},
   "source": [
    "# My Dependencies"
   ]
  },
  {
   "cell_type": "code",
   "execution_count": 2,
   "metadata": {},
   "outputs": [],
   "source": [
    "# My Dependencies\n",
    "from Config            import Config\n",
    "from Reader            import Reader\n",
    "from Samples.Data      import Data\n",
    "from Plotter.Helper    import Helper\n",
    "from Plotter.Plotter   import Plotter\n",
    "from Cuts.Cuts         import Cuts"
   ]
  },
  {
   "cell_type": "code",
   "execution_count": 3,
   "metadata": {
    "code_folding": [
     0,
     26
    ]
   },
   "outputs": [],
   "source": [
    "def dirStructure(figpath,Print = False):\n",
    "    date = datetime.datetime.now()\n",
    "    fileName = str(date.year) + str(date.month) + str(date.day) + \"/\"\n",
    "    \n",
    "    try:\n",
    "        os.mkdir(figpath+fileName)    \n",
    "    except:\n",
    "        if Print:\n",
    "            print(\"Directory \"+fileName+ \" already exist\")\n",
    "        \n",
    "    try :\n",
    "        os.mkdir(figpath+fileName+'ShowerShapeMVA/')\n",
    "    except:\n",
    "        if Print:\n",
    "            print(\"Directory \"+fileName+'ShowerShapeMVA/ already exist')\n",
    "    \n",
    "    dirSubStructure(figpath + fileName + \"Stacked/\", Print=Print)\n",
    "    dirSubStructure(figpath + fileName + \"Unstacked/\", Print=Print)\n",
    "    \n",
    "    dirSubStructure(figpath + fileName + \"nJets/\", Print=Print)\n",
    "    for i in range(5):\n",
    "        dirSubStructure(figpath + fileName + \"nJets/Stacked_nJets\"+str(i)+\"/\", Print=Print)\n",
    "        dirSubStructure(figpath + fileName + \"nJets/Unstacked_nJets\"+str(i)+\"/\", Print=Print)\n",
    "    \n",
    "    return figpath+fileName  \n",
    "\n",
    "def dirSubStructure(path,Print):\n",
    "    try:\n",
    "        os.mkdir(path)\n",
    "    except:\n",
    "        if Print:\n",
    "            print(\"Subdirectory for \" + path + \" already exists or failed.\")\n",
    "    \n",
    "    try:\n",
    "        os.mkdir(path+\"log\")\n",
    "        os.mkdir(path+\"log/Mult\")\n",
    "        os.mkdir(path+\"linear\")\n",
    "        os.mkdir(path+\"linear/Mult\")\n",
    "    except:\n",
    "        if Print:\n",
    "            print(\"Subdirectory for \" + path + \" already exists or failed.\")"
   ]
  },
  {
   "cell_type": "code",
   "execution_count": 6,
   "metadata": {
    "code_folding": [
     2,
     12,
     126
    ]
   },
   "outputs": [],
   "source": [
    "def setConfiguration(selection,era):\n",
    "    \n",
    "    if   era == \"2016\":\n",
    "        run = ['B','C','D','E','F','G','H']\n",
    "        #DataGen = 'rereco'\n",
    "        DataGen = 'legacy'\n",
    "        if DataGen == 'legacy':\n",
    "            #SampleSet = 'MatchZGpaper'\n",
    "            #SampleSet = 'Rerun'\n",
    "            SampleSet = 'Correction'\n",
    "        else:\n",
    "            SampleSet = 'MatchZGpaper_newAna'\n",
    "    elif era == \"2017\":\n",
    "        if selection == \"mumug\":\n",
    "            run = ['B','C','D','E','F']\n",
    "            DataGen = 'rereco'\n",
    "            #SampleSet = 'V1'\n",
    "            #SampleSet = 'V2_puWeight'\n",
    "            #SampleSet = 'V2_puWeight_phID'\n",
    "            #SampleSet = \"V4_phID_isConv\"\n",
    "            #SampleSet = \"V4_phID_isConv_MINUIT\"\n",
    "            #SampleSet  = \"V5_mediumID\"\n",
    "            #SampleSet  = \"V6_lPhoton\"\n",
    "            SampleSet  = \"V6_Accept\"\n",
    "\n",
    "            LoadVars = [\n",
    "                'runNumber','evtNumber',\n",
    "                'nPV','nPU','Rho', 'met',\n",
    "                'genWeight','eventWeight','puWeight','triggerWeight','photonIDWeight',\"photonIsConvWeight\",\n",
    "                'genPhotonFHPFS','genPhotonIPFS',\n",
    "                'leptonOnePt','leptonOneEta','leptonOnePhi','leptonOneIso','leptonOneCharge',\n",
    "                'leptonTwoPt','leptonTwoEta','leptonTwoPhi','leptonTwoIso','leptonTwoCharge',\n",
    "                'photonOnePt','photonOneEta','photonOnePhi',\n",
    "                'photonOneR9','photonOneMVA','photonOneERes','photonOneSieie',\n",
    "                'photonOneHoverE','photonOneIneu','photonOneIph','photonOneIch',\n",
    "                'photonOneSieip','photonOneSipip','photonOneSrr','photonOneE2x2','photonOneE5x5',\n",
    "                'photonOneScEtaWidth','photonOneScPhiWidth',\n",
    "                'photonOneScRawE','photonOnePreShowerE','photonOneScBrem',\n",
    "                'genPhotonPt',\n",
    "                'vetoDY','genIsoPass',\n",
    "                'dileptonPt','dileptonEta','dileptonPhi','dileptonM',\n",
    "                'llgPt','llgEta','llgPhi','llgM',\n",
    "                'dileptonDEta','dileptonDPhi','dileptonDR',\n",
    "                'l1PhotonDEta','l1PhotonDPhi','l1PhotonDR','l1PhotonM','l1PhotonPt',\n",
    "                'l2PhotonDEta','l2PhotonDPhi','l2PhotonDR','l2PhotonM','l2PhotonPt',\n",
    "                'dileptonPhotonDEta','dileptonPhotonDPhi','dileptonPhotonDR',\n",
    "                'nMuons','nElectrons','nPhotons','nJets','nBJets',\n",
    "                'passElectronVeto',\n",
    "                ]          \n",
    "        elif selection == \"mumu\":\n",
    "            run = ['B','C','D','E','F']\n",
    "            DataGen = 'rereco'\n",
    "            #SampleSet = 'V1'\n",
    "            #SampleSet = 'V2_puWeight'\n",
    "            SampleSet = 'V2_puWeight_phID'\n",
    "\n",
    "            LoadVars = [\n",
    "                'runNumber','evtNumber',\n",
    "                'nPV','nPU','Rho', 'met',\n",
    "                'genWeight','eventWeight','puWeight','triggerWeight','photonIDWeight',\"photonIsConvWeight\",\n",
    "                'genPhotonFHPFS','genPhotonIPFS',\n",
    "                'leptonOnePt','leptonOneEta','leptonOnePhi','leptonOneIso','leptonOneCharge',\n",
    "                'leptonTwoPt','leptonTwoEta','leptonTwoPhi','leptonTwoIso','leptonTwoCharge',\n",
    "                'photonOnePt','photonOneEta','photonOnePhi',\n",
    "                'photonOneR9','photonOneMVA','photonOneERes','photonOneSieie',\n",
    "                'photonOneHoverE','photonOneIneu','photonOneIph','photonOneIch',\n",
    "                'photonOneSieip','photonOneSipip','photonOneSrr','photonOneE2x2','photonOneE5x5',\n",
    "                'photonOneScEtaWidth','photonOneScPhiWidth',\n",
    "                'photonOneScRawE','photonOnePreShowerE','photonOneScBrem',\n",
    "                'genPhotonPt',\n",
    "                'vetoDY','genIsoPass',\n",
    "                'dileptonPt','dileptonEta','dileptonPhi','dileptonM',\n",
    "                'llgPt','llgEta','llgPhi','llgM',\n",
    "                'dileptonDEta','dileptonDPhi','dileptonDR',\n",
    "                'l1PhotonDEta','l1PhotonDPhi','l1PhotonDR','l1PhotonM','l1PhotonPt',\n",
    "                'l2PhotonDEta','l2PhotonDPhi','l2PhotonDR','l2PhotonM','l2PhotonPt',\n",
    "                'dileptonPhotonDEta','dileptonPhotonDPhi','dileptonPhotonDR',\n",
    "                'nMuons','nElectrons','nPhotons','nJets','nBJets',\n",
    "                'passElectronVeto',\n",
    "                ]        \n",
    "        elif selection == \"ee\":\n",
    "            run = ['B','C','D','E','F']\n",
    "            #run = ['D']\n",
    "            DataGen = 'rereco'\n",
    "            #SampleSet = 'EfficiencyCorrection/files_zee/CorrShower'\n",
    "            SampleSet = 'EfficiencyCorrection/files_zee/V4_phID_isConv'\n",
    "\n",
    "            LoadVars = [\n",
    "                        #'runNumber','evtNumber',\n",
    "                        'nPV',\n",
    "                        'nPU',\n",
    "\n",
    "                        #'genWeight',\n",
    "                        'eventWeight','puWeight',\n",
    "                        #'triggerWeight','photonIDWeight',\n",
    "                        'photonOneEta',\n",
    "                        #'leptonOneCharge','leptonTwoCharge',\n",
    "                        #'photonOneMVA',\n",
    "                        #'photonOneERes',\n",
    "\n",
    "                        ############################# \n",
    "\n",
    "                        #'photonOneR9',\n",
    "                        'photonOneSieie',\n",
    "                        #'photonOneHoverE',\n",
    "\n",
    "                        #'photonOneIneu','photonOneIph','photonOneIch',\n",
    "                        #'photonOneSieip',\n",
    "                        #'photonOneSipip',\n",
    "                        #'photonOneSrr',\n",
    "                        #'photonOneE2x2',\n",
    "                        #'photonOneE5x5',\n",
    "                        #'photonOneScEtaWidth',\n",
    "                        #'photonOneScPhiWidth',\n",
    "                        #'photonOneScRawE',\n",
    "                        #'photonOnePhi',\n",
    "                        #'photonOnePreShowerE',\n",
    "                        #'photonOneScBrem',\n",
    "                        #'Rho',\n",
    "                        ##############################\n",
    "                        #'genPhotonPt',\n",
    "                        #'vetoDY',\n",
    "                        #'genIsoPass',\n",
    "                        #'passElectronVeto',\n",
    "                        'ProbeIDPass','ProbeWorstPass',\n",
    "                        ]\n",
    "    elif era == \"2018\":\n",
    "        if selection == \"mumug\":\n",
    "            run = ['A','B','C','D']\n",
    "            DataGen = 'rereco'\n",
    "            #SampleSet = 'V1_trigBits'\n",
    "            SampleSet = 'V2_trigBits_pu'\n",
    "\n",
    "            LoadVars = [\n",
    "                'runNumber','evtNumber',\n",
    "                'nPV','nPU','Rho', 'met',\n",
    "                'genWeight','eventWeight','puWeight','triggerWeight','photonIDWeight',\"photonIsConvWeight\",\n",
    "                'genPhotonFHPFS','genPhotonIPFS',\n",
    "                'leptonOnePt','leptonOneEta','leptonOnePhi','leptonOneIso','leptonOneCharge',\n",
    "                'leptonTwoPt','leptonTwoEta','leptonTwoPhi','leptonTwoIso','leptonTwoCharge',\n",
    "                'photonOnePt','photonOneEta','photonOnePhi',\n",
    "                'photonOneR9','photonOneMVA','photonOneERes','photonOneSieie',\n",
    "                'photonOneHoverE','photonOneIneu','photonOneIph','photonOneIch',\n",
    "                'photonOneSieip','photonOneSipip','photonOneSrr','photonOneE2x2','photonOneE5x5',\n",
    "                'photonOneScEtaWidth','photonOneScPhiWidth',\n",
    "                'photonOneScRawE','photonOnePreShowerE','photonOneScBrem',\n",
    "                'genPhotonPt',\n",
    "                'vetoDY','genIsoPass',\n",
    "                'dileptonPt','dileptonEta','dileptonPhi','dileptonM',\n",
    "                'llgPt','llgEta','llgPhi','llgM',\n",
    "                'dileptonDEta','dileptonDPhi','dileptonDR',\n",
    "                'l1PhotonDEta','l1PhotonDPhi','l1PhotonDR','l1PhotonM','l1PhotonPt',\n",
    "                'l2PhotonDEta','l2PhotonDPhi','l2PhotonDR','l2PhotonM','l2PhotonPt',\n",
    "                'dileptonPhotonDEta','dileptonPhotonDPhi','dileptonPhotonDR',\n",
    "                'nMuons','nElectrons','nPhotons','nJets','nBJets',\n",
    "                'passElectronVeto',\n",
    "                ] \n",
    "        elif selection == \"elelg\":\n",
    "            run = ['A','B','C','D']\n",
    "            DataGen = 'rereco'\n",
    "            SampleSet = 'V1_trigBits'\n",
    "\n",
    "            LoadVars = [\n",
    "                'runNumber','evtNumber',\n",
    "                'nPV','nPU','Rho', 'met',\n",
    "                'genWeight','eventWeight','puWeight','triggerWeight','photonIDWeight',\"photonIsConvWeight\",\n",
    "                'genPhotonFHPFS','genPhotonIPFS',\n",
    "                'leptonOnePt','leptonOneEta','leptonOnePhi','leptonOneIso','leptonOneCharge',\n",
    "                'leptonTwoPt','leptonTwoEta','leptonTwoPhi','leptonTwoIso','leptonTwoCharge',\n",
    "                'photonOnePt','photonOneEta','photonOnePhi',\n",
    "                'photonOneR9','photonOneMVA','photonOneERes','photonOneSieie',\n",
    "                'photonOneHoverE','photonOneIneu','photonOneIph','photonOneIch',\n",
    "                'photonOneSieip','photonOneSipip','photonOneSrr','photonOneE2x2','photonOneE5x5',\n",
    "                'photonOneScEtaWidth','photonOneScPhiWidth',\n",
    "                'photonOneScRawE','photonOnePreShowerE','photonOneScBrem',\n",
    "                'genPhotonPt',\n",
    "                'vetoDY','genIsoPass',\n",
    "                'dileptonPt','dileptonEta','dileptonPhi','dileptonM',\n",
    "                'llgPt','llgEta','llgPhi','llgM',\n",
    "                'dileptonDEta','dileptonDPhi','dileptonDR',\n",
    "                'l1PhotonDEta','l1PhotonDPhi','l1PhotonDR','l1PhotonM','l1PhotonPt',\n",
    "                'l2PhotonDEta','l2PhotonDPhi','l2PhotonDR','l2PhotonM','l2PhotonPt',\n",
    "                'dileptonPhotonDEta','dileptonPhotonDPhi','dileptonPhotonDR',\n",
    "                'nMuons','nElectrons','nPhotons','nJets','nBJets',\n",
    "                'passElectronVeto',\n",
    "                ]          \n",
    "        elif selection == \"mumu\":\n",
    "            run = ['A','B','C','D']\n",
    "            DataGen = 'rereco'\n",
    "            SampleSet = 'V1_trigBits'\n",
    "\n",
    "            LoadVars = [\n",
    "                'runNumber','evtNumber',\n",
    "                'nPV','nPU','Rho', 'met',\n",
    "                'genWeight','eventWeight','puWeight','triggerWeight','photonIDWeight',\"photonIsConvWeight\",\n",
    "                'genPhotonFHPFS','genPhotonIPFS',\n",
    "                'leptonOnePt','leptonOneEta','leptonOnePhi','leptonOneIso','leptonOneCharge',\n",
    "                'leptonTwoPt','leptonTwoEta','leptonTwoPhi','leptonTwoIso','leptonTwoCharge',\n",
    "                'photonOnePt','photonOneEta','photonOnePhi',\n",
    "                'photonOneR9','photonOneMVA','photonOneERes','photonOneSieie',\n",
    "                'photonOneHoverE','photonOneIneu','photonOneIph','photonOneIch',\n",
    "                'photonOneSieip','photonOneSipip','photonOneSrr','photonOneE2x2','photonOneE5x5',\n",
    "                'photonOneScEtaWidth','photonOneScPhiWidth',\n",
    "                'photonOneScRawE','photonOnePreShowerE','photonOneScBrem',\n",
    "                'genPhotonPt',\n",
    "                'vetoDY','genIsoPass',\n",
    "                'dileptonPt','dileptonEta','dileptonPhi','dileptonM',\n",
    "                'llgPt','llgEta','llgPhi','llgM',\n",
    "                'dileptonDEta','dileptonDPhi','dileptonDR',\n",
    "                'l1PhotonDEta','l1PhotonDPhi','l1PhotonDR','l1PhotonM','l1PhotonPt',\n",
    "                'l2PhotonDEta','l2PhotonDPhi','l2PhotonDR','l2PhotonM','l2PhotonPt',\n",
    "                'dileptonPhotonDEta','dileptonPhotonDPhi','dileptonPhotonDR',\n",
    "                'nMuons','nElectrons','nPhotons','nJets','nBJets',\n",
    "                'passElectronVeto',\n",
    "                ]        \n",
    "        elif selection == \"ee\":\n",
    "            run = ['A','B','C','D']\n",
    "            DataGen = 'rereco'\n",
    "            #SampleSet = 'V1_trigBits'\n",
    "            #SampleSet = 'EfficiencyCorrection/files_zee/CorrShower'\n",
    "            SampleSet = 'EfficiencyCorrection/files_zee/V4_phID_isConv'\n",
    "\n",
    "            LoadVars = [\n",
    "                        #'runNumber','evtNumber',\n",
    "                        'nPV',\n",
    "                        'nPU',\n",
    "\n",
    "                        #'genWeight',\n",
    "                        'eventWeight','puWeight',\n",
    "                        #'triggerWeight','photonIDWeight',\n",
    "                        'photonOneEta',\n",
    "                        #'leptonOneCharge','leptonTwoCharge',\n",
    "                        #'photonOneMVA',\n",
    "                        #'photonOneERes',\n",
    "\n",
    "                        ############################# \n",
    "\n",
    "                        #'photonOneR9',\n",
    "                        'photonOneSieie',\n",
    "                        #'photonOneHoverE',\n",
    "\n",
    "                        #'photonOneIneu','photonOneIph','photonOneIch',\n",
    "                        #'photonOneSieip',\n",
    "                        #'photonOneSipip',\n",
    "                        #'photonOneSrr',\n",
    "                        #'photonOneE2x2',\n",
    "                        #'photonOneE5x5',\n",
    "                        #'photonOneScEtaWidth',\n",
    "                        #'photonOneScPhiWidth',\n",
    "                        #'photonOneScRawE',\n",
    "                        #'photonOnePhi',\n",
    "                        #'photonOnePreShowerE',\n",
    "                        #'photonOneScBrem',\n",
    "                        #'Rho',\n",
    "                        ##############################\n",
    "                        #'genPhotonPt',\n",
    "                        #'vetoDY',\n",
    "                        #'genIsoPass',\n",
    "                        #'passElectronVeto',\n",
    "                        'ProbeIDPass','ProbeWorstPass',\n",
    "                        ] \n",
    "    \n",
    "    pathMVA = \"/home/jcordero/CMS/data/data_\"+era+\"/\"+DataGen+\"/SMP_ZG/Files/ShowerShapeMVA/\"\n",
    "    path    = \"/home/jcordero/CMS/data/data_\"+era+\"/\"+DataGen+\"/SMP_ZG/Files/\"+selection+\"/\"+SampleSet+\"/\"\n",
    "    figpath = \"/home/jcordero/CMS/data/JYCMCMS/SMP_ZG/figs/\"+era+\"/\"+DataGen+\"/\"+selection+\"/\"\n",
    "    pathSelection = \"/home/jcordero/CMS/data/data_\"+era+\"/\"+DataGen+\"/SMP_ZG/Files/\"+selection+\"/\"+SampleSet+\"/Reduced\"\n",
    "\n",
    "    config = Config(\n",
    "                    path       = path,\n",
    "                    era        = era,\n",
    "                    DataGen    = DataGen,\n",
    "                    run        = run,\n",
    "                    selection  = selection,\n",
    "                    LoadVars   = LoadVars,\n",
    "                    )\n",
    "    \n",
    "    return config, pathMVA, path, figpath, pathSelection"
   ]
  },
  {
   "cell_type": "code",
   "execution_count": 7,
   "metadata": {
    "code_folding": [],
    "scrolled": true
   },
   "outputs": [
    {
     "ename": "FileNotFoundError",
     "evalue": "[Errno 2] No such file or directory: '../conf/config'",
     "output_type": "error",
     "traceback": [
      "\u001b[0;31m---------------------------------------------------------------------------\u001b[0m",
      "\u001b[0;31mFileNotFoundError\u001b[0m                         Traceback (most recent call last)",
      "\u001b[0;32m<ipython-input-7-bde9853d010b>\u001b[0m in \u001b[0;36m<module>\u001b[0;34m\u001b[0m\n\u001b[1;32m      7\u001b[0m \u001b[0mera\u001b[0m \u001b[0;34m=\u001b[0m \u001b[0;34m\"2018\"\u001b[0m\u001b[0;34m\u001b[0m\u001b[0;34m\u001b[0m\u001b[0m\n\u001b[1;32m      8\u001b[0m \u001b[0;34m\u001b[0m\u001b[0m\n\u001b[0;32m----> 9\u001b[0;31m \u001b[0mconfig\u001b[0m\u001b[0;34m,\u001b[0m \u001b[0mpathMVA\u001b[0m\u001b[0;34m,\u001b[0m \u001b[0mpath\u001b[0m\u001b[0;34m,\u001b[0m \u001b[0mfigpath\u001b[0m\u001b[0;34m,\u001b[0m \u001b[0mpathSelections\u001b[0m \u001b[0;34m=\u001b[0m \u001b[0msetConfiguration\u001b[0m\u001b[0;34m(\u001b[0m\u001b[0mselection\u001b[0m\u001b[0;34m,\u001b[0m\u001b[0mera\u001b[0m\u001b[0;34m)\u001b[0m\u001b[0;34m\u001b[0m\u001b[0;34m\u001b[0m\u001b[0m\n\u001b[0m\u001b[1;32m     10\u001b[0m \u001b[0;34m\u001b[0m\u001b[0m\n\u001b[1;32m     11\u001b[0m \u001b[0mfigpath\u001b[0m \u001b[0;34m=\u001b[0m \u001b[0mdirStructure\u001b[0m\u001b[0;34m(\u001b[0m\u001b[0mfigpath\u001b[0m\u001b[0;34m)\u001b[0m\u001b[0;34m\u001b[0m\u001b[0;34m\u001b[0m\u001b[0m\n",
      "\u001b[0;32m<ipython-input-6-75bc7a31ba5e>\u001b[0m in \u001b[0;36msetConfiguration\u001b[0;34m(selection, era)\u001b[0m\n\u001b[1;32m    272\u001b[0m                     \u001b[0mrun\u001b[0m        \u001b[0;34m=\u001b[0m \u001b[0mrun\u001b[0m\u001b[0;34m,\u001b[0m\u001b[0;34m\u001b[0m\u001b[0;34m\u001b[0m\u001b[0m\n\u001b[1;32m    273\u001b[0m                     \u001b[0mselection\u001b[0m  \u001b[0;34m=\u001b[0m \u001b[0mselection\u001b[0m\u001b[0;34m,\u001b[0m\u001b[0;34m\u001b[0m\u001b[0;34m\u001b[0m\u001b[0m\n\u001b[0;32m--> 274\u001b[0;31m                     \u001b[0mLoadVars\u001b[0m   \u001b[0;34m=\u001b[0m \u001b[0mLoadVars\u001b[0m\u001b[0;34m,\u001b[0m\u001b[0;34m\u001b[0m\u001b[0;34m\u001b[0m\u001b[0m\n\u001b[0m\u001b[1;32m    275\u001b[0m                     )\n\u001b[1;32m    276\u001b[0m \u001b[0;34m\u001b[0m\u001b[0m\n",
      "\u001b[0;32m~/CMS/SMP_ZGamma/python/Config.py\u001b[0m in \u001b[0;36m__init__\u001b[0;34m(self, path, era, DataGen, selection, run, LoadVars)\u001b[0m\n\u001b[1;32m     21\u001b[0m     \u001b[0;32mdef\u001b[0m \u001b[0m__init__\u001b[0m\u001b[0;34m(\u001b[0m\u001b[0mself\u001b[0m\u001b[0;34m,\u001b[0m \u001b[0mpath\u001b[0m\u001b[0;34m,\u001b[0m \u001b[0mera\u001b[0m\u001b[0;34m,\u001b[0m \u001b[0mDataGen\u001b[0m\u001b[0;34m,\u001b[0m \u001b[0mselection\u001b[0m\u001b[0;34m,\u001b[0m \u001b[0mrun\u001b[0m\u001b[0;34m,\u001b[0m \u001b[0mLoadVars\u001b[0m \u001b[0;34m=\u001b[0m \u001b[0;34m[\u001b[0m\u001b[0;34m]\u001b[0m\u001b[0;34m)\u001b[0m\u001b[0;34m:\u001b[0m\u001b[0;34m\u001b[0m\u001b[0;34m\u001b[0m\u001b[0m\n\u001b[1;32m     22\u001b[0m         \u001b[0mself\u001b[0m\u001b[0;34m.\u001b[0m\u001b[0mconfdir\u001b[0m \u001b[0;34m=\u001b[0m \u001b[0;34m\"../conf/config\"\u001b[0m\u001b[0;34m\u001b[0m\u001b[0;34m\u001b[0m\u001b[0m\n\u001b[0;32m---> 23\u001b[0;31m         \u001b[0mself\u001b[0m\u001b[0;34m.\u001b[0m\u001b[0mprojectdir\u001b[0m \u001b[0;34m=\u001b[0m \u001b[0mself\u001b[0m\u001b[0;34m.\u001b[0m\u001b[0m__getProjectDir\u001b[0m\u001b[0;34m(\u001b[0m\u001b[0;34m)\u001b[0m\u001b[0;34m\u001b[0m\u001b[0;34m\u001b[0m\u001b[0m\n\u001b[0m\u001b[1;32m     24\u001b[0m         \u001b[0mself\u001b[0m\u001b[0;34m.\u001b[0m\u001b[0mpath\u001b[0m \u001b[0;34m=\u001b[0m \u001b[0mpath\u001b[0m\u001b[0;34m\u001b[0m\u001b[0;34m\u001b[0m\u001b[0m\n\u001b[1;32m     25\u001b[0m         \u001b[0mself\u001b[0m\u001b[0;34m.\u001b[0m\u001b[0mera\u001b[0m  \u001b[0;34m=\u001b[0m \u001b[0mera\u001b[0m\u001b[0;34m\u001b[0m\u001b[0;34m\u001b[0m\u001b[0m\n",
      "\u001b[0;32m~/CMS/SMP_ZGamma/python/Config.py\u001b[0m in \u001b[0;36m__getProjectDir\u001b[0;34m(self)\u001b[0m\n\u001b[1;32m     65\u001b[0m \u001b[0;34m\u001b[0m\u001b[0m\n\u001b[1;32m     66\u001b[0m     \u001b[0;32mdef\u001b[0m \u001b[0m__getProjectDir\u001b[0m\u001b[0;34m(\u001b[0m\u001b[0mself\u001b[0m\u001b[0;34m)\u001b[0m\u001b[0;34m:\u001b[0m\u001b[0;34m\u001b[0m\u001b[0;34m\u001b[0m\u001b[0m\n\u001b[0;32m---> 67\u001b[0;31m         \u001b[0;32mwith\u001b[0m \u001b[0mopen\u001b[0m\u001b[0;34m(\u001b[0m\u001b[0mself\u001b[0m\u001b[0;34m.\u001b[0m\u001b[0mconfdir\u001b[0m\u001b[0;34m)\u001b[0m \u001b[0;32mas\u001b[0m \u001b[0mf\u001b[0m\u001b[0;34m:\u001b[0m\u001b[0;34m\u001b[0m\u001b[0;34m\u001b[0m\u001b[0m\n\u001b[0m\u001b[1;32m     68\u001b[0m             \u001b[0mprojectdir\u001b[0m \u001b[0;34m=\u001b[0m \u001b[0mf\u001b[0m\u001b[0;34m.\u001b[0m\u001b[0mread\u001b[0m\u001b[0;34m(\u001b[0m\u001b[0;34m)\u001b[0m\u001b[0;34m\u001b[0m\u001b[0;34m\u001b[0m\u001b[0m\n\u001b[1;32m     69\u001b[0m         \u001b[0;32mreturn\u001b[0m \u001b[0mprojectdir\u001b[0m\u001b[0;34m.\u001b[0m\u001b[0msplit\u001b[0m\u001b[0;34m(\u001b[0m\u001b[0;34m'\\n'\u001b[0m\u001b[0;34m)\u001b[0m\u001b[0;34m[\u001b[0m\u001b[0;36m0\u001b[0m\u001b[0;34m]\u001b[0m\u001b[0;34m\u001b[0m\u001b[0;34m\u001b[0m\u001b[0m\n",
      "\u001b[0;31mFileNotFoundError\u001b[0m: [Errno 2] No such file or directory: '../conf/config'"
     ]
    }
   ],
   "source": [
    "selection = 'mumug'\n",
    "#selection = 'elelg'\n",
    "#selection = 'ee'\n",
    "\n",
    "#era = \"2016\"\n",
    "#era = \"2017\"\n",
    "era = \"2018\"\n",
    "\n",
    "config, pathMVA, path, figpath, pathSelections = setConfiguration(selection,era)\n",
    "\n",
    "figpath = dirStructure(figpath)   \n",
    "\n",
    "\n",
    "Help    = Helper(era)\n",
    "Help.SetPath(path)\n",
    "Help.figpath = figpath\n",
    "\n",
    "Plotter = Plotter()\n",
    "Plotter.SetFig(Help.figpath)\n",
    "\n",
    "Cut     = Cuts(path = Help.path)\n"
   ]
  },
  {
   "cell_type": "code",
   "execution_count": 9,
   "metadata": {},
   "outputs": [],
   "source": [
    "Read = Reader(config)"
   ]
  },
  {
   "cell_type": "code",
   "execution_count": null,
   "metadata": {},
   "outputs": [],
   "source": [
    "data = Read.read( reduce = False )"
   ]
  },
  {
   "cell_type": "code",
   "execution_count": null,
   "metadata": {},
   "outputs": [],
   "source": []
  },
  {
   "cell_type": "markdown",
   "metadata": {},
   "source": [
    "# Analyser"
   ]
  },
  {
   "cell_type": "code",
   "execution_count": 8,
   "metadata": {},
   "outputs": [
    {
     "name": "stderr",
     "output_type": "stream",
     "text": [
      "/home/jcordero/CMS/JYCMCMS/SMP_ZG/python/Cuts/Cuts.py:336: RuntimeWarning: invalid value encountered in greater_equal\n",
      "  np.array(d.df.photonOneIch_EB) >= IchRange['EB'][0],\n",
      "/home/jcordero/CMS/JYCMCMS/SMP_ZG/python/Cuts/Cuts.py:337: RuntimeWarning: invalid value encountered in greater_equal\n",
      "  np.array(d.df.photonOneIch_EE) >= IchRange['EE'][0]\n",
      "/home/jcordero/CMS/JYCMCMS/SMP_ZG/python/Cuts/Cuts.py:341: RuntimeWarning: invalid value encountered in less\n",
      "  np.array(d.df.photonOneIch_EB) < IchRange['EB'][1],\n",
      "/home/jcordero/CMS/JYCMCMS/SMP_ZG/python/Cuts/Cuts.py:342: RuntimeWarning: invalid value encountered in less\n",
      "  np.array(d.df.photonOneIch_EE) < IchRange['EE'][1]\n",
      "/home/jcordero/CMS/JYCMCMS/SMP_ZG/python/Cuts/Cuts.py:348: RuntimeWarning: invalid value encountered in greater\n",
      "  Dp2_Region = np.logical_or(np.array(d.df.photonOneSieie_EB) > 0.0122,\n",
      "/home/jcordero/CMS/JYCMCMS/SMP_ZG/python/Cuts/Cuts.py:349: RuntimeWarning: invalid value encountered in greater\n",
      "  np.array(d.df.photonOneSieie_EE) > 0.036\n"
     ]
    }
   ],
   "source": [
    "################################\n",
    "#stacked = False\n",
    "stacked = True\n",
    "\n",
    "LOG = 'both'\n",
    "log = False\n",
    "#log = True\n",
    "\n",
    "#phType = 'ISR'\n",
    "#phType = 'FSR'\n",
    "phType = ''\n",
    "\n",
    "\n",
    "ShowerShapeCorrection = True\n",
    "#ShowerShapeCorrection = False\n",
    "\n",
    "if selection == \"mumug\" or selection == \"elelg\":\n",
    "    lgmDR = True\n",
    "elif selection == \"ee\":\n",
    "    lgmDR = False\n",
    "\n",
    "################\n",
    "\n",
    "#Region = ''\n",
    "\n",
    "#Region = 'A'\n",
    "#Region = 'B'\n",
    "#Region = 'C'\n",
    "#Region = 'D'\n",
    "\n",
    "#Region = 'Ap'\n",
    "#Region = 'Bp'\n",
    "#Region = 'Cp'\n",
    "#Region = 'Dp'\n",
    "\n",
    "\n",
    "#Region = 'AB'\n",
    "#Region = 'CD'\n",
    "\n",
    "#Region = 'Sig'\n",
    "#Region = 'Inv Sig'\n",
    "\n",
    "#Region = 'Sideband'\n",
    "#Region = 'Compare'\n",
    "\n",
    "\n",
    "#Region = ['Sig','IPFS']\n",
    "#Region = ['Sig','noIPFS']\n",
    "#Region = ['Inv Sig','IPFS']\n",
    "#Region = ['Inv Sig','noIPFS']\n",
    "\n",
    "################\n",
    "\n",
    "Charge = 'oposite'\n",
    "#Charge = 'same'\n",
    "#Charge = ''\n",
    "\n",
    "#customRange = True\n",
    "customRange = False\n",
    "\n",
    "weightCorrection = True\n",
    "#weightCorrection = False\n",
    "\n",
    "#StatInclude = False\n",
    "StatInclude = True\n",
    "\n",
    "MVA = False\n",
    "#MVA = True\n",
    "\n",
    "vetoDY = True\n",
    "#vetoDY = False\n",
    "\n",
    "Print = False\n",
    "#Print = True\n",
    "\n",
    "###############################\n",
    "if stacked:\n",
    "    Fol  = 'Stacked'\n",
    "    stackLab  = ''\n",
    "    histtype  = 'stepfilled'\n",
    "    density   = False\n",
    "    linewidth = 1\n",
    "else:\n",
    "    Fol  = 'Unstacked'\n",
    "    stackLab  = ''\n",
    "    histtype  = 'step'\n",
    "    density   = True\n",
    "    #density = False\n",
    "    linewidth = 1.7\n",
    "###############################    \n",
    "\n",
    "######## CUTS ##############\n",
    "Cut.PhaseSpace(\n",
    "                data,\n",
    "                phType = phType,\n",
    "                Charge = Charge,\n",
    "                Region = Region,\n",
    "                Print  = Print,\n",
    "                vetoDY = vetoDY,\n",
    "                lgmDR  = lgmDR,\n",
    "                MVA    = MVA,\n",
    "              )\n",
    "\n",
    "for d in data[:-1]:\n",
    "    if not d.df.empty:\n",
    "        d.AddCuts(np.array(d.df.nPU) > 0) \n",
    "        \n",
    "#for d in data[:-1]:\n",
    "#    if not d.df.empty:\n",
    "#        d.AddCuts(np.array(d.df.photonOnePt) > 100)\n",
    "###############################"
   ]
  },
  {
   "cell_type": "code",
   "execution_count": null,
   "metadata": {},
   "outputs": [],
   "source": []
  },
  {
   "cell_type": "markdown",
   "metadata": {},
   "source": [
    "# ShowerShape"
   ]
  },
  {
   "cell_type": "code",
   "execution_count": 9,
   "metadata": {},
   "outputs": [],
   "source": [
    "from Corrections.ShowerShape import ShowerShape"
   ]
  },
  {
   "cell_type": "code",
   "execution_count": 10,
   "metadata": {},
   "outputs": [],
   "source": [
    "SS = ShowerShape(config)\n",
    "SS.loadToGraph()"
   ]
  },
  {
   "cell_type": "code",
   "execution_count": 11,
   "metadata": {},
   "outputs": [],
   "source": [
    "inMVA = SS.SSCorrected(data)"
   ]
  },
  {
   "cell_type": "markdown",
   "metadata": {},
   "source": [
    "# BDT READ"
   ]
  },
  {
   "cell_type": "code",
   "execution_count": 12,
   "metadata": {},
   "outputs": [],
   "source": [
    "from Corrections.MVA import MVA"
   ]
  },
  {
   "cell_type": "code",
   "execution_count": 13,
   "metadata": {},
   "outputs": [],
   "source": [
    "MVA = MVA(config,SS.mva_to_ntuple)"
   ]
  },
  {
   "cell_type": "code",
   "execution_count": 14,
   "metadata": {},
   "outputs": [
    {
     "name": "stdout",
     "output_type": "stream",
     "text": [
      "                         : Booking \"BDT\" of type \"BDT\" from /home/jcordero/CMS/data_2017/rereco/SMP_ZG/Files/ShowerShapeMVA/fall17_94X_EE_TMVAnalysis_BDT.weights.xml.\n",
      "                         : Reading weight file: /home/jcordero/CMS/data_2017/rereco/SMP_ZG/Files/ShowerShapeMVA/fall17_94X_EE_TMVAnalysis_BDT.weights.xml\n",
      "<HEADER> DataSetInfo              : [Default] : Added class \"Signal\"\n",
      "<HEADER> DataSetInfo              : [Default] : Added class \"Background\"\n",
      "                         : Booked classifier \"BDT\" of type: \"BDT\"\n",
      "                         : Booking \"BDT\" of type \"BDT\" from /home/jcordero/CMS/data_2017/rereco/SMP_ZG/Files/ShowerShapeMVA/fall17_94X_EB_TMVAnalysis_BDT.weights.xml.\n",
      "                         : Reading weight file: /home/jcordero/CMS/data_2017/rereco/SMP_ZG/Files/ShowerShapeMVA/fall17_94X_EB_TMVAnalysis_BDT.weights.xml\n",
      "<HEADER> DataSetInfo              : [Default] : Added class \"Signal\"\n",
      "<HEADER> DataSetInfo              : [Default] : Added class \"Background\"\n",
      "                         : Booked classifier \"BDT\" of type: \"BDT\"\n"
     ]
    }
   ],
   "source": [
    "MVA.loadMVA()"
   ]
  },
  {
   "cell_type": "code",
   "execution_count": 15,
   "metadata": {},
   "outputs": [
    {
     "name": "stdout",
     "output_type": "stream",
     "text": [
      "=============EE============\n",
      "-------- DYJets ------- 24852\n",
      "-------- ZGToLLG ------- 1522\n",
      "-------- WJets ------- 0\n",
      "-------- TTTo2L2Nu ------- 182\n",
      "-------- WWTo2L2Nu ------- 30444\n",
      "-------- DoubleMuon_2017 ------- 21755\n",
      "=============EB============\n",
      "-------- DYJets ------- 24852\n",
      "-------- ZGToLLG ------- 1522\n",
      "-------- WJets ------- 0\n",
      "-------- TTTo2L2Nu ------- 182\n",
      "-------- WWTo2L2Nu ------- 30444\n",
      "-------- DoubleMuon_2017 ------- 21755\n"
     ]
    }
   ],
   "source": [
    "MVA.readMVA(data, inMVA)"
   ]
  },
  {
   "cell_type": "markdown",
   "metadata": {},
   "source": [
    "# Saving to Reduced CSV"
   ]
  },
  {
   "cell_type": "code",
   "execution_count": null,
   "metadata": {},
   "outputs": [],
   "source": [
    "\n",
    "##################################################\n",
    "if type(Region) is not list and type(Region) is not np.ndarray:\n",
    "    labelRegion = Region.replace(\" \",\"\")\n",
    "else:\n",
    "    labelRegion = ''\n",
    "    for r in Region:\n",
    "        labelRegion += r.replace(\" \",\"\")\n",
    "##################################################\n",
    "\n",
    "for d in data:\n",
    "    print(\"---------\"+d.name+\"-----------\")\n",
    "    df = pd.DataFrame({name:d.GetWithCuts(name) for name in data[0].df.keys()})\n",
    "\n",
    "    variable = 'weights'\n",
    "    df[variable] = d.GetWithCuts(variable)\n",
    "\n",
    "    df[\"ShowerShapeMVA_EE\"] = MVA.BDT['EE'][d.name]\n",
    "    df[\"ShowerShapeMVA_EB\"] = MVA.BDT['EB'][d.name]\n",
    "\n",
    "    df.to_csv(pathSelections+'/'+d.name+'_'+labelRegion+'.csv')\n"
   ]
  },
  {
   "cell_type": "markdown",
   "metadata": {},
   "source": [
    "# ------------- PLOTS"
   ]
  },
  {
   "cell_type": "code",
   "execution_count": null,
   "metadata": {},
   "outputs": [],
   "source": []
  },
  {
   "cell_type": "code",
   "execution_count": null,
   "metadata": {},
   "outputs": [],
   "source": []
  },
  {
   "cell_type": "code",
   "execution_count": null,
   "metadata": {},
   "outputs": [],
   "source": []
  },
  {
   "cell_type": "code",
   "execution_count": null,
   "metadata": {},
   "outputs": [],
   "source": [
    "bins  = np.arange(-1,1.1,step=0.1)\n",
    "\n",
    "bdt = {}\n",
    "for phType in ['EB','EE']:\n",
    "    bdt[phType] = []\n",
    "    \n",
    "    Cut.PhaseSpace(\n",
    "                data,\n",
    "                phType = '',\n",
    "                Charge = Charge,\n",
    "                Region = 'Sig',\n",
    "                Print  = Print,\n",
    "                MVA    = MVA,\n",
    "              ) \n",
    "    \n",
    "    for d,i in zip(data,range(len(data))):\n",
    "        if not d.df.empty and d.name != 'DoubleMuon_2017':\n",
    "            d.AddCuts(np.array(d.df.nPU) > 0)\n",
    "        \n",
    "        if phType == 'EB':\n",
    "            Ind = np.abs(d.GetWithCuts('photonOneEta') < 1.4442)\n",
    "        else:\n",
    "            Ind = np.logical_and(np.abs(d.GetWithCuts('photonOneEta')) > 1.5666,\n",
    "                                 np.abs(d.GetWithCuts('photonOneEta')) <= 2.5\n",
    "                                )\n",
    "\n",
    "        \n",
    "        if len(BDT[phType][d.name]) != 0:\n",
    "            bdtH,x = np.histogram(np.array(BDT[phType][d.name])[Ind],\n",
    "                                 bins    = bins,\n",
    "                                 weights = data[i].GetWithCuts('weights')[Ind]\n",
    "                                )\n",
    "        else:\n",
    "            bdtH = np.zeros(len(bins)-1)\n",
    "        bdt[phType].append(bdtH)"
   ]
  },
  {
   "cell_type": "code",
   "execution_count": null,
   "metadata": {},
   "outputs": [],
   "source": [
    "Name = [d.name for d in data]\n"
   ]
  },
  {
   "cell_type": "code",
   "execution_count": null,
   "metadata": {},
   "outputs": [],
   "source": [
    "for log in [True,False]:\n",
    "    for phType in ['EB','EE']:\n",
    "        Plotter.Plot_Bin(\n",
    "                         VAR = bdt[phType], wei=bdt,\n",
    "                         label = Name, colors = colors,\n",
    "                         ranges           = [-1,1], \n",
    "                         bins             = bins,\n",
    "                         var              = 'ShowerShapeMVA',\n",
    "                         part             =  '',\n",
    "                         signalInclude    = True,\n",
    "                         stacked          = True,\n",
    "                         density          = False,\n",
    "                         log              = log,\n",
    "                         Plotting         = True,\n",
    "                         Blind            = True,\n",
    "                         StatInclude      = False,\n",
    "                         index            = phType,\n",
    "                        );"
   ]
  },
  {
   "cell_type": "markdown",
   "metadata": {},
   "source": [
    "# -----------------------------------------------------"
   ]
  },
  {
   "cell_type": "markdown",
   "metadata": {},
   "source": [
    "# Openning file test "
   ]
  },
  {
   "cell_type": "code",
   "execution_count": null,
   "metadata": {},
   "outputs": [],
   "source": [
    "if type(Region) is not list or type(Region) is not np.nbarray:\n",
    "    labelRegion = Region.replace(\" \",\"\")\n",
    "else:\n",
    "    labelRegion = ''\n",
    "    for r in Region:\n",
    "        labelRegion += r.replace(\" \",\"\")\n",
    "\n",
    "reduced = []\n",
    "for d in data:\n",
    "    print('-----'+d.name+'--------')\n",
    "    reduced.append(pd.read_csv(pathSelections+'/'+d.name+'_'+labelRegion+'.csv'))\n"
   ]
  },
  {
   "cell_type": "markdown",
   "metadata": {},
   "source": [
    "# -----------------------------------------------------"
   ]
  }
 ],
 "metadata": {
  "kernelspec": {
   "display_name": "Python [conda env:CMSenv] *",
   "language": "python",
   "name": "conda-env-CMSenv-py"
  },
  "language_info": {
   "codemirror_mode": {
    "name": "ipython",
    "version": 3
   },
   "file_extension": ".py",
   "mimetype": "text/x-python",
   "name": "python",
   "nbconvert_exporter": "python",
   "pygments_lexer": "ipython3",
   "version": "3.6.7"
  },
  "varInspector": {
   "cols": {
    "lenName": 16,
    "lenType": 16,
    "lenVar": 40
   },
   "kernels_config": {
    "python": {
     "delete_cmd_postfix": "",
     "delete_cmd_prefix": "del ",
     "library": "var_list.py",
     "varRefreshCmd": "print(var_dic_list())"
    },
    "r": {
     "delete_cmd_postfix": ") ",
     "delete_cmd_prefix": "rm(",
     "library": "var_list.r",
     "varRefreshCmd": "cat(var_dic_list()) "
    }
   },
   "types_to_exclude": [
    "module",
    "function",
    "builtin_function_or_method",
    "instance",
    "_Feature"
   ],
   "window_display": false
  }
 },
 "nbformat": 4,
 "nbformat_minor": 2
}
