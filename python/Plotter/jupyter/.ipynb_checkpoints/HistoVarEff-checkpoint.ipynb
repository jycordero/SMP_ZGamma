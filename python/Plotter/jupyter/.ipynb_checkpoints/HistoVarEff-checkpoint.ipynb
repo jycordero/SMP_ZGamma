{
 "cells": [
  {
   "cell_type": "code",
   "execution_count": 4,
   "metadata": {},
   "outputs": [],
   "source": [
    "from Plotter.Histo import Histo\n",
    "from Plotter.HistoVar import HistoVar"
   ]
  },
  {
   "cell_type": "code",
   "execution_count": 26,
   "metadata": {},
   "outputs": [],
   "source": [
    "class HistoVarEff(  HistoVar ):\n",
    "    def __init__(self,variable=None,stack = None,Print=False):\n",
    "        HistoVar.__init__(self, variable=variable, stack=stack , Print=Print)\n",
    "\n",
    "        self.bins1 = None\n",
    "        self.bins2 = None\n",
    "        \n",
    "    def __add__(self,other):\n",
    "        if self.variable != other.variable:\n",
    "            raise BaseException(\"Variable stack must have the same variables (in the same order)\")\n",
    "            \n",
    "        histoVar = HistoVarEff(Print=self.Print)\n",
    "        histoVar.bins1, histoVar.bins2 = other.bins1, other.bins2\n",
    "        for ise, iot in zip(self,other):\n",
    "            histoVar.append(ise+iot)\n",
    "            \n",
    "        return histoVar        \n",
    "        \n",
    "    def initialize(self,Type=None,BinType=\"Optimized\",rangefile=\"ranges.csv\",binfile=\"bins.csv\"):\n",
    "        HVarStack = HistoVarEff()\n",
    "        if Type is None or Type == \"Normal\":\n",
    "            _,vardict = self.Var2Plot()\n",
    "        elif Type == \"Eff\":\n",
    "            _,vardict = self.Var2Plot_Eff(BinType)\n",
    "            HVarStack.bins1, HVarStack.bins2  = HVarStack.getGridBinning(BinType)\n",
    "    \n",
    "        for var in vardict:\n",
    "            HVarStack.append(Histo(variable = var), rangefile=rangefile, binfile=binfile)\n",
    "        return HVarStack\n",
    "        \n",
    "    def getPass(self):\n",
    "        #Pass = []\n",
    "        Pass = HistoVarEff()\n",
    "        for h in self:\n",
    "            if \"Pass\" in h.name:\n",
    "                Pass.append(h)\n",
    "                \n",
    "        Pass.bins1, Pass.bins2 = self.bins1, self.bins2\n",
    "        return Pass\n",
    "    \n",
    "    def getFail(self):\n",
    "        #Fail = []\n",
    "        Fail = HistoVarEff()\n",
    "        for h in self:\n",
    "            if \"Fail\" in h.name:\n",
    "                Fail.append(h)\n",
    "        Fail.bins1, Fail.bins2 = self.bins1, self.bins2\n",
    "        return Fail      \n",
    "    "
   ]
  },
  {
   "cell_type": "code",
   "execution_count": 27,
   "metadata": {},
   "outputs": [
    {
     "name": "stdout",
     "output_type": "stream",
     "text": [
      "bins_efficiency.csv\n",
      "([[15, 20], [20, 35], [35, 50], [50, 90], [90, 150], [150, 1500]], [[0, 1.4442], [1.566, 2.5]]) [[15, 20], [20, 35], [35, 50], [50, 90], [90, 150], [150, 1500]]\n"
     ]
    }
   ],
   "source": [
    "if __name__ == \"__main__\":\n",
    "    HV = HistoVarEff()\n",
    "    variable = {\"part\":\"dilepton\",\n",
    "                \"var\":\"M\",\n",
    "                \"ph\":\"\",\n",
    "                }\n",
    "    \n",
    "    binfile= \"bins_efficiency.csv\"\n",
    "    \n",
    "    #print(HV._getRanges(**variable))    \n",
    "    #print(HV._getBins(**variable,sourcefile=binfile))\n",
    "    HV = HV.initialize(Type = \"Eff\",BinType=\"Optimized\",binfile=binfile)\n",
    "    #for h in HV.initialize(Type = \"Eff\",BinType=\"Optimized\",binfile=binfile):\n",
    "    #    print(h.bins)\n",
    "    print(HV.getGridBinning(\"Optimized\"),HV.bins1)"
   ]
  },
  {
   "cell_type": "code",
   "execution_count": null,
   "metadata": {},
   "outputs": [],
   "source": []
  }
 ],
 "metadata": {
  "kernelspec": {
   "display_name": "SMP",
   "language": "python",
   "name": "smp"
  },
  "language_info": {
   "codemirror_mode": {
    "name": "ipython",
    "version": 3
   },
   "file_extension": ".py",
   "mimetype": "text/x-python",
   "name": "python",
   "nbconvert_exporter": "python",
   "pygments_lexer": "ipython3",
   "version": "3.6.10"
  },
  "varInspector": {
   "cols": {
    "lenName": 16,
    "lenType": 16,
    "lenVar": 40
   },
   "kernels_config": {
    "python": {
     "delete_cmd_postfix": "",
     "delete_cmd_prefix": "del ",
     "library": "var_list.py",
     "varRefreshCmd": "print(var_dic_list())"
    },
    "r": {
     "delete_cmd_postfix": ") ",
     "delete_cmd_prefix": "rm(",
     "library": "var_list.r",
     "varRefreshCmd": "cat(var_dic_list()) "
    }
   },
   "types_to_exclude": [
    "module",
    "function",
    "builtin_function_or_method",
    "instance",
    "_Feature"
   ],
   "window_display": false
  }
 },
 "nbformat": 4,
 "nbformat_minor": 2
}
