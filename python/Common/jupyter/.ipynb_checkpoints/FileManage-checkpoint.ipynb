{
 "cells": [
  {
   "cell_type": "code",
   "execution_count": 1,
   "metadata": {},
   "outputs": [],
   "source": [
    "import os\n",
    "import datetime"
   ]
  },
  {
   "cell_type": "code",
   "execution_count": 124,
   "metadata": {},
   "outputs": [],
   "source": [
    "def Date():\n",
    "    date = datetime.datetime.now()\n",
    "    return \"{:02d}{:02d}{:02d}\".format(date.year,date.month,date.day)\n",
    "\n",
    "def CreateDir(figpath,sufix='', Print = False):\n",
    "    try:\n",
    "        os.mkdir(figpath+sufix)\n",
    "        if Print: print(\"Dir \"+figpath+sufix+\" created\")\n",
    "    except:\n",
    "        if Print:\n",
    "            print(\"Directory \"+figpath+sufix+ \" already exist or can't create\")   \n",
    "\n",
    "def dirStructure(path,dictStruct,date=True,Print = False):    \n",
    "    for key in dictStruct:\n",
    "        CreateDir(os.path.join(path,key),Print=Print)\n",
    "        while type(dictStruct[key]) is not set and type(dictStruct[key]) is not str:\n",
    "            dirStructure(os.path.join(path,key),subdic,Print=Print)\n",
    "        else:\n",
    "            if type(dictStruct[key]) is set:\n",
    "                for subkey in dictStruct[key]:\n",
    "                    CreateDir(os.path.join(path,key,subkey),Print=Print)\n",
    "                    if date:\n",
    "                        CreateDir(os.path.join(path,key,subkey,Date()),Print=Print)\n",
    "            else:\n",
    "                CreateDir(os.path.join(path,key,dictStruct[key],Date()),Print=Print)\n",
    "\n"
   ]
  }
 ],
 "metadata": {
  "kernelspec": {
   "display_name": "SMP",
   "language": "python",
   "name": "smp"
  },
  "language_info": {
   "codemirror_mode": {
    "name": "ipython",
    "version": 3
   },
   "file_extension": ".py",
   "mimetype": "text/x-python",
   "name": "python",
   "nbconvert_exporter": "python",
   "pygments_lexer": "ipython3",
   "version": "3.6.10"
  },
  "varInspector": {
   "cols": {
    "lenName": 16,
    "lenType": 16,
    "lenVar": 40
   },
   "kernels_config": {
    "python": {
     "delete_cmd_postfix": "",
     "delete_cmd_prefix": "del ",
     "library": "var_list.py",
     "varRefreshCmd": "print(var_dic_list())"
    },
    "r": {
     "delete_cmd_postfix": ") ",
     "delete_cmd_prefix": "rm(",
     "library": "var_list.r",
     "varRefreshCmd": "cat(var_dic_list()) "
    }
   },
   "types_to_exclude": [
    "module",
    "function",
    "builtin_function_or_method",
    "instance",
    "_Feature"
   ],
   "window_display": false
  }
 },
 "nbformat": 4,
 "nbformat_minor": 2
}
