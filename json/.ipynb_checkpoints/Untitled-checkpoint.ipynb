{
 "cells": [
  {
   "cell_type": "code",
   "execution_count": 1,
   "metadata": {},
   "outputs": [],
   "source": [
    "#!/usr/bin/python\n",
    "\n",
    "import sys, getopt\n",
    "import csv\n",
    "import json"
   ]
  },
  {
   "cell_type": "code",
   "execution_count": 2,
   "metadata": {},
   "outputs": [],
   "source": [
    "#Get Command Line Arguments\n",
    "def main(argv):\n",
    "    input_file = ''\n",
    "    output_file = ''\n",
    "    format = ''\n",
    "    try:\n",
    "        opts, args = getopt.getopt(argv,\"hi:o:f:\",[\"ifile=\",\"ofile=\",\"format=\"])\n",
    "    except getopt.GetoptError:\n",
    "        print('csv_json.py -i <path to inputfile> -o <path to outputfile> -f <dump/pretty>')\n",
    "        sys.exit(2)\n",
    "    for opt, arg in opts:\n",
    "        if opt == '-h':\n",
    "            print('csv_json.py -i <path to inputfile> -o <path to outputfile> -f <dump/pretty>')\n",
    "            sys.exit()\n",
    "        elif opt in (\"-i\", \"--ifile\"):\n",
    "            input_file = arg\n",
    "        elif opt in (\"-o\", \"--ofile\"):\n",
    "            output_file = arg\n",
    "        elif opt in (\"-f\", \"--format\"):\n",
    "            format = arg\n",
    "    read_csv(input_file, output_file, format)"
   ]
  },
  {
   "cell_type": "code",
   "execution_count": 16,
   "metadata": {},
   "outputs": [],
   "source": [
    "#Read CSV File\n",
    "def read_csv(file, json_file, format):\n",
    "    csv_rows = []\n",
    "    with open(file) as csvfile:\n",
    "        reader = csv.DictReader(csvfile)\n",
    "        print(reader.fieldnames)\n",
    "        title = reader.fieldnames\n",
    "\n",
    "        for row in reader:\n",
    "            csv_rows.extend({row[title[0]]:{title[i]:row[title[i]] for i in range(len(title))}})\n",
    "        write_json(csv_rows, json_file, format)"
   ]
  },
  {
   "cell_type": "code",
   "execution_count": 17,
   "metadata": {},
   "outputs": [
    {
     "name": "stdout",
     "output_type": "stream",
     "text": [
      "[' ', 'test', 'test1', 'test2', 'test3', 'mlep2', 'M', 'm2', 'm3', 'E', 'Pt', 'Eta', 'Phi', 'DEta', 'DPhi', 'DR', 'nMuons', 'nElectrons', 'nPhotons', 'nBJets', 'nPV', 'nPU', 'met', 'Sieie', 'Sieip', 'Sipip', 'Srr', 'E2x2', 'E5x5', 'ScEtaWidth', 'ScPhiWidth', 'ScRawE', 'ScBrem', 'PreShowerE', 'HoverE', 'Ich', 'Ineu', 'Iph', 'R9', 'MVA', 'ShowerShapeMVA', 'eres', 'Rho', 'part']\n"
     ]
    }
   ],
   "source": [
    "#Convert csv data into json and write it\n",
    "def write_json(data, json_file, format):\n",
    "    with open(json_file, \"w\") as f:\n",
    "        if format == \"pretty\":\n",
    "            f.write(json.dumps(data, \n",
    "                               sort_keys=False, \n",
    "                               indent=4, \n",
    "                               separators=(',', ': '),\n",
    "                               #encoding=\"utf-8\",\n",
    "                               ensure_ascii=False))\n",
    "        else:\n",
    "            f.write(json.dumps(data))\n",
    "\n",
    "if __name__ == \"__main__\":\n",
    "    msg = \"-i bins.csv -o bins.json -f pretty\"\n",
    "    main(msg.split(\" \"))\n",
    "   #main(sys.argv[1:])            "
   ]
  },
  {
   "cell_type": "code",
   "execution_count": null,
   "metadata": {},
   "outputs": [],
   "source": []
  },
  {
   "cell_type": "code",
   "execution_count": null,
   "metadata": {},
   "outputs": [],
   "source": []
  }
 ],
 "metadata": {
  "kernelspec": {
   "display_name": "Python [conda env:CMSenv] *",
   "language": "python",
   "name": "conda-env-CMSenv-py"
  },
  "language_info": {
   "codemirror_mode": {
    "name": "ipython",
    "version": 3
   },
   "file_extension": ".py",
   "mimetype": "text/x-python",
   "name": "python",
   "nbconvert_exporter": "python",
   "pygments_lexer": "ipython3",
   "version": "3.6.7"
  }
 },
 "nbformat": 4,
 "nbformat_minor": 2
}
