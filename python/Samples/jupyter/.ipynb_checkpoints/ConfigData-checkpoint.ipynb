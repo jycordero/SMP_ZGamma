{
 "cells": [
  {
   "cell_type": "code",
   "execution_count": null,
   "metadata": {},
   "outputs": [],
   "source": [
    "import numpy as np"
   ]
  },
  {
   "cell_type": "code",
   "execution_count": 1,
   "metadata": {},
   "outputs": [],
   "source": [
    "class ConfigData:\n",
    "    dataNameRoot = ['Muon','Electron','EGamma','Gamma','EG']\n",
    "    \n",
    "    '''\n",
    "    @staticmethod\n",
    "    def isData(name):    \n",
    "        return np.sum([ d.lower() in name.lower() for d in self.dataNameRoot], dtype = np.bool)    \n",
    "    '''\n",
    "    \n",
    "    def isData(self,name):\n",
    "        return np.sum([ d.lower() in name.lower() for d in self.dataNameRoot], dtype = np.bool)\n",
    "\n",
    "    @staticmethod\n",
    "    def Runs(era):\n",
    "        if '2018' in era :\n",
    "            return ['A','B','C','D']\n",
    "        elif '2017' in era:\n",
    "            return ['B','C','D','E','F']\n",
    "        elif '2016' in era:\n",
    "            return ['B','C','D','E','F','G','H']\n",
    "        \n",
    "    @staticmethod\n",
    "    def Diboson(era):\n",
    "        if   '2018' in era:\n",
    "            return ['WZTo2L2Q','ZZTo4L','WZTo3LNu']\n",
    "        elif '2017' in era:\n",
    "            return ['WWTo2L2Nu','WZTo2L2Q','WZTo3LNu','ZZTo2L2Nu','ZZTo2L2Q','ZZTo4L']\n",
    "        elif '2016' in era:\n",
    "            return ['WWTo2L2Nu','WZTo2L2Q','WZTo3LNu','ZZTo2L2Nu','ZZTo2L2Q','ZZTo4L']\n",
    "\n",
    "    @staticmethod\n",
    "    def DoubleMuon(era):\n",
    "        return ['DoubleMuon_{}{}'.format(era,run) for run in ConfigData.Runs(era)]\n",
    "        \n",
    "    "
   ]
  }
 ],
 "metadata": {
  "kernelspec": {
   "display_name": "SMP",
   "language": "python",
   "name": "smp"
  },
  "language_info": {
   "codemirror_mode": {
    "name": "ipython",
    "version": 3
   },
   "file_extension": ".py",
   "mimetype": "text/x-python",
   "name": "python",
   "nbconvert_exporter": "python",
   "pygments_lexer": "ipython3",
   "version": "3.6.10"
  },
  "varInspector": {
   "cols": {
    "lenName": 16,
    "lenType": 16,
    "lenVar": 40
   },
   "kernels_config": {
    "python": {
     "delete_cmd_postfix": "",
     "delete_cmd_prefix": "del ",
     "library": "var_list.py",
     "varRefreshCmd": "print(var_dic_list())"
    },
    "r": {
     "delete_cmd_postfix": ") ",
     "delete_cmd_prefix": "rm(",
     "library": "var_list.r",
     "varRefreshCmd": "cat(var_dic_list()) "
    }
   },
   "types_to_exclude": [
    "module",
    "function",
    "builtin_function_or_method",
    "instance",
    "_Feature"
   ],
   "window_display": false
  }
 },
 "nbformat": 4,
 "nbformat_minor": 2
}
