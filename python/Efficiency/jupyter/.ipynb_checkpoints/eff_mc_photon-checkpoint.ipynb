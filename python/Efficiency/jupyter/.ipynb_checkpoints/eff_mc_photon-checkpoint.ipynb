{
 "cells": [
  {
   "cell_type": "code",
   "execution_count": 20,
   "metadata": {},
   "outputs": [],
   "source": [
    "from ROOT import TFile,TTree,TH2F, TCanvas,gROOT,gStyle\n",
    "import array\n",
    "import matplotlib.pyplot as plt\n",
    "import numpy as np\n",
    "from root_pandas import read_root \n",
    "\n",
    "import scipy.special as spc\n",
    "from scipy.optimize import curve_fit\n"
   ]
  },
  {
   "cell_type": "code",
   "execution_count": 2,
   "metadata": {
    "code_folding": [
     0,
     19
    ]
   },
   "outputs": [],
   "source": [
    "def BinFormat(Bins,Type='ranges'):\n",
    "    bins = []\n",
    "    if Type == 'ranges':\n",
    "        if type(Bins[0]) is np.ndarray or type(Bins[0]) is list:\n",
    "            bins = Bins\n",
    "        else:\n",
    "            for i in np.arange(len(Bins)-1):\n",
    "                bins.append([Bins[i],Bins[i+1]])\n",
    "    elif Type == 'edges':\n",
    "        if type(Bins[0]) is int or type(Bins[0]) is float:\n",
    "            bins = Bins\n",
    "        else:\n",
    "            for b in Bins:\n",
    "                bins.append(b[0])\n",
    "            bins.append(Bins[-1][1])\n",
    "        bins = array.array(\"f\",bins)\n",
    "        \n",
    "    return bins\n",
    "\n",
    "def BinIndex(Data,Low,Max):\n",
    "    return np.logical_and(np.array(Data) >= Low, np.array(Data) <  Max)"
   ]
  },
  {
   "cell_type": "code",
   "execution_count": null,
   "metadata": {},
   "outputs": [],
   "source": []
  },
  {
   "cell_type": "code",
   "execution_count": 3,
   "metadata": {},
   "outputs": [],
   "source": [
    "era = '2017'\n",
    "\n",
    "if era == '2017':\n",
    "    period = 'rereco'\n",
    "    Folder = \"TagProbe_noTrig\"\n",
    "    #Folder = \"EfficiencyCorrection/files_zee/CorrShower/\"\n",
    "    path = \"/home/jcordero/CMS/data_\"+era+\"/\"+period+\"/SMP_ZG/Files/ee/\"+Folder+\"/DYJets/\"\n",
    "elif era == '2016':\n",
    "    period = 'legacy'\n",
    "    Folder = \"TagProbe\"\n",
    "    path = \"/home/jcordero/CMS/data_\"+era+\"/\"+period+\"/SMP_ZG/Files/ee/files_zee/\"+Folder+\"/DYJets/\"\n",
    "\n",
    "\n",
    "\n",
    "\n",
    "\n",
    "fileName = \"output_DYJets_v_0.root\"\n",
    "file = TFile(path+fileName,\"read\")\n"
   ]
  },
  {
   "cell_type": "code",
   "execution_count": null,
   "metadata": {},
   "outputs": [],
   "source": []
  },
  {
   "cell_type": "markdown",
   "metadata": {},
   "source": [
    "# Create Eff for MC"
   ]
  },
  {
   "cell_type": "code",
   "execution_count": 4,
   "metadata": {},
   "outputs": [],
   "source": [
    "NewOld = 'TagProbe/'\n",
    "\n",
    "#path = \"/home/jcordero/CMS/JYCMCMS/SMP_ZG/python/Efficiency/files_zee/\"+NewOld+\"SingleElectron/\"\n",
    "#figpath = '/home/jcordero/CMS/JYCMCMS/SMP_ZG/python/Efficiency/'\n",
    "figpath = '/home/jcordero/CMS/data_2017/rereco/SMP_ZG/Files/ee/EfficiencyCorrection/'\n",
    "\n",
    "var = [\"dileptonM\",\n",
    "       \"leptonOnePt\",\"leptonOneEta\",\n",
    "       \"leptonTwoPt\",\"leptonTwoEta\",\n",
    "       \"vetoDY\",\"genIsoPass\",\n",
    "       \"ProbeIDPass\",\"ProbeISOPass\",\"ProbeWorstPass\",\"ProbeSigPass\",\n",
    "       #\"ProbePass\",\n",
    "       #\"TagFromZ\",\"ProbeFromZ\",\n",
    "      ]"
   ]
  },
  {
   "cell_type": "code",
   "execution_count": null,
   "metadata": {},
   "outputs": [],
   "source": []
  },
  {
   "cell_type": "code",
   "execution_count": 5,
   "metadata": {},
   "outputs": [],
   "source": [
    "#samples = [\"DYJets\",\"WJets\"]\n",
    "samples = [\"DYJets\"]\n",
    "s = samples[0]\n",
    "\n",
    "#path = \"/home/jcordero/CMS/data_2016/legacy/SMP_ZG/Files/ee/files_zee/\"+NewOld+s+\"/\"\n",
    "fileName = \"output_\"+s+\"_v_0.root\"\n",
    "dfMC = read_root(path+fileName,columns = var)\n"
   ]
  },
  {
   "cell_type": "code",
   "execution_count": 7,
   "metadata": {
    "code_folding": []
   },
   "outputs": [],
   "source": [
    "ptBins  = array.array('f',[15, 20,  35,  50,  90,  150,  1500])\n",
    "#ptBins = BinFormat(ptBins)\n",
    "#################\n",
    "etaBins = array.array(\"f\",[-2.5,-1.566,-1.4442,0,1.4442,1.566,2.5])"
   ]
  },
  {
   "cell_type": "code",
   "execution_count": 8,
   "metadata": {},
   "outputs": [],
   "source": [
    "ProbeType = \"Pass\"\n",
    "part      = 'dilepton'\n",
    "variable  = 'M'\n",
    "sample    = dfMC\n",
    "\n",
    "ptBins, etaBins = BinFormat(ptBins,Type='ranges'),BinFormat(etaBins,Type='ranges')\n",
    "ptNBins , etaNBins= len(ptBins), len(etaBins)\n",
    "\n",
    "Yields = {}\n",
    "Yields[ProbeType] = {}\n",
    "\n",
    "for j in np.arange(ptNBins):\n",
    "    '''\n",
    "    if j in BinEBEE:\n",
    "        etaBINS = etaBinsEBEE\n",
    "    else:\n",
    "        etaBINS = etaBins\n",
    "    '''\n",
    "    Yields[ProbeType][j] = {}\n",
    "    \n",
    "    for i in np.arange(etaNBins):\n",
    "    #for i in np.arange(len(etaBINS)):                 \n",
    "        VAL = sample[part+variable]\n",
    "        #Ind = sample.vetoDY == False\n",
    "        if ProbeType == \"Pass\":\n",
    "            Ind = sample[\"ProbeIDPass\"] == True\n",
    "            Ind = np.logical_and(Ind,sample[\"ProbeISOPass\"]   == True)\n",
    "            Ind = np.logical_and(Ind,sample[\"ProbeWorstPass\"] == True)\n",
    "            Ind = np.logical_and(Ind,sample[\"ProbeSigPass\"]   == True)\n",
    "        else:\n",
    "            Ind = sample[\"ProbeIDPass\"] == False\n",
    "            Ind = np.logical_or(Ind,sample[\"ProbeISOPass\"]   == False)\n",
    "            Ind = np.logical_or(Ind,sample[\"ProbeWorstPass\"] == False)\n",
    "            Ind = np.logical_or(Ind,sample[\"ProbeSigPass\"]   == False)\n",
    "            \n",
    "        if samples == \"DYJets\":\n",
    "            Ind = np.logical_and(Ind,sample.ProbeFromZ == True)\n",
    "\n",
    "        Var = np.array(VAL[Ind])\n",
    "        Pt  = sample['leptonTwoPt'][Ind]\n",
    "        Eta = sample['leptonTwoEta'][Ind]\n",
    "\n",
    "\n",
    "        ptInd  = BinIndex(Pt , ptBins [j][0], ptBins [j][1])\n",
    "        #etaInd = BinIndex(Eta, etaBINS[i][0], etaBINS[i][1])\n",
    "        etaInd = BinIndex(Eta, etaBins[i][0], etaBins[i][1])\n",
    "        Ind    = np.logical_and(ptInd,etaInd)\n",
    "        \n",
    "        #print(i,j,np.sum(ptInd),np.sum(etaInd))\n",
    "        Yields[ProbeType][j][i] = np.sum(Ind)\n",
    "#dfMC.leptonProbeFailPt"
   ]
  },
  {
   "cell_type": "code",
   "execution_count": null,
   "metadata": {},
   "outputs": [],
   "source": []
  },
  {
   "cell_type": "code",
   "execution_count": 9,
   "metadata": {},
   "outputs": [
    {
     "name": "stdout",
     "output_type": "stream",
     "text": [
      "(0, 0, [15.0, 20.0], [-2.5, -1.565999984741211], 33426)\n",
      "(1, 0, [15.0, 20.0], [-1.565999984741211, -1.444200038909912], 0)\n",
      "(2, 0, [15.0, 20.0], [-1.444200038909912, 0.0], 74456)\n",
      "(3, 0, [15.0, 20.0], [0.0, 1.444200038909912], 75201)\n",
      "(4, 0, [15.0, 20.0], [1.444200038909912, 1.565999984741211], 0)\n",
      "(5, 0, [15.0, 20.0], [1.565999984741211, 2.5], 35531)\n",
      "(0, 1, [20.0, 35.0], [-2.5, -1.565999984741211], 120955)\n",
      "(1, 1, [20.0, 35.0], [-1.565999984741211, -1.444200038909912], 0)\n",
      "(2, 1, [20.0, 35.0], [-1.444200038909912, 0.0], 323304)\n",
      "(3, 1, [20.0, 35.0], [0.0, 1.444200038909912], 326676)\n",
      "(4, 1, [20.0, 35.0], [1.444200038909912, 1.565999984741211], 0)\n",
      "(5, 1, [20.0, 35.0], [1.565999984741211, 2.5], 133672)\n",
      "(0, 2, [35.0, 50.0], [-2.5, -1.565999984741211], 87955)\n",
      "(1, 2, [35.0, 50.0], [-1.565999984741211, -1.444200038909912], 0)\n",
      "(2, 2, [35.0, 50.0], [-1.444200038909912, 0.0], 255701)\n",
      "(3, 2, [35.0, 50.0], [0.0, 1.444200038909912], 258308)\n",
      "(4, 2, [35.0, 50.0], [1.444200038909912, 1.565999984741211], 0)\n",
      "(5, 2, [35.0, 50.0], [1.565999984741211, 2.5], 102382)\n",
      "(0, 3, [50.0, 90.0], [-2.5, -1.565999984741211], 17720)\n",
      "(1, 3, [50.0, 90.0], [-1.565999984741211, -1.444200038909912], 0)\n",
      "(2, 3, [50.0, 90.0], [-1.444200038909912, 0.0], 64684)\n",
      "(3, 3, [50.0, 90.0], [0.0, 1.444200038909912], 64435)\n",
      "(4, 3, [50.0, 90.0], [1.444200038909912, 1.565999984741211], 0)\n",
      "(5, 3, [50.0, 90.0], [1.565999984741211, 2.5], 21993)\n",
      "(0, 4, [90.0, 150.0], [-2.5, -1.565999984741211], 1056)\n",
      "(1, 4, [90.0, 150.0], [-1.565999984741211, -1.444200038909912], 0)\n",
      "(2, 4, [90.0, 150.0], [-1.444200038909912, 0.0], 5643)\n",
      "(3, 4, [90.0, 150.0], [0.0, 1.444200038909912], 5474)\n",
      "(4, 4, [90.0, 150.0], [1.444200038909912, 1.565999984741211], 0)\n",
      "(5, 4, [90.0, 150.0], [1.565999984741211, 2.5], 1430)\n",
      "(0, 5, [150.0, 1500.0], [-2.5, -1.565999984741211], 323)\n",
      "(1, 5, [150.0, 1500.0], [-1.565999984741211, -1.444200038909912], 0)\n",
      "(2, 5, [150.0, 1500.0], [-1.444200038909912, 0.0], 1956)\n",
      "(3, 5, [150.0, 1500.0], [0.0, 1.444200038909912], 1920)\n",
      "(4, 5, [150.0, 1500.0], [1.444200038909912, 1.565999984741211], 0)\n",
      "(5, 5, [150.0, 1500.0], [1.565999984741211, 2.5], 386)\n"
     ]
    }
   ],
   "source": [
    "ProbeType = \"Fail\"\n",
    "part      = 'dilepton'\n",
    "variable  = 'M'\n",
    "\n",
    "ptBins, etaBins = BinFormat(ptBins,Type='ranges'),BinFormat(etaBins,Type='ranges')\n",
    "\n",
    "Yields[ProbeType] = {}\n",
    "\n",
    "for j in np.arange(ptNBins):\n",
    "    '''\n",
    "    if j in BinEBEE:\n",
    "        etaBINS = etaBinsEBEE\n",
    "    else:\n",
    "        etaBINS = etaBins\n",
    "    '''\n",
    "    Yields[ProbeType][j] = {}\n",
    "    \n",
    "    for i in np.arange(etaNBins):                \n",
    "        VAL = sample[part+variable]\n",
    "\n",
    "        if ProbeType == \"Pass\":\n",
    "            Ind = sample[\"ProbeIDPass\"] == True\n",
    "            Ind = np.logical_and(Ind,sample[\"ProbeISOPass\"]   == True)\n",
    "            Ind = np.logical_and(Ind,sample[\"ProbeWorstPass\"] == True)\n",
    "            Ind = np.logical_and(Ind,sample[\"ProbeSigPass\"]   == True)\n",
    "        else:\n",
    "            Ind = sample[\"ProbeIDPass\"] == False\n",
    "            Ind = np.logical_or(Ind,sample[\"ProbeISOPass\"]   == False)\n",
    "            Ind = np.logical_or(Ind,sample[\"ProbeWorstPass\"] == False)\n",
    "            Ind = np.logical_or(Ind,sample[\"ProbeSigPass\"]   == False)\n",
    "            \n",
    "        if samples == \"DYJets\":\n",
    "            Ind = np.logical_and(Ind,sample.ProbeFromZ == True)\n",
    "        \n",
    "        Var = np.array(VAL[Ind])\n",
    "        Pt  = sample['leptonTwoPt'][Ind]\n",
    "        Eta = sample['leptonTwoEta'][Ind]\n",
    "        \n",
    "\n",
    "        ptInd  = BinIndex(Pt , ptBins [j][0], ptBins [j][1])\n",
    "        #etaInd = BinIndex(Eta, etaBINS[i][0], etaBINS[i][1])\n",
    "        etaInd = BinIndex(Eta, etaBins[i][0], etaBins[i][1])\n",
    "        Ind    = np.logical_and(ptInd,etaInd)\n",
    "        \n",
    "        print(i,j,ptBins[j], etaBins[i],np.sum(Ind))\n",
    "        \n",
    "        Yields[ProbeType][j][i] = np.sum(Ind)"
   ]
  },
  {
   "cell_type": "code",
   "execution_count": 10,
   "metadata": {},
   "outputs": [
    {
     "name": "stdout",
     "output_type": "stream",
     "text": [
      "(0, 0, 52545, 33426, 0.6111944725546987)\n",
      "(0, 1, 0, 0, 0)\n",
      "(0, 2, 175408, 74456, 0.7020138955591841)\n",
      "(0, 3, 174346, 75201, 0.6986499537161336)\n",
      "(0, 4, 0, 0, 0)\n",
      "(0, 5, 51398, 35531, 0.5912641350987587)\n",
      "(1, 0, 355019, 120955, 0.7458789765827545)\n",
      "(1, 1, 0, 0, 0)\n",
      "(1, 2, 1621150, 323304, 0.8337301885259307)\n",
      "(1, 3, 1620465, 326676, 0.8322278663948836)\n",
      "(1, 4, 0, 0, 0)\n",
      "(1, 5, 341854, 133672, 0.7188965482434189)\n",
      "(2, 0, 510195, 87955, 0.8529549444119368)\n",
      "(2, 1, 0, 0, 0)\n",
      "(2, 2, 2689513, 255701, 0.9131808418675179)\n",
      "(2, 3, 2689684, 258308, 0.9123783239574599)\n",
      "(2, 4, 0, 0, 0)\n",
      "(2, 5, 479597, 102382, 0.8240795630082872)\n",
      "(3, 0, 145892, 17720, 0.8916949856978705)\n",
      "(3, 1, 0, 0, 0)\n",
      "(3, 2, 729738, 64684, 0.9185772800853954)\n",
      "(3, 3, 729532, 64435, 0.9188442340802577)\n",
      "(3, 4, 0, 0, 0)\n",
      "(3, 5, 135973, 21993, 0.8607738374080498)\n",
      "(4, 0, 10196, 1056, 0.9061500177746179)\n",
      "(4, 1, 0, 0, 0)\n",
      "(4, 2, 54117, 5643, 0.9055722891566265)\n",
      "(4, 3, 54458, 5474, 0.9086631515717813)\n",
      "(4, 4, 0, 0, 0)\n",
      "(4, 5, 9665, 1430, 0.8711131140153222)\n",
      "(5, 0, 2177, 323, 0.8708)\n",
      "(5, 1, 0, 0, 0)\n",
      "(5, 2, 13574, 1956, 0.8740502253702511)\n",
      "(5, 3, 13683, 1920, 0.876946741011344)\n",
      "(5, 4, 0, 0, 0)\n",
      "(5, 5, 2151, 386, 0.8478517934568388)\n"
     ]
    }
   ],
   "source": [
    "eff = {}\n",
    "for j in np.arange(ptNBins):    \n",
    "    eff[j] = {}\n",
    "    for i in np.arange(etaNBins):        \n",
    "        if Yields['Pass'][j][i] + Yields['Fail'][j][i] != 0:\n",
    "            eff[j][i] = float(Yields['Pass'][j][i])/(Yields['Pass'][j][i] + Yields['Fail'][j][i])\n",
    "        else:\n",
    "            eff[j][i] = 0\n",
    "        print(j,i,Yields['Pass'][j][i],Yields['Fail'][j][i],eff[j][i])"
   ]
  },
  {
   "cell_type": "code",
   "execution_count": 11,
   "metadata": {},
   "outputs": [
    {
     "data": {
      "text/plain": [
       "'/home/jcordero/CMS/data_2017/rereco/SMP_ZG/Files/ee/EfficiencyCorrection/'"
      ]
     },
     "execution_count": 11,
     "metadata": {},
     "output_type": "execute_result"
    }
   ],
   "source": [
    "figpath"
   ]
  },
  {
   "cell_type": "code",
   "execution_count": 81,
   "metadata": {},
   "outputs": [
    {
     "name": "stderr",
     "output_type": "stream",
     "text": [
      "Warning in <TFile::Append>: Replacing existing TH1: EGamma_eff (Potential memory leak).\n"
     ]
    }
   ],
   "source": [
    "fileOut = TFile(figpath + \"eff_mc_photon.root\",\"recreate\")\n",
    "tree = TTree(\"eff_photon\",\"eff_photon\")\n",
    "\n",
    "ptBins, etaBins = BinFormat(ptBins,Type='edges'),BinFormat(etaBins,Type='edges')\n",
    "#ptNBins,etaNBins = len(ptBins),len(etaBins)\n",
    "ptNBins,etaNBins = len(ptBins)-1,len(etaBins)-1\n",
    "\n",
    "\n",
    "gStyle.SetOptStat(0)\n",
    "\n",
    "hist2d = TH2F(\"EGamma_eff\",\"Eff\",\n",
    "              ptNBins ,ptBins,\n",
    "              etaNBins,etaBins)\n",
    "histText = TH2F(\"EGamma_eff\",\"Eff\",\n",
    "              ptNBins ,ptBins,\n",
    "              etaNBins,etaBins)\n",
    "\n",
    "tree.Branch(\"eff\",hist2d,\"TH2F\")\n",
    "\n",
    "\n",
    "#for i in range(ptNBins):\n",
    "#    for j in range(etaNBins):\n",
    "for i in range(ptNBins):\n",
    "    for j in range(etaNBins):        \n",
    "        hist2d.SetBinContent(i+1,j+1,eff[i][j])\n",
    "        histText.SetBinContent(i+1,j+1,eff[i][j])\n",
    "        tree.Fill()\n",
    "\n",
    "hist2d.GetXaxis().SetRangeUser(0,-250)\n",
    "hist2d.GetZaxis().SetRangeUser(0.5,0.95)\n",
    "fileOut.Write()\n",
    "fileOut.Close()\n",
    "\n"
   ]
  },
  {
   "cell_type": "code",
   "execution_count": 82,
   "metadata": {},
   "outputs": [
    {
     "data": {
      "text/plain": [
       "813"
      ]
     },
     "execution_count": 82,
     "metadata": {},
     "output_type": "execute_result"
    },
    {
     "name": "stderr",
     "output_type": "stream",
     "text": [
      "Warning in <TFile::Append>: Replacing existing TH1: EGamma_eff (Potential memory leak).\n"
     ]
    }
   ],
   "source": [
    "fileOut = TFile(figpath + \"eff_draw_photon.root\",\"recreate\")\n",
    "tree = TTree(\"eff_photon\",\"eff_photon\")\n",
    "\n",
    "ptBins, etaBins = BinFormat(ptBins,Type='edges'),BinFormat(etaBins,Type='edges')\n",
    "#ptNBins,etaNBins = len(ptBins),len(etaBins)\n",
    "ptNBins,etaNBins = len(ptBins)-2,len(etaBins)-1\n",
    "\n",
    "\n",
    "gStyle.SetOptStat(0)\n",
    "\n",
    "hist2d = TH2F(\"EGamma_eff\",\"Eff\",\n",
    "              ptNBins ,ptBins,\n",
    "              etaNBins,etaBins)\n",
    "histText = TH2F(\"EGamma_eff\",\"Eff\",\n",
    "              ptNBins ,ptBins,\n",
    "              etaNBins,etaBins)\n",
    "\n",
    "tree.Branch(\"eff\",hist2d,\"TH2F\")\n",
    "\n",
    "\n",
    "#for i in range(ptNBins):\n",
    "#    for j in range(etaNBins):\n",
    "for i in range(ptNBins):\n",
    "    for j in range(etaNBins):        \n",
    "        hist2d.SetBinContent(i+1,j+1,eff[i][j])\n",
    "        histText.SetBinContent(i+1,j+1,eff[i][j])\n",
    "        tree.Fill()\n",
    "\n",
    "hist2d.GetXaxis().SetRangeUser(0,-250)\n",
    "hist2d.GetZaxis().SetRangeUser(0.5,0.95)\n",
    "fileOut.Write()\n",
    "#fileOut.Close()\n",
    "\n"
   ]
  },
  {
   "cell_type": "code",
   "execution_count": 83,
   "metadata": {},
   "outputs": [
    {
     "data": {
      "image/png": "[encoded data removed]",
      "text/plain": [
       "<IPython.core.display.Image object>"
      ]
     },
     "metadata": {},
     "output_type": "display_data"
    }
   ],
   "source": [
    "#c = TCanvas('c','c',200,100,10)\n",
    "c = TCanvas()\n",
    "#hist2d.GetXaxis().SetRange(0,200)\n",
    "#histText.GetXaxis().SetRange(0,200)\n",
    "hist2d.Draw(\"COLZ\")\n",
    "histText.Draw(\"TEXT SAME\")\n",
    "c.Draw()"
   ]
  },
  {
   "cell_type": "code",
   "execution_count": null,
   "metadata": {
    "scrolled": false
   },
   "outputs": [],
   "source": []
  },
  {
   "cell_type": "code",
   "execution_count": null,
   "metadata": {},
   "outputs": [],
   "source": []
  }
 ],
 "metadata": {
  "kernelspec": {
   "display_name": "python3",
   "language": "python",
   "name": "python3"
  },
  "language_info": {
   "codemirror_mode": {
    "name": "ipython",
    "version": 2
   },
   "file_extension": ".py",
   "mimetype": "text/x-python",
   "name": "python",
   "nbconvert_exporter": "python",
   "pygments_lexer": "ipython2",
   "version": "2.7.17"
  }
 },
 "nbformat": 4,
 "nbformat_minor": 2
}
