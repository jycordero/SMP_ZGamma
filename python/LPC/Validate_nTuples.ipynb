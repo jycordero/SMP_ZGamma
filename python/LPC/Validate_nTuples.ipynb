{
 "cells": [
  {
   "cell_type": "code",
   "execution_count": 1,
   "metadata": {},
   "outputs": [],
   "source": [
    "import numpy as np\n",
    "import pandas as pd\n",
    "\n",
    "import os"
   ]
  },
  {
   "cell_type": "code",
   "execution_count": 2,
   "metadata": {
    "code_folding": [
     1
    ]
   },
   "outputs": [],
   "source": [
    "#################################\n",
    "def Merge(indexOverlap,indexNonOverlap, MergePath, ResubmitPath, Print = False):\n",
    "        path = {}\n",
    "        path[\"Resubmit\"] = ResubmitPath\n",
    "        path[\"Merge\"]    = MergePath\n",
    "\n",
    "        File = {}\n",
    "        for ind,i in zip(indexOverlap,np.arange(1,len(indexOverlap)+1)):\n",
    "                File[\"Resubmit\"] = \"Output_\"+  str(i)+\".root\"\n",
    "                File[\"Merge\"]    = \"Output_\"+str(ind)+\".root\"\n",
    "                cmd = \"cp \"+path[\"Resubmit\"]+File[\"Resubmit\"]+\" \"+path[\"Merge\"]+File[\"Merge\"]\n",
    "                if Print:\n",
    "                        print(cmd)\n",
    "                else:\n",
    "                        os.system(cmd)\n",
    "\n",
    "        resubmitRange = 571\n",
    "        for ind,i in zip(indexNonOverlap, np.arange(len(indexOverlap)+1,resubmitRange+1)):\n",
    "                File[\"Resubmit\"] = \"Output_\"+  str(i)+\".root\"\n",
    "                File[\"Merge\"]    = \"Output_\"+str(ind)+\".root\"\n",
    "                cmd = \"cp \"+path[\"Resubmit\"]+File[\"Resubmit\"]+\" \"+path[\"Merge\"]+File[\"Merge\"]\n",
    "                if Print:\n",
    "                        print(cmd)\n",
    "                else:\n",
    "                        os.system(cmd)"
   ]
  },
  {
   "cell_type": "code",
   "execution_count": 3,
   "metadata": {
    "code_folding": [
     0
    ]
   },
   "outputs": [],
   "source": [
    "def SaveIndex(File,index):\n",
    "        df = pd.DataFrame(index)\n",
    "        df.to_csv(File)"
   ]
  },
  {
   "cell_type": "code",
   "execution_count": 4,
   "metadata": {
    "code_folding": [
     0
    ]
   },
   "outputs": [],
   "source": [
    "def OverlapCheck(df1,df2):\n",
    "        indexOverlap, indexNonOverlap= [],[]\n",
    "\n",
    "        Overlap,NonOverlap = 0,0\n",
    "        for i in df1['index']:\n",
    "                if i in list(df2['index']):\n",
    "                        Overlap += 1\n",
    "                        indexOverlap.append(i)\n",
    "                else:\n",
    "                        NonOverlap += 1\n",
    "                        indexNonOverlap.append(i)\n",
    "                        #print(i)\n",
    "\n",
    "        print('Total Overlap in resubmit and samples in EOS '+str(Overlap))\n",
    "        print('Total NONOverlap in resubmit and samples in EOS '+str(NonOverlap))\n",
    "\n",
    "        return indexOverlap, indexNonOverlap"
   ]
  },
  {
   "cell_type": "code",
   "execution_count": 26,
   "metadata": {
    "code_folding": [
     0
    ]
   },
   "outputs": [],
   "source": [
    "def VerifyFileNumber(EOS,Failed,Resubmit,eosFailOverlap,gaps):\n",
    "    print('----'+'  F:'+str(len(Failed))+' R:'+str(len(Resubmit))+' EOS:'+str(len(EOS))+' Gaps:'+str(len(gaps)))\n",
    "    \n",
    "    EOSNonoverlap = len(EOS)-len(eosFailOverlap)\n",
    "    ResubmitNonoverlap = len(Resubmit)-len(eosFailOverlap)\n",
    "    print('-- EOS Overlap Files         : '+str(len(eosFailOverlap)))\n",
    "    print('-- EOS NonOverlap Files      : '+str(EOSNonoverlap))\n",
    "    print('-- Resubmit NonOverlap Files : '+str(ResubmitNonoverlap))\n",
    "    \n",
    "    print('-- Resubmit not in Gaps Files: '+str(ResubmitNonoverlap-len(gaps)))\n",
    "    \n",
    "    print('\\n')\n",
    "    #print('-- Files: '+str(len(EOS)+ResubmitNonoverlap))\n",
    "    print('-- Files Gaps: '+str(len(EOS)+len(gaps)))\n",
    "    \n",
    "    print('-- Files     : '+str(len(EOS)+len(gaps)+(ResubmitNonoverlap-len(gaps))))\n",
    "    \n",
    "    print('\\n')\n",
    "    print('-- Finish estimate:'+str(len(EOS)-EOSNonoverlap))"
   ]
  },
  {
   "cell_type": "code",
   "execution_count": 6,
   "metadata": {
    "code_folding": [
     0,
     7
    ]
   },
   "outputs": [],
   "source": [
    "def GetOverlap(EOS,Failed):\n",
    "    Overlap = []\n",
    "    for eos in EOS:\n",
    "            if eos in Failed:\n",
    "                Overlap.append(eos)\n",
    "    return Overlap\n",
    "\n",
    "def GetNonOverlap(EOS,Failed):\n",
    "    Overlap = GetOverlap(EOS,Failed)\n",
    "    NonOverlap = []\n",
    "    for fail in Failed :\n",
    "            if fail not in Overlap:\n",
    "                NonOverlap.append(fail)\n",
    "    return NonOverlap"
   ]
  },
  {
   "cell_type": "code",
   "execution_count": 7,
   "metadata": {
    "code_folding": [
     0
    ]
   },
   "outputs": [],
   "source": [
    "def GetGap(EOS,Failed,maximum=0,Print=False):\n",
    "    if maximum <= 0:\n",
    "        maximum = np.max(EOS)\n",
    "    \n",
    "    \n",
    "    gaps = []    \n",
    "    for ind in np.arange(1,maximum):\n",
    "        if ind not in Failed:\n",
    "            if ind not in EOS:\n",
    "                gaps.append(ind)\n",
    "            \n",
    "    '''\n",
    "    for ind in np.arange(1,maximum):\n",
    "        if ind not in Failed:\n",
    "            if ind not in gaps:\n",
    "                gaps.append(ind)\n",
    "    '''\n",
    "    if Print:\n",
    "        print(maximum)\n",
    "        print(gaps)\n",
    "    return gaps"
   ]
  },
  {
   "cell_type": "code",
   "execution_count": 35,
   "metadata": {
    "code_folding": []
   },
   "outputs": [],
   "source": [
    "data = 'data'\n",
    "era = '2017'\n",
    "\n",
    "Samples = {}\n",
    "Samples['Data'] = ['DoubleMuonRun'+era+'B',\n",
    "                   'DoubleMuonRun'+era+'C',\n",
    "                   'DoubleMuonRun'+era+'D',\n",
    "                   'DoubleMuonRun'+era+'E',\n",
    "                   'DoubleMuonRun'+era+'F',\n",
    "                   'DoubleEGRun'+era+'B',\n",
    "                   'DoubleEGRun'+era+'C',\n",
    "                   'DoubleEGRun'+era+'D',\n",
    "                   'DoubleEGRun'+era+'E',\n",
    "                   'DoubleEGRun'+era+'F',\n",
    "                   \n",
    "                  ]\n",
    "Samples['MC'] = ['ZG','DYJets','TTTo2L2Nu',\n",
    "                 'WJets','WWTo2L2Nu','WZTo2L2Nu',\n",
    "                 'ZZTo2L2Q','ZZTo4L','ZZTo2L2Nu']\n",
    "\n",
    "\n",
    "\n",
    "Total = {\n",
    "        'DoubleMuonRun2017B':0,\n",
    "        'DoubleMuonRun2017C':0,\n",
    "        'DoubleMuonRun2017D':0,\n",
    "        'DoubleMuonRun2017E':2658,\n",
    "        'DoubleMuonRun2017F':4124,\n",
    "        'DoubleEGRun2017B'  :3080,\n",
    "        'DoubleEGRun2017C'  :0,\n",
    "        'DoubleEGRun2017D'  :0,\n",
    "        'DoubleEGRun2017E'  :0,\n",
    "        'DoubleEGRun2017F'  :3842,\n",
    "        # Total estimates come from grafana\n",
    "        'ZG'        :0,\n",
    "        'DYJets'    :8449,\n",
    "        'TTTo2L2Nu' :46,\n",
    "        'WJets'     :0,\n",
    "        'WWTo2L2Nu' :0,\n",
    "        'WZTo2L2Nu' :0,\n",
    "        'ZZTo2L2Q'  :0,\n",
    "        'ZZTo4L'    :0,\n",
    "        'ZZTo2L2Nu' :0,\n",
    "        }\n"
   ]
  },
  {
   "cell_type": "code",
   "execution_count": null,
   "metadata": {},
   "outputs": [],
   "source": []
  },
  {
   "cell_type": "code",
   "execution_count": 9,
   "metadata": {
    "code_folding": [
     25,
     32,
     41,
     48
    ],
    "scrolled": true
   },
   "outputs": [],
   "source": [
    "ids = {}\n",
    "ids['DoubleMuon'] = {}\n",
    "ids['DoubleEG'] = {}\n",
    "\n",
    "ids['DoubleMuon']['resubmit'] = {\n",
    "                                'B':'',\n",
    "                                'C':'',\n",
    "                                'D':'',\n",
    "                                'E':'',\n",
    "                                'F':'',\n",
    "                                }\n",
    "ids['DoubleMuon']['merge'] = {\n",
    "                            'B':'',\n",
    "                            'C':'',\n",
    "                            'D':'',\n",
    "                            'E':'',\n",
    "                            'F':'',\n",
    "                            }\n",
    "\n",
    "\n",
    "ids['DoubleEG']['resubmit'] = {\n",
    "                    'B':'200212_054029',\n",
    "                    'C':'',\n",
    "                    'D':'',\n",
    "                    'E':'',\n",
    "                    'F':'200212_053749',\n",
    "                    }\n",
    "ids['DoubleEG']['merge'] = { 'B':'200120_224406',\n",
    "                 'C':'200120_224612',\n",
    "                 'D':'200120_224756',\n",
    "                 'E':'200120_224942',\n",
    "                 'F':'200212_053749',\n",
    "                 }\n",
    "############\n",
    "\n",
    "pathEOS = \"/eos/uscms/store/user/lpchzg/corderom/\"+data+\"_\"+era+\"/\"\n",
    "pathEG  = \"DoubleEG\"\n",
    "pathData = pathEG\n",
    "\n",
    "path = {}\n",
    "\n",
    "\n",
    "\n",
    "for dataType in ['Muon','EG']:\n",
    "        pathData = 'Double'+dataType\n",
    "        path[pathData] = {}\n",
    "        \n",
    "        path[pathData]['merge'] = {}\n",
    "        path[pathData]['resubmit'] = {}\n",
    "        for run in ['B','C','D','E','F']:\n",
    "                path[pathData]['merge'][run]    = era+\"_\"+data+\"_legacy_trigBits_\"+pathData+\"_Run2017\"+run+\"-31Mar2018-v1/\"\n",
    "                path[pathData]['resubmit'][run] = era+\"_\"+data+\"_legacy_trigBits_resubmit_\"+pathData+\"_Run2017\"+run+\"-31Mar2018-v1/\"+ids[pathData]['resubmit'][run]"
   ]
  },
  {
   "cell_type": "code",
   "execution_count": 10,
   "metadata": {
    "scrolled": true
   },
   "outputs": [
    {
     "name": "stdout",
     "output_type": "stream",
     "text": [
      "\n",
      "\n",
      "\n",
      "\n",
      "failedJobs/index_DoubleMuonRun2017C_Data_2017.txt\n",
      "failedJobs/index_DoubleEGRun2017C_Data_2017.txt\n",
      "failedJobs/index_DoubleMuonRun2017D_Data_2017.txt\n",
      "failedJobs/index_DoubleEGRun2017D_Data_2017.txt\n",
      "failedJobs/index_DoubleMuonRun2017B_Data_2017.txt\n",
      "failedJobs/index_DoubleEGRun2017E_Data_2017.txt\n",
      "\n",
      "\n",
      "failedJobs/index_WWTo2L2Nu_MC_2017.txt\n",
      "failedJobs/index_ZZTo2L2Q_MC_2017.txt\n",
      "failedJobs/index_ZZTo2L2Nu_MC_2017.txt\n",
      "failedJobs/index_ZGToLLG_MC_2017.txt\n",
      "\n",
      "\n",
      "\n",
      "\n",
      "resubmitJobs/index_TTTo2L2Nu_MC_2017.txt\n",
      "\n",
      "\n"
     ]
    }
   ],
   "source": [
    "#Jobs = ['eosJobs/','failedJobs/','retryJobs/']\n",
    "Jobs = 'failedJobs'\n",
    "\n",
    "df = {}\n",
    "for jobType in ['eos','failed','resubmit']:\n",
    "    df[jobType] = {}\n",
    "    \n",
    "    #print('------' + jobType)\n",
    "    for data in ['Data','MC']:\n",
    "        df[jobType][data] = {}\n",
    "        \n",
    "        for files in os.listdir(jobType+'Jobs'):\n",
    "            \n",
    "            if '.txt' in files:  \n",
    "                filename = jobType+'Jobs'+'/'+files\n",
    "                for samp in Samples[data]:\n",
    "                    if samp in filename and (\"resubmit\" not in files):\n",
    "                        try:\n",
    "                            df[jobType][data][samp] = pd.read_csv(filename)\n",
    "                            #print(files,len(df[jobType][data][samp]))\n",
    "                        except:\n",
    "                            #print('Not Oppened '+jobType +' '+data+samp)\n",
    "                            print(filename)\n",
    "                            #print(filename+' is empty')\n",
    "                            continue\n",
    "\n",
    "                #print(df)\n",
    "                #print(files)\n",
    "        print('\\n')\n",
    "\n"
   ]
  },
  {
   "cell_type": "code",
   "execution_count": 20,
   "metadata": {},
   "outputs": [
    {
     "data": {
      "text/html": [
       "<div>\n",
       "<style scoped>\n",
       "    .dataframe tbody tr th:only-of-type {\n",
       "        vertical-align: middle;\n",
       "    }\n",
       "\n",
       "    .dataframe tbody tr th {\n",
       "        vertical-align: top;\n",
       "    }\n",
       "\n",
       "    .dataframe thead th {\n",
       "        text-align: right;\n",
       "    }\n",
       "</style>\n",
       "<table border=\"1\" class=\"dataframe\">\n",
       "  <thead>\n",
       "    <tr style=\"text-align: right;\">\n",
       "      <th></th>\n",
       "      <th>Jobs</th>\n",
       "    </tr>\n",
       "  </thead>\n",
       "  <tbody>\n",
       "    <tr>\n",
       "      <th>0</th>\n",
       "      <td>10</td>\n",
       "    </tr>\n",
       "    <tr>\n",
       "      <th>1</th>\n",
       "      <td>100</td>\n",
       "    </tr>\n",
       "    <tr>\n",
       "      <th>2</th>\n",
       "      <td>1000</td>\n",
       "    </tr>\n",
       "    <tr>\n",
       "      <th>3</th>\n",
       "      <td>1001</td>\n",
       "    </tr>\n",
       "    <tr>\n",
       "      <th>4</th>\n",
       "      <td>1002</td>\n",
       "    </tr>\n",
       "    <tr>\n",
       "      <th>5</th>\n",
       "      <td>1003</td>\n",
       "    </tr>\n",
       "    <tr>\n",
       "      <th>6</th>\n",
       "      <td>1004</td>\n",
       "    </tr>\n",
       "    <tr>\n",
       "      <th>7</th>\n",
       "      <td>1005</td>\n",
       "    </tr>\n",
       "    <tr>\n",
       "      <th>8</th>\n",
       "      <td>1006</td>\n",
       "    </tr>\n",
       "    <tr>\n",
       "      <th>9</th>\n",
       "      <td>1007</td>\n",
       "    </tr>\n",
       "    <tr>\n",
       "      <th>10</th>\n",
       "      <td>1008</td>\n",
       "    </tr>\n",
       "    <tr>\n",
       "      <th>11</th>\n",
       "      <td>1009</td>\n",
       "    </tr>\n",
       "    <tr>\n",
       "      <th>12</th>\n",
       "      <td>101</td>\n",
       "    </tr>\n",
       "    <tr>\n",
       "      <th>13</th>\n",
       "      <td>1010</td>\n",
       "    </tr>\n",
       "    <tr>\n",
       "      <th>14</th>\n",
       "      <td>1011</td>\n",
       "    </tr>\n",
       "    <tr>\n",
       "      <th>15</th>\n",
       "      <td>1012</td>\n",
       "    </tr>\n",
       "    <tr>\n",
       "      <th>16</th>\n",
       "      <td>1013</td>\n",
       "    </tr>\n",
       "    <tr>\n",
       "      <th>17</th>\n",
       "      <td>1014</td>\n",
       "    </tr>\n",
       "    <tr>\n",
       "      <th>18</th>\n",
       "      <td>1015</td>\n",
       "    </tr>\n",
       "    <tr>\n",
       "      <th>19</th>\n",
       "      <td>1016</td>\n",
       "    </tr>\n",
       "    <tr>\n",
       "      <th>20</th>\n",
       "      <td>1017</td>\n",
       "    </tr>\n",
       "    <tr>\n",
       "      <th>21</th>\n",
       "      <td>1018</td>\n",
       "    </tr>\n",
       "    <tr>\n",
       "      <th>22</th>\n",
       "      <td>1019</td>\n",
       "    </tr>\n",
       "    <tr>\n",
       "      <th>23</th>\n",
       "      <td>102</td>\n",
       "    </tr>\n",
       "    <tr>\n",
       "      <th>24</th>\n",
       "      <td>1020</td>\n",
       "    </tr>\n",
       "    <tr>\n",
       "      <th>25</th>\n",
       "      <td>1021</td>\n",
       "    </tr>\n",
       "    <tr>\n",
       "      <th>26</th>\n",
       "      <td>1022</td>\n",
       "    </tr>\n",
       "    <tr>\n",
       "      <th>27</th>\n",
       "      <td>1023</td>\n",
       "    </tr>\n",
       "    <tr>\n",
       "      <th>28</th>\n",
       "      <td>1024</td>\n",
       "    </tr>\n",
       "    <tr>\n",
       "      <th>29</th>\n",
       "      <td>1025</td>\n",
       "    </tr>\n",
       "    <tr>\n",
       "      <th>...</th>\n",
       "      <td>...</td>\n",
       "    </tr>\n",
       "    <tr>\n",
       "      <th>3868</th>\n",
       "      <td>972</td>\n",
       "    </tr>\n",
       "    <tr>\n",
       "      <th>3869</th>\n",
       "      <td>973</td>\n",
       "    </tr>\n",
       "    <tr>\n",
       "      <th>3870</th>\n",
       "      <td>974</td>\n",
       "    </tr>\n",
       "    <tr>\n",
       "      <th>3871</th>\n",
       "      <td>975</td>\n",
       "    </tr>\n",
       "    <tr>\n",
       "      <th>3872</th>\n",
       "      <td>976</td>\n",
       "    </tr>\n",
       "    <tr>\n",
       "      <th>3873</th>\n",
       "      <td>977</td>\n",
       "    </tr>\n",
       "    <tr>\n",
       "      <th>3874</th>\n",
       "      <td>978</td>\n",
       "    </tr>\n",
       "    <tr>\n",
       "      <th>3875</th>\n",
       "      <td>979</td>\n",
       "    </tr>\n",
       "    <tr>\n",
       "      <th>3876</th>\n",
       "      <td>98</td>\n",
       "    </tr>\n",
       "    <tr>\n",
       "      <th>3877</th>\n",
       "      <td>980</td>\n",
       "    </tr>\n",
       "    <tr>\n",
       "      <th>3878</th>\n",
       "      <td>981</td>\n",
       "    </tr>\n",
       "    <tr>\n",
       "      <th>3879</th>\n",
       "      <td>982</td>\n",
       "    </tr>\n",
       "    <tr>\n",
       "      <th>3880</th>\n",
       "      <td>983</td>\n",
       "    </tr>\n",
       "    <tr>\n",
       "      <th>3881</th>\n",
       "      <td>984</td>\n",
       "    </tr>\n",
       "    <tr>\n",
       "      <th>3882</th>\n",
       "      <td>985</td>\n",
       "    </tr>\n",
       "    <tr>\n",
       "      <th>3883</th>\n",
       "      <td>986</td>\n",
       "    </tr>\n",
       "    <tr>\n",
       "      <th>3884</th>\n",
       "      <td>987</td>\n",
       "    </tr>\n",
       "    <tr>\n",
       "      <th>3885</th>\n",
       "      <td>988</td>\n",
       "    </tr>\n",
       "    <tr>\n",
       "      <th>3886</th>\n",
       "      <td>989</td>\n",
       "    </tr>\n",
       "    <tr>\n",
       "      <th>3887</th>\n",
       "      <td>99</td>\n",
       "    </tr>\n",
       "    <tr>\n",
       "      <th>3888</th>\n",
       "      <td>990</td>\n",
       "    </tr>\n",
       "    <tr>\n",
       "      <th>3889</th>\n",
       "      <td>991</td>\n",
       "    </tr>\n",
       "    <tr>\n",
       "      <th>3890</th>\n",
       "      <td>992</td>\n",
       "    </tr>\n",
       "    <tr>\n",
       "      <th>3891</th>\n",
       "      <td>993</td>\n",
       "    </tr>\n",
       "    <tr>\n",
       "      <th>3892</th>\n",
       "      <td>994</td>\n",
       "    </tr>\n",
       "    <tr>\n",
       "      <th>3893</th>\n",
       "      <td>995</td>\n",
       "    </tr>\n",
       "    <tr>\n",
       "      <th>3894</th>\n",
       "      <td>996</td>\n",
       "    </tr>\n",
       "    <tr>\n",
       "      <th>3895</th>\n",
       "      <td>997</td>\n",
       "    </tr>\n",
       "    <tr>\n",
       "      <th>3896</th>\n",
       "      <td>998</td>\n",
       "    </tr>\n",
       "    <tr>\n",
       "      <th>3897</th>\n",
       "      <td>999</td>\n",
       "    </tr>\n",
       "  </tbody>\n",
       "</table>\n",
       "<p>3898 rows × 1 columns</p>\n",
       "</div>"
      ],
      "text/plain": [
       "      Jobs\n",
       "0       10\n",
       "1      100\n",
       "2     1000\n",
       "3     1001\n",
       "4     1002\n",
       "5     1003\n",
       "6     1004\n",
       "7     1005\n",
       "8     1006\n",
       "9     1007\n",
       "10    1008\n",
       "11    1009\n",
       "12     101\n",
       "13    1010\n",
       "14    1011\n",
       "15    1012\n",
       "16    1013\n",
       "17    1014\n",
       "18    1015\n",
       "19    1016\n",
       "20    1017\n",
       "21    1018\n",
       "22    1019\n",
       "23     102\n",
       "24    1020\n",
       "25    1021\n",
       "26    1022\n",
       "27    1023\n",
       "28    1024\n",
       "29    1025\n",
       "...    ...\n",
       "3868   972\n",
       "3869   973\n",
       "3870   974\n",
       "3871   975\n",
       "3872   976\n",
       "3873   977\n",
       "3874   978\n",
       "3875   979\n",
       "3876    98\n",
       "3877   980\n",
       "3878   981\n",
       "3879   982\n",
       "3880   983\n",
       "3881   984\n",
       "3882   985\n",
       "3883   986\n",
       "3884   987\n",
       "3885   988\n",
       "3886   989\n",
       "3887    99\n",
       "3888   990\n",
       "3889   991\n",
       "3890   992\n",
       "3891   993\n",
       "3892   994\n",
       "3893   995\n",
       "3894   996\n",
       "3895   997\n",
       "3896   998\n",
       "3897   999\n",
       "\n",
       "[3898 rows x 1 columns]"
      ]
     },
     "execution_count": 20,
     "metadata": {},
     "output_type": "execute_result"
    }
   ],
   "source": [
    "df['eos']['Data']['DoubleMuonRun2017F']"
   ]
  },
  {
   "cell_type": "code",
   "execution_count": null,
   "metadata": {},
   "outputs": [],
   "source": []
  },
  {
   "cell_type": "code",
   "execution_count": 37,
   "metadata": {
    "scrolled": true
   },
   "outputs": [
    {
     "name": "stdout",
     "output_type": "stream",
     "text": [
      "('Overlap', 1, 923)\n",
      "('NonOverlap', 922, 1151)\n",
      "\n",
      "\n",
      "DoubleMuonRun2017F\n",
      "----  F:1140 R:1155 EOS:3898 Gaps:7\n",
      "-- EOS Overlap Files         : 921\n",
      "-- EOS NonOverlap Files      : 2977\n",
      "-- Resubmit NonOverlap Files : 234\n",
      "-- Resubmit not in Gaps Files: 227\n",
      "\n",
      "\n",
      "-- Files Gaps: 3905\n",
      "-- Files     : 4132\n",
      "\n",
      "\n",
      "-- Finish estimate:921\n"
     ]
    }
   ],
   "source": [
    "for data in ['Data']:\n",
    "    for dataType in ['Muon','EG']:\n",
    "        pathData = 'Double'+dataType\n",
    "        for run in ['B','C','D','E','F']:\n",
    "            ################\n",
    "            \n",
    "            if run != 'F':\n",
    "                continue\n",
    "            #if dataType != 'EG':\n",
    "            if dataType != 'Muon':\n",
    "                continue\n",
    "            \n",
    "            ######################\n",
    "            try :\n",
    "                Failed   = df['failed']  [data][pathData+'Run'+era+run]['Jobs'].values\n",
    "                Resubmit = df['resubmit'][data][pathData+'Run'+era+run]['Jobs'].values\n",
    "                EOS      = df['eos']     [data][pathData+'Run'+era+run]['Jobs'].values\n",
    "            except:\n",
    "                continue\n",
    "                \n",
    "            eosFailOverlap    = GetOverlap(EOS,Failed)\n",
    "            eosFailNonOverlap = GetNonOverlap(EOS,Failed)\n",
    "            gaps              = GetGap(EOS,Failed,maximum=Total['Double'+dataType+'Run2017'+run])\n",
    "\n",
    "            \n",
    "            cmd = []\n",
    "            \n",
    "            ini   = 1\n",
    "            final = ini + len(eosFailOverlap)+1\n",
    "            varLoop = eosFailOverlap\n",
    "            print('Overlap',ini,final)\n",
    "            for overlap,i in zip(varLoop,np.arange(ini,final)):\n",
    "                replacement = pathEOS+pathData+'_merge/'+path[pathData]['resubmit'][run]+\"/Output_\"+str(i)+\".root\"\n",
    "                #original    = pathEOS+pathData+'_merge/'+path[pathData]   ['merge'][run]+ids[pathData]   ['merge'][run]+\"/Output_\"+str(overlap)+\".root\"\n",
    "                original    = pathEOS+pathData+'_merge/Double'+dataType+run+'_ResubmitCorrectIndex/Output_'+str(overlap)+\".root\"\n",
    "                cmd.append(\"cp \"+replacement+\" \"+original)\n",
    "                #print(replacement)\n",
    "                #print(original)\n",
    "            \n",
    "            ini   = final-1\n",
    "            final = ini + len(eosFailNonOverlap)+10\n",
    "            varLoop = eosFailNonOverlap\n",
    "            print('NonOverlap',ini,final)\n",
    "            for overlap,i in zip(varLoop,np.arange(ini,final)):\n",
    "                replacement = pathEOS+pathData+'_merge/'+path[pathData]['resubmit'][run]+\"/Output_\"+str(i)+\".root\"\n",
    "                #original    = pathEOS+pathData+'_merge/'+path[pathData]   ['merge'][run]+ids[pathData]   ['merge'][run]+\"/Output_\"+str(overlap)+\".root\"\n",
    "                original    = pathEOS+pathData+'_merge/Double'+dataType+run+'_ResubmitCorrectIndex/Output_'+str(overlap)+\".root\"\n",
    "                cmd.append(\"cp \"+replacement+\" \"+original)\n",
    "                #print(replacement)\n",
    "                #print(original)\n",
    "                #print(i,overlap)\n",
    "\n",
    "\n",
    "            if len(gaps) != 0:\n",
    "                for j,k in zip(np.arange(len(eosFailOverlap),len(Resubmit)), np.arange(len(gaps))):\n",
    "                    replacement = pathEOS+pathData+'_merge/'+path[pathData]['resubmit'][run]+\"/Output_\"+str(j)+\".root\"\n",
    "                    #original    = pathEOS+pathData+'_merge/'+path[pathData]   ['merge'][run]+ids[pathData]   ['merge'][run]+\"/Output_\"+str(gaps[k])+\".root\"\n",
    "                    original    = pathEOS+pathData+'_merge/Double'+dataType+run+'_ResubmitCorrectIndex/Output_'+str(gaps[k])+\".root\"\n",
    "                cmd.append(\"cp \"+replacement+\" \"+original)\n",
    "                \n",
    "                \n",
    "            print('\\n')\n",
    "            print(pathData+'Run'+era+run)\n",
    "            VerifyFileNumber(EOS,Failed,Resubmit,eosFailOverlap,gaps)\n",
    "            \n",
    "            #for cmdi in cms:\n",
    "            #    os.system(cmd)\n",
    "            dfCMD= pd.DataFrame(cmd)\n",
    "            dfCMD.to_csv('/home/jcordero/CMS/JYCMCMS/SMP_ZG/python/LPC/commands_'+dataType+run+'.txt',index=False)"
   ]
  },
  {
   "cell_type": "code",
   "execution_count": 25,
   "metadata": {},
   "outputs": [
    {
     "data": {
      "text/plain": [
       "2977"
      ]
     },
     "execution_count": 25,
     "metadata": {},
     "output_type": "execute_result"
    }
   ],
   "source": [
    "#len(eosFailOverlap) + len(eosFailNonOverlap)\n",
    "def VerifyFileNumber(EOS,Failed,Resubmit,eosFailOverlap,gaps):\n",
    "    print('----'+'  F:'+str(len(Failed))+' R:'+str(len(Resubmit))+' EOS:'+str(len(EOS))+' Gaps:'+str(len(gaps)))\n",
    "    \n",
    "    EOSNonoverlap = len(EOS)-len(eosFailOverlap)\n",
    "    ResubmitNonoverlap = len(Resubmit)-len(eosFailOverlap)\n",
    "    print('-- EOS Overlap Files         : '+str(len(eosFailOverlap)))\n",
    "    print('-- EOS NonOverlap Files      : '+str(EOSNonoverlap))\n",
    "    print('-- Resubmit NonOverlap Files : '+str(ResubmitNonoverlap))\n",
    "    \n",
    "    print('-- Resubmit not in Gaps Files: '+str(ResubmitNonoverlap-len(gaps)))\n",
    "    \n",
    "    print('\\n')\n",
    "    #print('-- Files: '+str(len(EOS)+ResubmitNonoverlap))\n",
    "    print('-- Files Gaps: '+str(len(EOS)+len(gaps)))\n",
    "    \n",
    "    print('-- Files     : '+str(len(EOS)+len(gaps)+(ResubmitNonoverlap-len(gaps))))\n",
    "    \n",
    "    print('\\n')\n",
    "    print('-- Finish estimate:'+str(len(EOS)-EOSNonoverlap))"
   ]
  },
  {
   "cell_type": "code",
   "execution_count": 36,
   "metadata": {},
   "outputs": [
    {
     "name": "stdout",
     "output_type": "stream",
     "text": [
      "DYJets\n",
      "----  F:4998 R:4621 EOS:5307 Gaps:1329\n",
      "-- EOS Overlap Files         : 3185\n",
      "-- EOS NonOverlap Files      : 2122\n",
      "-- Resubmit NonOverlap Files : 1436\n",
      "-- Resubmit not in Gaps Files: 107\n",
      "\n",
      "\n",
      "-- Files Gaps: 6636\n",
      "-- Files     : 6743\n",
      "\n",
      "\n",
      "-- Finish estimate:3185\n",
      "WJets\n",
      "----  F:2072 R:5 EOS:2074 Gaps:0\n",
      "-- EOS Overlap Files         : 2072\n",
      "-- EOS NonOverlap Files      : 2\n",
      "-- Resubmit NonOverlap Files : -2067\n",
      "-- Resubmit not in Gaps Files: -2067\n",
      "\n",
      "\n",
      "-- Files Gaps: 2074\n",
      "-- Files     : 7\n",
      "\n",
      "\n",
      "-- Finish estimate:2072\n",
      "ZZTo4L\n",
      "----  F:1212 R:6 EOS:1213 Gaps:1\n",
      "-- EOS Overlap Files         : 1212\n",
      "-- EOS NonOverlap Files      : 1\n",
      "-- Resubmit NonOverlap Files : -1206\n",
      "-- Resubmit not in Gaps Files: -1207\n",
      "\n",
      "\n",
      "-- Files Gaps: 1214\n",
      "-- Files     : 7\n",
      "\n",
      "\n",
      "-- Finish estimate:1212\n"
     ]
    }
   ],
   "source": [
    "'''\n",
    "DYJets\n",
    "finished 3827\n",
    "failed   3448\n",
    "Removed  1174\n",
    "'''\n",
    "for data in ['MC']:\n",
    "    for samp in Samples[data] :\n",
    "        try :\n",
    "            Failed   = df['failed']  [data][samp]['Jobs'][2:].values\n",
    "            Resubmit = df['resubmit'][data][samp]['Jobs'].values\n",
    "            EOS      = df['eos']     [data][samp]['Jobs'].values\n",
    "        except:\n",
    "            continue        \n",
    "\n",
    "        eosFailOverlap    = GetOverlap(EOS,Failed)\n",
    "        eosFailNonOverlap = GetNonOverlap(EOS,Failed)\n",
    "        gaps              = GetGap(EOS,Failed,maximum=Total[samp])\n",
    "\n",
    "        '''\n",
    "        for overlap,i in zip(eosFailOverlap,np.arange(len(eosFailOverlap))):\n",
    "            replacement = pathEOS+pathEG+'_merge/'+path['resubmit'][run]+ids['resubmit'][run]+\"/Output_\"+str(i)+\".root\"\n",
    "            original    = pathEOS+pathEG+'_merge/'+path['merge'][run]+ids['merge'][run]+\"/Output_\"+str(overlap)+\".root\"\n",
    "\n",
    "            print(i,overlap)\n",
    "\n",
    "            cmd = \"cp \"+replacement+\" \"+original\n",
    "            #os.system(cmd)\n",
    "\n",
    "        for j,k in zip(np.arange(len(eosFailOverlap),len(Resubmit)), np.arange(len(Resubmit)-len(eosFailOverlap))):\n",
    "            replacement = pathEOS+pathEG+'_merge/'+path['resubmit'][run]+ids['resubmit'][run]+\"/Output_\"+str(j)+\".root\"\n",
    "            original    = pathEOS+pathEG+'_merge/'+path['merge'][run]+ids['merge'][run]+\"/Output_\"+str(gaps[k])+\".root\"\n",
    "\n",
    "            print(j,gaps[k])\n",
    "\n",
    "            cmd = \"cp \"+replacement+\" \"+original\n",
    "            #os.system(cmd)\n",
    "        '''\n",
    "        print(samp)\n",
    "        VerifyFileNumber(EOS,Failed,Resubmit,eosFailOverlap,gaps)"
   ]
  },
  {
   "cell_type": "code",
   "execution_count": 32,
   "metadata": {
    "scrolled": true
   },
   "outputs": [
    {
     "data": {
      "text/plain": [
       "['ZG',\n",
       " 'DYJets',\n",
       " 'TTTo2L2Nu',\n",
       " 'WJets',\n",
       " 'WWTo2L2Nu',\n",
       " 'WZTo2L2Nu',\n",
       " 'ZZTo2L2Q',\n",
       " 'ZZTo4L',\n",
       " 'ZZTo2L2Nu']"
      ]
     },
     "execution_count": 32,
     "metadata": {},
     "output_type": "execute_result"
    }
   ],
   "source": [
    "Samples[data] "
   ]
  },
  {
   "cell_type": "code",
   "execution_count": 608,
   "metadata": {},
   "outputs": [],
   "source": [
    "dataType = 'EG'\n",
    "#dataType = 'Muon'\n",
    "run = 'F'\n",
    "\n",
    "Resubmit = df['resubmit']['Data']['Double'+dataType+'Run2017'+run]['Jobs'].values\n",
    "Failed   = df['failed']['Data']['Double'+dataType+'Run2017'+run]['Jobs'].values\n",
    "EOS      = df['eos']['Data']['Double'+dataType+'Run2017'+run]['Jobs'].values\n",
    "\n",
    "eosFailOverlap    = GetOverlap(EOS,Failed)\n",
    "eosFailNonOverlap = GetNonOverlap(EOS,Failed)\n",
    "gaps              = GetGap(EOS,Failed,maximum=Total['Double'+dataType+'Run2017'+run])\n",
    "\n",
    "    \n",
    "T = Total['Double'+dataType+'Run2017'+run]\n",
    "R = len(Resubmit)\n",
    "F = len(Failed)\n",
    "E = len(EOS)\n",
    "G = len(gaps)\n",
    "Over = len(eosFailOverlap)\n",
    "NonOver = len(eosFailNonOverlap)"
   ]
  },
  {
   "cell_type": "code",
   "execution_count": 609,
   "metadata": {},
   "outputs": [
    {
     "name": "stdout",
     "output_type": "stream",
     "text": [
      "(3842, 571, 571, 3735, 0, 464)\n"
     ]
    }
   ],
   "source": [
    "print(T,R,F,E,G,Over)"
   ]
  },
  {
   "cell_type": "code",
   "execution_count": 616,
   "metadata": {},
   "outputs": [],
   "source": [
    "TXT = pd.read_csv('/home/jcordero/CMS/JYCMCMS/SMP_ZG/python/LPC/indexDoubleEGF.txt')"
   ]
  },
  {
   "cell_type": "code",
   "execution_count": 621,
   "metadata": {},
   "outputs": [
    {
     "name": "stdout",
     "output_type": "stream",
     "text": [
      "0\n",
      "974\n"
     ]
    }
   ],
   "source": [
    "for I in np.arange(max(TXT['Jobs'].values)):\n",
    "    if not I in TXT['Jobs'].values:\n",
    "        print(I)"
   ]
  },
  {
   "cell_type": "code",
   "execution_count": null,
   "metadata": {},
   "outputs": [],
   "source": []
  },
  {
   "cell_type": "code",
   "execution_count": 581,
   "metadata": {},
   "outputs": [
    {
     "data": {
      "text/plain": [
       "3842"
      ]
     },
     "execution_count": 581,
     "metadata": {},
     "output_type": "execute_result"
    }
   ],
   "source": [
    "E+NonOver+G"
   ]
  },
  {
   "cell_type": "code",
   "execution_count": 582,
   "metadata": {},
   "outputs": [
    {
     "data": {
      "text/plain": [
       "[]"
      ]
     },
     "execution_count": 582,
     "metadata": {},
     "output_type": "execute_result"
    }
   ],
   "source": [
    "#np.sum(Failed==5)\n",
    "gaps"
   ]
  },
  {
   "cell_type": "code",
   "execution_count": 583,
   "metadata": {},
   "outputs": [
    {
     "data": {
      "text/plain": [
       "3949"
      ]
     },
     "execution_count": 583,
     "metadata": {},
     "output_type": "execute_result"
    }
   ],
   "source": [
    "T + (R - Over-G)"
   ]
  },
  {
   "cell_type": "code",
   "execution_count": null,
   "metadata": {},
   "outputs": [],
   "source": []
  },
  {
   "cell_type": "code",
   "execution_count": 584,
   "metadata": {},
   "outputs": [
    {
     "data": {
      "text/plain": [
       "0"
      ]
     },
     "execution_count": 584,
     "metadata": {},
     "output_type": "execute_result"
    }
   ],
   "source": [
    "R-Over-NonOver-G"
   ]
  },
  {
   "cell_type": "code",
   "execution_count": 525,
   "metadata": {},
   "outputs": [
    {
     "data": {
      "text/plain": [
       "107"
      ]
     },
     "execution_count": 525,
     "metadata": {},
     "output_type": "execute_result"
    }
   ],
   "source": [
    "T-(E+G)"
   ]
  },
  {
   "cell_type": "code",
   "execution_count": 526,
   "metadata": {},
   "outputs": [
    {
     "name": "stdout",
     "output_type": "stream",
     "text": [
      "(3164, 571, 571)\n"
     ]
    }
   ],
   "source": [
    "print(E-F,R,F)"
   ]
  },
  {
   "cell_type": "code",
   "execution_count": null,
   "metadata": {},
   "outputs": [],
   "source": [
    "Muon_Run2017E\n",
    "    finished    99.8% (2654/2658)\n",
    "    transferring 0.2% (   4/2658) \n",
    "    \n",
    "\n",
    "\n",
    "DoubleMuonRun2017E\n",
    "----  F:2 R:4 EOS:2657 Gaps:2\n",
    "-- EOS NonOverlap Files: 2655\n",
    "-- Resubmit NonOverlap Files: 2\n",
    "-- Resubmit not in Gaps Files: 0\n",
    "\n",
    "\n",
    "-- Files Gaps: 2659\n",
    "-- Files: 2659\n",
    "\n",
    "\n",
    "-- Finish estimate:2\n",
    "    \n",
    "    \n",
    "Files left to move to EOS 2658-2657 = 1\n",
    "\n",
    "\n",
    "#################################################    \n",
    "\n",
    "Muon_Run2017F\n",
    "    failed        7.0% ( 288/4124)\n",
    "    finished     72.0% (2969/4124) \n",
    "    killed        1.9% (  80/4124) \n",
    "    transferring 19.1% ( 787/4124) \n",
    "\n",
    "\n",
    "DoubleMuonRun2017F\n",
    "----  F:1140 R:1155 EOS:3898 Gaps:220\n",
    "-- EOS Overlap Files: 921\n",
    "-- EOS NonOverlap Files: 2977\n",
    "-- Resubmit NonOverlap Files: 234\n",
    "-- Resubmit not in Gaps Files: 14\n",
    "\n",
    "\n",
    "-- Files Gaps: 4118\n",
    "-- Files: 4132\n",
    "\n",
    "\n",
    "-- Finish estimate:921\n",
    "    \n",
    "##########\n",
    "    \n",
    "Files left to move to EOS 4124-3898 = 226\n",
    "    \n",
    "#################################################\n",
    "\n",
    "EG_Run2017B \n",
    "    failed     0.2% (   5/3080)\n",
    "    finished  99.8% (3075/3080) \n",
    "\n",
    "DoubleEGRun2017B\n",
    "----  F:4 R:5 EOS:3080 Gaps:1\n",
    "-- EOS NonOverlap Files: 3076\n",
    "-- Resubmit NonOverlap Files: 1\n",
    "-- Resubmit not in Gaps Files: 0\n",
    "\n",
    "\n",
    "-- Files Gaps: 3081\n",
    "-- Files: 3081\n",
    "\n",
    "\n",
    "-- Finish estimate:4\n",
    "\n",
    "##########\n",
    "\n",
    "EOS FULLL\n",
    "\n",
    "#################################################\n",
    "\n",
    "EG_Run2017F\n",
    "    failed      14.8% ( 570/3842)\n",
    "    finished    85.1% (3271/3842) \n",
    "    transferring 0.0% (   1/3842) \n",
    "    \n",
    "\n",
    "DoubleEGRun2017F\n",
    "----  F:571 R:571 EOS:3735 Gaps:107\n",
    "-- EOS NonOverlap Files: 3271\n",
    "-- Resubmit NonOverlap Files: 107\n",
    "-- Resubmit not in Gaps Files: 0\n",
    "\n",
    "\n",
    "-- Files Gaps: 3842\n",
    "-- Files: 3842\n",
    "\n",
    "\n",
    "-- Finish estimate:464\n",
    "\n",
    "##########\n",
    "    \n",
    "Files left to move to EOS 3842-3737 = 105\n",
    "    \n",
    "#################################################\n",
    "\n",
    "\n"
   ]
  },
  {
   "cell_type": "code",
   "execution_count": null,
   "metadata": {},
   "outputs": [],
   "source": [
    "DYJets\n",
    "----  F:4998 R:4621 EOS:5307 Gaps:2561\n",
    "-- EOS NonOverlap Files: 2122\n",
    "-- Resubmit NonOverlap Files: 1436\n",
    "-- Resubmit not in Gaps Files: -1125\n",
    "\n",
    "\n",
    "-- Files Gaps: 7868\n",
    "-- Files: 6743\n",
    "\n",
    "\n",
    "-- Finish estimate:3185\n",
    "    \n",
    "#################################################    \n",
    "    \n",
    "WJets\n",
    "----  F:2072 R:5 EOS:2074 Gaps:1\n",
    "-- EOS NonOverlap Files: 2\n",
    "-- Resubmit NonOverlap Files: -2067\n",
    "-- Resubmit not in Gaps Files: -2068\n",
    "\n",
    "\n",
    "-- Files Gaps: 2075\n",
    "-- Files: 7\n",
    "\n",
    "\n",
    "-- Finish estimate:2072\n",
    "    \n",
    "#################################################    \n",
    "    \n",
    "ZZTo4L\n",
    "----  F:1212 R:6 EOS:1213 Gaps:2\n",
    "-- EOS NonOverlap Files: 1\n",
    "-- Resubmit NonOverlap Files: -1206\n",
    "-- Resubmit not in Gaps Files: -1208\n",
    "\n",
    "\n",
    "-- Files Gaps: 1215\n",
    "-- Files: 7\n",
    "\n",
    "\n",
    "-- Finish estimate:1212\n",
    "    \n",
    "#################################################    "
   ]
  },
  {
   "cell_type": "code",
   "execution_count": 348,
   "metadata": {},
   "outputs": [],
   "source": [
    "hi = []\n",
    "for i in np.arange(1,Total['Double'+dataType+'Run2017'+run]):\n",
    "    hi.append(np.sum(Failed==i))"
   ]
  },
  {
   "cell_type": "code",
   "execution_count": 349,
   "metadata": {},
   "outputs": [],
   "source": [
    "import matplotlib.pyplot as plt\n",
    "import numpy as np "
   ]
  },
  {
   "cell_type": "code",
   "execution_count": 350,
   "metadata": {},
   "outputs": [
    {
     "data": {
      "text/plain": [
       "(array([2.983e+03, 0.000e+00, 0.000e+00, ..., 0.000e+00, 0.000e+00,\n",
       "        1.000e+00]),\n",
       " array([0.00000000e+00, 4.84966052e-04, 9.69932105e-04, ...,\n",
       "        1.99903007e+00, 1.99951503e+00, 2.00000000e+00]),\n",
       " <a list of 4124 Patch objects>)"
      ]
     },
     "execution_count": 350,
     "metadata": {},
     "output_type": "execute_result"
    },
    {
     "data": {
      "image/png": "[encoded data removed]",
      "text/plain": [
       "<Figure size 432x288 with 1 Axes>"
      ]
     },
     "metadata": {
      "needs_background": "light"
     },
     "output_type": "display_data"
    }
   ],
   "source": [
    "plt.hist(hi,\n",
    "         bins = Total['Double'+dataType+'Run2017'+run]\n",
    "        )"
   ]
  },
  {
   "cell_type": "code",
   "execution_count": 364,
   "metadata": {},
   "outputs": [
    {
     "name": "stdout",
     "output_type": "stream",
     "text": [
      "('F', 4123)\n",
      "(0, 2983)\n",
      "(1, 1139)\n",
      "(2, 1)\n",
      "(3, 0)\n",
      "(4, 0)\n",
      "(5, 0)\n",
      "(6, 0)\n",
      "(7, 0)\n",
      "(8, 0)\n",
      "(9, 0)\n"
     ]
    }
   ],
   "source": [
    "print(run,2983+1139+1)\n",
    "for i in np.arange(0,10):\n",
    "    print(i,np.sum((np.array(hi) == i)))"
   ]
  },
  {
   "cell_type": "code",
   "execution_count": null,
   "metadata": {},
   "outputs": [],
   "source": []
  }
 ],
 "metadata": {
  "kernelspec": {
   "display_name": "python3",
   "language": "python",
   "name": "python3"
  },
  "language_info": {
   "codemirror_mode": {
    "name": "ipython",
    "version": 2
   },
   "file_extension": ".py",
   "mimetype": "text/x-python",
   "name": "python",
   "nbconvert_exporter": "python",
   "pygments_lexer": "ipython2",
   "version": "2.7.17"
  }
 },
 "nbformat": 4,
 "nbformat_minor": 2
}
