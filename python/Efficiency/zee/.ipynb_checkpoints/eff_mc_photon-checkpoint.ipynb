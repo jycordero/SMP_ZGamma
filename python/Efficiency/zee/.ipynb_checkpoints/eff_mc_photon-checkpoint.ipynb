{
 "cells": [
  {
   "cell_type": "code",
   "execution_count": 22,
   "metadata": {},
   "outputs": [],
   "source": [
    "from ROOT import TFile,TTree,TH2F\n",
    "import array\n",
    "import matplotlib.pyplot as plt\n",
    "import numpy as np\n",
    "from root_pandas import read_root \n",
    "\n",
    "import scipy.special as spc\n",
    "from scipy.optimize import curve_fit\n"
   ]
  },
  {
   "cell_type": "code",
   "execution_count": 23,
   "metadata": {
    "code_folding": [
     0,
     19
    ]
   },
   "outputs": [],
   "source": [
    "def BinFormat(Bins,Type='ranges'):\n",
    "    bins = []\n",
    "    if Type == 'ranges':\n",
    "        if type(Bins[0]) is np.ndarray or type(Bins[0]) is list:\n",
    "            bins = Bins\n",
    "        else:\n",
    "            for i in np.arange(len(Bins)-1):\n",
    "                bins.append([Bins[i],Bins[i+1]])\n",
    "    elif Type == 'edges':\n",
    "        if type(Bins[0]) is int or type(Bins[0]) is float:\n",
    "            bins = Bins\n",
    "        else:\n",
    "            for b in Bins:\n",
    "                bins.append(b[0])\n",
    "            bins.append(Bins[-1][1])\n",
    "        bins = array.array(\"f\",bins)\n",
    "        \n",
    "    return bins\n",
    "\n",
    "def BinIndex(Data,Low,Max):\n",
    "    return np.logical_and(np.array(Data) >= Low, np.array(Data) <  Max)"
   ]
  },
  {
   "cell_type": "code",
   "execution_count": 24,
   "metadata": {},
   "outputs": [],
   "source": [
    "Folder = \"TagProbe\"\n",
    "path = \"/home/jcordero/CMS/data_2016/legacy/SMP_ZG/Files/ee/files_zee/\"+Folder+\"/DYJets/\"\n",
    "fileName = \"output_DYJets_v.root\"\n",
    "file = TFile(path+fileName,\"read\")\n"
   ]
  },
  {
   "cell_type": "code",
   "execution_count": 25,
   "metadata": {},
   "outputs": [],
   "source": [
    "Probe = file.Get(\"EGammaProbe\")\n",
    "Pass = file.Get(\"EGammaProbePass\")\n",
    "\n",
    "tree = file.Get(\"tree_dyjets\")\n"
   ]
  },
  {
   "cell_type": "code",
   "execution_count": 26,
   "metadata": {},
   "outputs": [],
   "source": [
    "ptBins  = array.array('f',[0,20,40,50,90,150,500])\n",
    "#ptBins  = array.array(\"f\",[10,20,35,50,90,150,500])\n",
    "\n",
    "#etaBins = array.array(\"f\",[-2.5,-2,-1.566,-1.4442,-1.0,0,1.0,1.4442,1.566,2,2.5])\n",
    "etaBins = array.array(\"f\",[-2.5,-1.566,-1.4442,0,1.4442,1.566,2.5])\n",
    "\n",
    "ptNBins,etaNBins = len(ptBins),len(etaBins)\n",
    "\n",
    "ProbeCount , PassCount , eff = {},{},{}\n",
    "for i in range(ptNBins):\n",
    "    ProbeCount[i] , PassCount[i] , eff[i] = {}, {}, {}\n",
    "    for j in range(etaNBins):\n",
    "        ProbeCount[i][j] = Probe.GetBinContent(i,j)\n",
    "        PassCount[i][j]  = Pass .GetBinContent(i,j)\n",
    "        \n",
    "        if ProbeCount[i][j] == 0:\n",
    "            eff[i][j] = 0\n",
    "        else:\n",
    "            eff[i][j] = PassCount[i][j]/ProbeCount[i][j]"
   ]
  },
  {
   "cell_type": "code",
   "execution_count": 27,
   "metadata": {
    "scrolled": true
   },
   "outputs": [],
   "source": [
    "eff2D = eff"
   ]
  },
  {
   "cell_type": "code",
   "execution_count": 28,
   "metadata": {
    "scrolled": true
   },
   "outputs": [],
   "source": [
    "fileOut = TFile(\"eff_photon.root\",\"recreate\")\n",
    "tree = TTree(\"eff_photon\",\"eff_photon\")\n",
    "\n",
    "ptNBins,etaNBins = len(ptBins)-1,len(etaBins)-1\n",
    "hist2d = TH2F(\"EGamma_eff\",\"Eff\",\n",
    "              ptNBins ,ptBins,\n",
    "              etaNBins,etaBins)\n",
    "\n",
    "\n",
    "tree.Branch(\"eff\",hist2d,\"TH2F\")\n",
    "\n",
    "\n",
    "\n",
    "'''\n",
    "hist2d = TH2F(\"EGamma_eff\",\"Eff\",\n",
    "              ptNBins,ptBinsDown,ptBinsUp\n",
    "              etaNBins,etaBinsDown)\n",
    "'''\n",
    "for i in range(ptNBins+1):\n",
    "    for j in range(etaNBins+1):\n",
    "        #print(i,j)\n",
    "        hist2d.SetBinContent(i,j,eff[i][j])\n",
    "        tree.Fill()\n",
    "fileOut.Write()\n",
    "fileOut.Close()"
   ]
  },
  {
   "cell_type": "code",
   "execution_count": null,
   "metadata": {},
   "outputs": [],
   "source": []
  },
  {
   "cell_type": "markdown",
   "metadata": {},
   "source": [
    "# Create Eff for MC"
   ]
  },
  {
   "cell_type": "code",
   "execution_count": 29,
   "metadata": {},
   "outputs": [],
   "source": [
    "NewOld = 'TagProbe/'\n",
    "\n",
    "#path = \"/home/jcordero/CMS/JYCMCMS/SMP_ZG/python/Efficiency/files_zee/\"+NewOld+\"SingleElectron/\"\n",
    "figpath = '/home/jcordero/CMS/JYCMCMS/SMP_ZG/python/Efficiency/'\n",
    "\n",
    "var = [\"dileptonM\",\n",
    "       \"leptonOnePt\",\"leptonOneEta\",\n",
    "       \"leptonTwoPt\",\"leptonTwoEta\",\n",
    "       \"vetoDY\",\"genIsoPass\",\n",
    "       \"ProbePass\",\n",
    "       \"TagFromZ\",\"ProbeFromZ\",\n",
    "      ]"
   ]
  },
  {
   "cell_type": "code",
   "execution_count": null,
   "metadata": {},
   "outputs": [],
   "source": []
  },
  {
   "cell_type": "code",
   "execution_count": 30,
   "metadata": {},
   "outputs": [],
   "source": [
    "#samples = [\"DYJets\",\"WJets\"]\n",
    "samples = [\"DYJets\"]\n",
    "s = samples[0]\n",
    "\n",
    "path = \"/home/jcordero/CMS/data_2016/legacy/SMP_ZG/Files/ee/files_zee/\"+NewOld+s+\"/\"\n",
    "fileName = \"output_\"+s+\"_v.root\"\n",
    "dfMC = read_root(path+fileName,columns = var)\n"
   ]
  },
  {
   "cell_type": "code",
   "execution_count": null,
   "metadata": {
    "code_folding": []
   },
   "outputs": [],
   "source": []
  },
  {
   "cell_type": "code",
   "execution_count": 38,
   "metadata": {},
   "outputs": [],
   "source": [
    "ProbeType = \"Pass\"\n",
    "part      = 'dilepton'\n",
    "variable  = 'M'\n",
    "sample    = dfMC\n",
    "\n",
    "ptBins, etaBins = BinFormat(ptBins,Type='ranges'),BinFormat(etaBins,Type='ranges')\n",
    "ptNBins , etaNBins= len(ptBins), len(etaBins)\n",
    "\n",
    "Yields = {}\n",
    "Yields[ProbeType] = {}\n",
    "\n",
    "for j in np.arange(ptNBins):\n",
    "    '''\n",
    "    if j in BinEBEE:\n",
    "        etaBINS = etaBinsEBEE\n",
    "    else:\n",
    "        etaBINS = etaBins\n",
    "    '''\n",
    "    Yields[ProbeType][j] = {}\n",
    "    \n",
    "    for i in np.arange(etaNBins):\n",
    "    #for i in np.arange(len(etaBINS)):                 \n",
    "        VAL = sample[part+variable]\n",
    "        #Ind = sample.vetoDY == False\n",
    "        if ProbeType == \"Pass\":\n",
    "            Ind = sample[\"ProbePass\"] == True\n",
    "        else:\n",
    "            Ind = sample[\"ProbePass\"] == False\n",
    "            \n",
    "        if samples == \"DYJets\":\n",
    "            Ind = np.logical_and(Ind,sample.ProbeFromZ == True)\n",
    "\n",
    "        Var = np.array(VAL[Ind])\n",
    "        Pt  = sample['leptonTwoPt'][Ind]\n",
    "        Eta = sample['leptonTwoEta'][Ind]\n",
    "\n",
    "\n",
    "        ptInd  = BinIndex(Pt , ptBins [j][0], ptBins [j][1])\n",
    "        #etaInd = BinIndex(Eta, etaBINS[i][0], etaBINS[i][1])\n",
    "        etaInd = BinIndex(Eta, etaBins[i][0], etaBins[i][1])\n",
    "        Ind    = np.logical_and(ptInd,etaInd)\n",
    "        \n",
    "        #print(i,j,np.sum(ptInd),np.sum(etaInd))\n",
    "        Yields[ProbeType][j][i] = np.sum(Ind)\n",
    "#dfMC.leptonProbeFailPt"
   ]
  },
  {
   "cell_type": "code",
   "execution_count": null,
   "metadata": {},
   "outputs": [],
   "source": []
  },
  {
   "cell_type": "code",
   "execution_count": 39,
   "metadata": {},
   "outputs": [
    {
     "name": "stdout",
     "output_type": "stream",
     "text": [
      "0 0 [0.0, 20.0] [-2.5, -1.565999984741211] 30916\n",
      "1 0 [0.0, 20.0] [-1.565999984741211, -1.444200038909912] 1610\n",
      "2 0 [0.0, 20.0] [-1.444200038909912, 0.0] 65894\n",
      "3 0 [0.0, 20.0] [0.0, 1.444200038909912] 66930\n",
      "4 0 [0.0, 20.0] [1.444200038909912, 1.565999984741211] 1506\n",
      "5 0 [0.0, 20.0] [1.565999984741211, 2.5] 32314\n",
      "0 1 [20.0, 40.0] [-2.5, -1.565999984741211] 29349\n",
      "1 1 [20.0, 40.0] [-1.565999984741211, -1.444200038909912] 713\n",
      "2 1 [20.0, 40.0] [-1.444200038909912, 0.0] 76513\n",
      "3 1 [20.0, 40.0] [0.0, 1.444200038909912] 76804\n",
      "4 1 [20.0, 40.0] [1.444200038909912, 1.565999984741211] 742\n",
      "5 1 [20.0, 40.0] [1.565999984741211, 2.5] 31975\n",
      "0 2 [40.0, 50.0] [-2.5, -1.565999984741211] 2569\n",
      "1 2 [40.0, 50.0] [-1.565999984741211, -1.444200038909912] 44\n",
      "2 2 [40.0, 50.0] [-1.444200038909912, 0.0] 7060\n",
      "3 2 [40.0, 50.0] [0.0, 1.444200038909912] 7060\n",
      "4 2 [40.0, 50.0] [1.444200038909912, 1.565999984741211] 37\n",
      "5 2 [40.0, 50.0] [1.565999984741211, 2.5] 2877\n",
      "0 3 [50.0, 90.0] [-2.5, -1.565999984741211] 525\n",
      "1 3 [50.0, 90.0] [-1.565999984741211, -1.444200038909912] 13\n",
      "2 3 [50.0, 90.0] [-1.444200038909912, 0.0] 1625\n",
      "3 3 [50.0, 90.0] [0.0, 1.444200038909912] 1673\n",
      "4 3 [50.0, 90.0] [1.444200038909912, 1.565999984741211] 2\n",
      "5 3 [50.0, 90.0] [1.565999984741211, 2.5] 603\n",
      "0 4 [90.0, 150.0] [-2.5, -1.565999984741211] 17\n",
      "1 4 [90.0, 150.0] [-1.565999984741211, -1.444200038909912] 1\n",
      "2 4 [90.0, 150.0] [-1.444200038909912, 0.0] 59\n",
      "3 4 [90.0, 150.0] [0.0, 1.444200038909912] 67\n",
      "4 4 [90.0, 150.0] [1.444200038909912, 1.565999984741211] 0\n",
      "5 4 [90.0, 150.0] [1.565999984741211, 2.5] 14\n",
      "0 5 [150.0, 500.0] [-2.5, -1.565999984741211] 1\n",
      "1 5 [150.0, 500.0] [-1.565999984741211, -1.444200038909912] 0\n",
      "2 5 [150.0, 500.0] [-1.444200038909912, 0.0] 8\n",
      "3 5 [150.0, 500.0] [0.0, 1.444200038909912] 7\n",
      "4 5 [150.0, 500.0] [1.444200038909912, 1.565999984741211] 0\n",
      "5 5 [150.0, 500.0] [1.565999984741211, 2.5] 0\n"
     ]
    }
   ],
   "source": [
    "ProbeType = \"Fail\"\n",
    "part      = 'dilepton'\n",
    "variable  = 'M'\n",
    "\n",
    "ptBins, etaBins = BinFormat(ptBins,Type='ranges'),BinFormat(etaBins,Type='ranges')\n",
    "\n",
    "Yields[ProbeType] = {}\n",
    "\n",
    "for j in np.arange(ptNBins):\n",
    "    '''\n",
    "    if j in BinEBEE:\n",
    "        etaBINS = etaBinsEBEE\n",
    "    else:\n",
    "        etaBINS = etaBins\n",
    "    '''\n",
    "    Yields[ProbeType][j] = {}\n",
    "    \n",
    "    for i in np.arange(etaNBins):                \n",
    "        VAL = sample[part+variable]\n",
    "\n",
    "        if ProbeType == \"Pass\":\n",
    "            Ind = sample[\"ProbePass\"] == True\n",
    "        else:\n",
    "            Ind = sample[\"ProbePass\"] == False\n",
    "            \n",
    "        if samples == \"DYJets\":\n",
    "            Ind = np.logical_and(Ind,sample.ProbeFromZ == True)\n",
    "        \n",
    "        Var = np.array(VAL[Ind])\n",
    "        Pt  = sample['leptonTwoPt'][Ind]\n",
    "        Eta = sample['leptonTwoEta'][Ind]\n",
    "        \n",
    "\n",
    "        ptInd  = BinIndex(Pt , ptBins [j][0], ptBins [j][1])\n",
    "        #etaInd = BinIndex(Eta, etaBINS[i][0], etaBINS[i][1])\n",
    "        etaInd = BinIndex(Eta, etaBins[i][0], etaBins[i][1])\n",
    "        Ind    = np.logical_and(ptInd,etaInd)\n",
    "        \n",
    "        print(i,j,ptBins[j], etaBins[i],np.sum(Ind))\n",
    "        \n",
    "        Yields[ProbeType][j][i] = np.sum(Ind)"
   ]
  },
  {
   "cell_type": "code",
   "execution_count": 40,
   "metadata": {},
   "outputs": [
    {
     "name": "stderr",
     "output_type": "stream",
     "text": [
      "/home/jcordero/anaconda3/lib/python3.6/site-packages/ipykernel_launcher.py:5: RuntimeWarning: invalid value encountered in long_scalars\n",
      "  \"\"\"\n"
     ]
    }
   ],
   "source": [
    "eff = {}\n",
    "for j in np.arange(ptNBins):    \n",
    "    eff[j] = {}\n",
    "    for i in np.arange(etaNBins):\n",
    "        eff[j][i] = Yields['Pass'][j][i]/(Yields['Pass'][j][i] + Yields['Fail'][j][i])"
   ]
  },
  {
   "cell_type": "code",
   "execution_count": 41,
   "metadata": {},
   "outputs": [
    {
     "name": "stdout",
     "output_type": "stream",
     "text": [
      "0 0 0.3821619137073083\n",
      "0 1 0.45386702849389415\n",
      "0 2 0.41541355051056167\n",
      "0 3 0.4164828554241027\n",
      "0 4 0.4787123572170301\n",
      "0 5 0.4002264417098205\n",
      "1 0 0.6069400546418814\n",
      "1 1 0.4212662337662338\n",
      "1 2 0.6970693969339922\n",
      "1 3 0.7055151682463728\n",
      "1 4 0.43915343915343913\n",
      "1 5 0.6614790111693399\n",
      "2 0 0.814418839846854\n",
      "2 1 0.5849056603773585\n",
      "2 2 0.8875545503774727\n",
      "2 3 0.8922482868088094\n",
      "2 4 0.6224489795918368\n",
      "2 5 0.8559483276587222\n",
      "3 0 0.712013165112452\n",
      "3 1 0.5517241379310345\n",
      "3 2 0.7990105132962276\n",
      "3 3 0.7968920723564404\n",
      "3 4 0.9\n",
      "3 5 0.7484355444305382\n",
      "4 0 0.8425925925925926\n",
      "4 1 0.0\n",
      "4 2 0.8861003861003861\n",
      "4 3 0.8752327746741154\n",
      "4 4 1.0\n",
      "4 5 0.8923076923076924\n",
      "5 0 0.875\n",
      "5 1 nan\n",
      "5 2 0.875\n",
      "5 3 0.8955223880597015\n",
      "5 4 nan\n",
      "5 5 1.0\n"
     ]
    }
   ],
   "source": [
    "fileOut = TFile(\"eff_photon.root\",\"recreate\")\n",
    "tree = TTree(\"eff_photon\",\"eff_photon\")\n",
    "\n",
    "ptBins, etaBins = BinFormat(ptBins,Type='edges'),BinFormat(etaBins,Type='edges')\n",
    "ptNBins,etaNBins = len(ptBins)-1,len(etaBins)-1\n",
    "\n",
    "hist2d = TH2F(\"EGamma_eff\",\"Eff\",\n",
    "              ptNBins ,ptBins,\n",
    "              etaNBins,etaBins)\n",
    "\n",
    "\n",
    "tree.Branch(\"eff\",hist2d,\"TH2F\")\n",
    "\n",
    "\n",
    "#for i in range(ptNBins):\n",
    "#    for j in range(etaNBins):\n",
    "for i in range(ptNBins):\n",
    "    for j in range(etaNBins):        \n",
    "        print(i,j,eff[i][j])\n",
    "        hist2d.SetBinContent(i,j,eff[i][j])\n",
    "        tree.Fill()\n",
    "fileOut.Write()\n",
    "fileOut.Close()\n",
    "\n"
   ]
  },
  {
   "cell_type": "code",
   "execution_count": 14,
   "metadata": {},
   "outputs": [
    {
     "data": {
      "image/png": "[encoded data removed]",
      "text/plain": [
       "<Figure size 432x288 with 1 Axes>"
      ]
     },
     "metadata": {},
     "output_type": "display_data"
    }
   ],
   "source": [
    "#variable = \"dileptonM\"\n",
    "#variable = \"leptonOnePt\"\n",
    "variable = \"leptonTwoPt\"\n",
    "ranges = {\n",
    "            'dileptonM'  : [60, 120],\n",
    "            'leptonOnePt': [ 0, 200],\n",
    "            'leptonTwoPt': [ 0, 100],\n",
    "         }\n",
    "\n",
    "Ind = sample[\"ProbePass\"] == True\n",
    "plt.hist(\n",
    "        sample[variable][Ind],\n",
    "        range = ranges[variable],\n",
    "        bins  = 60,\n",
    "        );"
   ]
  },
  {
   "cell_type": "code",
   "execution_count": 15,
   "metadata": {},
   "outputs": [
    {
     "name": "stdout",
     "output_type": "stream",
     "text": [
      "780522 453151\n"
     ]
    }
   ],
   "source": [
    "\n",
    "print(\n",
    "    np.sum(sample[\"ProbePass\"] == True),\n",
    "    np.sum(sample[\"ProbePass\"] == False)\n",
    "     )"
   ]
  },
  {
   "cell_type": "code",
   "execution_count": 35,
   "metadata": {},
   "outputs": [
    {
     "data": {
      "text/plain": [
       "{0: {0: 0, 1: 0, 2: 0, 3: 0, 4: 0, 5: 0, 6: 0},\n",
       " 1: {0: 0,\n",
       "  1: 0.2666991571584198,\n",
       "  2: 0,\n",
       "  3: 0.3525362241975518,\n",
       "  4: 0,\n",
       "  5: 0,\n",
       "  6: 0},\n",
       " 2: {0: 0,\n",
       "  1: 0.5186978481806005,\n",
       "  2: 0,\n",
       "  3: 0.5941453935164738,\n",
       "  4: 0,\n",
       "  5: 0,\n",
       "  6: 0},\n",
       " 3: {0: 0,\n",
       "  1: 0.7662756864884525,\n",
       "  2: 0,\n",
       "  3: 0.8315432923429725,\n",
       "  4: 0,\n",
       "  5: 0,\n",
       "  6: 0},\n",
       " 4: {0: 0,\n",
       "  1: 0.6909739102252471,\n",
       "  2: 0,\n",
       "  3: 0.7546780094172837,\n",
       "  4: 0,\n",
       "  5: 0,\n",
       "  6: 0},\n",
       " 5: {0: 0,\n",
       "  1: 0.6426712922810061,\n",
       "  2: 0,\n",
       "  3: 0.6645952011047817,\n",
       "  4: 0,\n",
       "  5: 0,\n",
       "  6: 0},\n",
       " 6: {0: 0,\n",
       "  1: 0.7581395348837209,\n",
       "  2: 0,\n",
       "  3: 0.7308762169680111,\n",
       "  4: 0,\n",
       "  5: 0,\n",
       "  6: 0}}"
      ]
     },
     "execution_count": 35,
     "metadata": {},
     "output_type": "execute_result"
    }
   ],
   "source": [
    "eff2D"
   ]
  },
  {
   "cell_type": "code",
   "execution_count": 36,
   "metadata": {},
   "outputs": [
    {
     "data": {
      "text/plain": [
       "{0: {0: 0.3821619137073083,\n",
       "  1: 0.45386702849389415,\n",
       "  2: 0.41541355051056167,\n",
       "  3: 0.4164828554241027,\n",
       "  4: 0.4787123572170301,\n",
       "  5: 0.4002264417098205},\n",
       " 1: {0: 0.6069400546418814,\n",
       "  1: 0.4212662337662338,\n",
       "  2: 0.6970693969339922,\n",
       "  3: 0.7055151682463728,\n",
       "  4: 0.43915343915343913,\n",
       "  5: 0.6614790111693399},\n",
       " 2: {0: 0.814418839846854,\n",
       "  1: 0.5849056603773585,\n",
       "  2: 0.8875545503774727,\n",
       "  3: 0.8922482868088094,\n",
       "  4: 0.6224489795918368,\n",
       "  5: 0.8559483276587222},\n",
       " 3: {0: 0.712013165112452,\n",
       "  1: 0.5517241379310345,\n",
       "  2: 0.7990105132962276,\n",
       "  3: 0.7968920723564404,\n",
       "  4: 0.9,\n",
       "  5: 0.7484355444305382},\n",
       " 4: {0: 0.8425925925925926,\n",
       "  1: 0.0,\n",
       "  2: 0.8861003861003861,\n",
       "  3: 0.8752327746741154,\n",
       "  4: 1.0,\n",
       "  5: 0.8923076923076924},\n",
       " 5: {0: 0.875, 1: nan, 2: 0.875, 3: 0.8955223880597015, 4: nan, 5: 1.0}}"
      ]
     },
     "execution_count": 36,
     "metadata": {},
     "output_type": "execute_result"
    }
   ],
   "source": [
    "eff"
   ]
  },
  {
   "cell_type": "code",
   "execution_count": null,
   "metadata": {},
   "outputs": [],
   "source": []
  },
  {
   "cell_type": "code",
   "execution_count": null,
   "metadata": {},
   "outputs": [],
   "source": []
  }
 ],
 "metadata": {
  "kernelspec": {
   "display_name": "Python 3",
   "language": "python",
   "name": "python3"
  },
  "language_info": {
   "codemirror_mode": {
    "name": "ipython",
    "version": 3
   },
   "file_extension": ".py",
   "mimetype": "text/x-python",
   "name": "python",
   "nbconvert_exporter": "python",
   "pygments_lexer": "ipython3",
   "version": "3.6.5"
  }
 },
 "nbformat": 4,
 "nbformat_minor": 2
}
