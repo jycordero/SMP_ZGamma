{
 "cells": [
  {
   "cell_type": "code",
   "execution_count": 1,
   "metadata": {},
   "outputs": [
    {
     "name": "stdout",
     "output_type": "stream",
     "text": [
      "Welcome to JupyROOT 6.16/00\n"
     ]
    }
   ],
   "source": [
    "import os\n",
    "import array\n",
    "import numpy as np\n",
    "import matplotlib.pyplot as plt\n",
    "\n",
    "from Common.CommonHelper import CommonHelper\n",
    "\n",
    "from ROOT import TFile, TTree, TH2F, TCanvas"
   ]
  },
  {
   "cell_type": "code",
   "execution_count": 2,
   "metadata": {},
   "outputs": [],
   "source": [
    "import matplotlib as mpl"
   ]
  },
  {
   "cell_type": "code",
   "execution_count": 3,
   "metadata": {},
   "outputs": [],
   "source": [
    "mpl.rcParams['axes.grid'] = True\n",
    "mpl.rcParams['grid.linestyle'] = '--'\n",
    "mpl.rcParams['axes.titlesize'] = 22\n",
    "mpl.rcParams['axes.labelsize'] = 18\n",
    "mpl.rcParams['xtick.labelsize'] = 16\n",
    "mpl.rcParams['ytick.labelsize'] = 16\n",
    "mpl.rcParams['legend.fontsize'] = \"medium\""
   ]
  },
  {
   "cell_type": "code",
   "execution_count": null,
   "metadata": {},
   "outputs": [],
   "source": []
  },
  {
   "cell_type": "code",
   "execution_count": 4,
   "metadata": {},
   "outputs": [],
   "source": [
    "def SFPlot(path,Data,MC):\n",
    "    fileName = 'sf_photon.root'\n",
    "    path = os.path.join(path,fileName)\n",
    "    print(path)\n",
    "    \n",
    "    File = TFile(path,'recreate')\n",
    "    tree = TTree('tree_SF','tree_SF')\n",
    "\n",
    "\n",
    "    hist2d = TH2F(\"SF\",\"SF\",\n",
    "                  ptNBins,ptBins,\n",
    "                  etaNBins,etaBins)\n",
    "\n",
    "    tree.Branch(\"sf\",hist2d,\"TH2F\")\n",
    "    #hist2d.SetAxisRange(0,1,\"Z\")\n",
    "    #hist2d.SetAxisRange(0,2,\"Z\")\n",
    "    \n",
    "    SF = {}\n",
    "\n",
    "    for i in range(1,len(ptBins)):\n",
    "        SF[i] = {}\n",
    "        for j in range(1,len(etaBins)):\n",
    "            data = Data.GetBinContent(i,j)\n",
    "            mc = MC.GetBinContent(i,j)        \n",
    "            if mc == 0:\n",
    "                SF[i][j] = 1\n",
    "            else:\n",
    "                SF[i][j] = data/mc\n",
    "\n",
    "            #print(ptBins[i],etaBins[j],data,mc)\n",
    "            print(i,j,data,mc,SF[i][j])            \n",
    "            hist2d.SetBinContent(i,j,SF[i][j])\n",
    "            tree.Fill()\n",
    "\n",
    "    c = TCanvas()\n",
    "    hist2d.GetZaxis().SetRangeUser(0.975,1.32)\n",
    "    hist2d.Draw(\"COLZ text\")\n",
    "    c.Draw()  \n",
    "    \n",
    "    File.Write()\n",
    "    File.Close()\n",
    "    \n",
    "    return SF\n",
    "    \n",
    "def SFFill(SF):\n",
    "    SF = {}\n",
    "\n",
    "    for i in range(1,len(ptBins)):\n",
    "        SF[i] = {}\n",
    "        for j in range(1,len(etaBins)):\n",
    "            data = Data.GetBinContent(i,j)\n",
    "            mc = MC.GetBinContent(i,j)        \n",
    "            if mc == 0:\n",
    "                SF[i][j] = 1\n",
    "            else:\n",
    "                SF[i][j] = data/mc\n",
    "\n",
    "            #print(ptBins[i],etaBins[j],data,mc)\n",
    "            print(i,j,data,mc,SF[i][j])            \n",
    "            hist2d.SetBinContent(i,j,SF[i][j])\n",
    "            tree.Fill()\n",
    "\n",
    "    c = TCanvas()\n",
    "    hist2d.GetZaxis().SetRangeUser(0.975,1.32)\n",
    "    hist2d.Draw(\"COLZ text\")\n",
    "    c.Draw()  \n",
    "    \n",
    "    File.Write()\n",
    "    File.Close()"
   ]
  },
  {
   "cell_type": "code",
   "execution_count": 5,
   "metadata": {},
   "outputs": [],
   "source": [
    "def SFStat(SF,MC,dMC,DATA,dDATA):\n",
    "    #MC = MC if MC != 0 else 1\n",
    "    #DATA = DATA if DATA != 0 else 1\n",
    "    return SF*np.sqrt((dDATA/DATA)**2 + (dMC/MC)**2)"
   ]
  },
  {
   "cell_type": "code",
   "execution_count": 6,
   "metadata": {},
   "outputs": [],
   "source": [
    "#ptBins  = array.array('f',[0,20,40,50,90,150,500])\n",
    "#ptBins  = array.array(\"f\",[10,20,35,50,90,150,500])\n",
    "ptBins = array.array(\"f\",[15.0, 20.0, 35.0, 50.0, 90.0, 150.0, 1500.0])\n",
    "#ptBins = array.array(\"f\",[15.0, 20.0, 35.0, 50.0, 90.0, 150.0])\n",
    "\n",
    "#etaBins = array.array(\"f\",[-2.5,-2,-1.566,-1.4442,-1.0,0,1.0,1.4442,1.566,2,2.5])\n",
    "#etaBins = array.array(\"f\",[-2.5,-1.566,-1.4442,0,1.4442,1.566,2.5])\n",
    "#etaBins = array.array(\"f\",[0,1.4442,1.566,2.5])\n",
    "etaBins = array.array(\"f\",[0,1.4442,2.5])\n",
    "\n",
    "ptNBins, etaNBins  = len(ptBins)-1, len(etaBins)-1\n",
    "\n",
    "ptC = CommonHelper.Plot.BinFormat(ptBins,Type='center')\n",
    "ptL = [str(ptL) for ptL in CommonHelper.Plot.BinFormat(ptBins)]\n",
    "etaB = [[0,1.4442],[1.566, 2.5]]\n",
    "etaC = CommonHelper.Plot.BinFormat(etaB,Type='center')\n",
    "etaL = ['EB','EE']\n",
    "etaErr = [0.7221,0.467]"
   ]
  },
  {
   "cell_type": "code",
   "execution_count": 7,
   "metadata": {},
   "outputs": [],
   "source": [
    "def Axis():\n",
    "    ptC = CommonHelper.Plot.BinFormat(ptBins,Type='center')\n",
    "    ptL = [str(ptL) for ptL in CommonHelper.Plot.BinFormat(ptBins)]\n",
    "    etaB = [[0,1.4442],[1.566, 2.5]]\n",
    "    etaC = CommonHelper.Plot.BinFormat(etaB,Type='center')\n",
    "    etaL = ['EB','EE']\n",
    "    etaErr = [0.7221,0.467]"
   ]
  },
  {
   "cell_type": "code",
   "execution_count": 8,
   "metadata": {},
   "outputs": [],
   "source": [
    "def PlotSFEta(SF):\n",
    "    var,datamc = 'eta','sf'\n",
    "\n",
    "    plt.figure(figsize=(8,8))\n",
    "    for i in range(1,len(ptBins)):\n",
    "        plt.errorbar(etaC,np.array([SF[i][j] for j in range(1,len(etaBins))]),\n",
    "                    xerr = etaErr,\n",
    "                    yerr = np.array([SFStat(SF[i][j],\n",
    "                                            MC.GetBinContent(i,j) ,\n",
    "                                            MCStat.GetBinContent(i,j),\n",
    "                                            Data.GetBinContent(i,j),\n",
    "                                            DataStat.GetBinContent(i,j),\n",
    "                                           ) for j in range(1,len(etaBins))]),\n",
    "                     linestyle = '',\n",
    "                     label = str(ptL[i-1]),\n",
    "                    )\n",
    "\n",
    "\n",
    "    plt.legend()\n",
    "    \n",
    "    ax = plt.gca()\n",
    "    ax.set_title('Scale Factors')\n",
    "    ax.set_xlim([0,2.5])\n",
    "    ax.set_xlabel('eta')\n",
    "    \n",
    "    FigName = 'sf_'+EffType+'_'+var+'Range'+'.png'\n",
    "    plt.savefig(os.path.join(pathfig,FigName))"
   ]
  },
  {
   "cell_type": "code",
   "execution_count": 9,
   "metadata": {},
   "outputs": [],
   "source": [
    "def PlotSFPt(SF):\n",
    "    var = 'pt'\n",
    "\n",
    "    plt.figure(figsize=(8,8))\n",
    "    for j in range(1,len(etaBins)):\n",
    "        plt.errorbar(ptC,np.array([SF[i][j] for i in range(1,len(ptBins))]),\n",
    "                    xerr = np.diff(ptBins)/2,\n",
    "                    yerr = np.array([SFStat(SF[i][j],\n",
    "                                            MC.GetBinContent(i,j),\n",
    "                                            MCStat.GetBinContent(i,j),\n",
    "                                            Data.GetBinContent(i,j),\n",
    "                                            DataStat.GetBinContent(i,j),\n",
    "                                           ) for i in range(1,len(ptBins))]), \n",
    "                     linestyle = '',\n",
    "                     label = str(etaL[j-1]),\n",
    "                    )\n",
    "\n",
    "    plt.legend()\n",
    "    ax = plt.gca()\n",
    "    ax.set_title('Scale Factors')\n",
    "    ax.set_xlabel('Pt')\n",
    "\n",
    "    FigName = 'sf_'+EffType+'_'+var+'Range'+'.png'\n",
    "    plt.savefig(os.path.join(pathfig,FigName))"
   ]
  },
  {
   "cell_type": "code",
   "execution_count": null,
   "metadata": {},
   "outputs": [],
   "source": []
  },
  {
   "cell_type": "code",
   "execution_count": null,
   "metadata": {},
   "outputs": [],
   "source": []
  },
  {
   "cell_type": "code",
   "execution_count": null,
   "metadata": {},
   "outputs": [],
   "source": []
  },
  {
   "cell_type": "code",
   "execution_count": null,
   "metadata": {},
   "outputs": [],
   "source": []
  },
  {
   "cell_type": "code",
   "execution_count": null,
   "metadata": {},
   "outputs": [],
   "source": []
  },
  {
   "cell_type": "code",
   "execution_count": 10,
   "metadata": {},
   "outputs": [],
   "source": [
    "def PlotEff(var,datamc):\n",
    "    ptC = CommonHelper.Plot.BinFormat(ptBins,Type='center')\n",
    "    ptL = [str(ptl) for ptl in CommonHelper.Plot.BinFormat(ptBins)]\n",
    "    ptErr = np.diff(ptBins)/2\n",
    "    \n",
    "    etaB = [[0,1.4442],[1.566, 2.5]]\n",
    "    etaC = CommonHelper.Plot.BinFormat(etaB,Type='center')\n",
    "    etaL = ['EB','EE']\n",
    "    etaErr = [0.7221,0.467]\n",
    "    \n",
    "    \n",
    "    if var == 'eta':\n",
    "        binC = etaC\n",
    "        bins1 = ptBins\n",
    "        bins2 = etaBins\n",
    "        Labels = ptL\n",
    "        xerr = etaErr\n",
    "    else:\n",
    "        binC = ptC\n",
    "        bins2 = ptBins\n",
    "        bins1 = etaBins\n",
    "        Labels = etaL\n",
    "        xerr = ptErr\n",
    "\n",
    "        \n",
    "    if datamc == 'data':\n",
    "        Eff = Data\n",
    "        Stat = DataStat\n",
    "    else:\n",
    "        Eff = MC\n",
    "        Stat = MCStat\n",
    "\n",
    "    plt.figure(figsize=(8,8))\n",
    "    for i in range(1,len(bins1)):\n",
    "        yerr = np.array([Stat.GetBinContent(i,j) for j in range(1,len(bins2))])\n",
    "        binContent = np.array([Eff.GetBinContent(i,j) for j in range(1,len(bins2))])\n",
    "        \n",
    "        plt.errorbar(binC,binContent,\n",
    "                     xerr = xerr,\n",
    "                     yerr = yerr,\n",
    "                     linestyle = '',\n",
    "                     label = str(Labels[i-1]),\n",
    "                    )\n",
    "    ax = plt.gca()\n",
    "    if var == 'eta':\n",
    "        ax.set_xlim([0,2.5])\n",
    "    else:\n",
    "        ax.set_xscale('log')\n",
    "\n",
    "    ax.set_title('Efficiency '+datamc)\n",
    "    ax.set_xlabel(var)\n",
    "    \n",
    "    plt.legend()\n",
    "    FigName = 'sf_'+EffType+'_'+var+'Range_'+datamc+'Eff'+'.png'\n",
    "    plt.savefig(os.path.join(pathfig,FigName))\n",
    "\n"
   ]
  },
  {
   "cell_type": "markdown",
   "metadata": {},
   "source": [
    "# Reader File"
   ]
  },
  {
   "cell_type": "code",
   "execution_count": 11,
   "metadata": {},
   "outputs": [
    {
     "name": "stdout",
     "output_type": "stream",
     "text": [
      "ProbeTrigPass Name: /home/jcordero/CMS/SMP_ZGamma/histo/2018/ee/20200706/ProbeTrigPass/eff_mc.root Title: \n",
      "/home/jcordero/CMS/SMP_ZGamma/histo/2018/ee/20200706/ProbeTrigPass/sf_photon.root\n",
      "1 1 0.9134884476661682 0.774635374546051 1.179249589784726\n",
      "1 2 0.886624276638031 0.7411984801292419 1.196203581641764\n",
      "2 1 0.8983625173568726 0.8554686307907104 1.0501408058954953\n",
      "2 2 0.9236249923706055 0.8729172945022583 1.0580899223645934\n",
      "3 1 0.8888567686080933 0.892982542514801 0.9953797821230762\n",
      "3 2 0.9078767895698547 0.9138671159744263 0.9934450793776683\n",
      "4 1 0.8662223219871521 0.9098844528198242 0.9520135433709646\n",
      "4 2 0.9322851300239563 0.9259209036827087 1.0068734017300343\n",
      "5 1 0.9113331437110901 0.9217151403427124 0.9887362199260803\n",
      "5 2 0.8951204419136047 0.9420849680900574 0.9501483117051889\n",
      "6 1 0.9132954478263855 0.943487823009491 0.967999189341099\n",
      "6 2 0.9578486680984497 0.9543010592460632 1.003717494409143\n",
      "{1: {1: 1.179249589784726, 2: 1.196203581641764}, 2: {1: 1.0501408058954953, 2: 1.0580899223645934}, 3: {1: 0.9953797821230762, 2: 0.9934450793776683}, 4: {1: 0.9520135433709646, 2: 1.0068734017300343}, 5: {1: 0.9887362199260803, 2: 0.9501483117051889}, 6: {1: 0.967999189341099, 2: 1.003717494409143}}\n"
     ]
    },
    {
     "data": {
      "image/png": "[encoded data removed]",
      "text/plain": [
       "<IPython.core.display.Image object>"
      ]
     },
     "metadata": {},
     "output_type": "display_data"
    }
   ],
   "source": [
    "#path = \"/home/jcordero/CMS/JYCMCMS/SMP_ZG/python/Efficiency/zee/\"\n",
    "path = '/home/jcordero/CMS/SMP_ZGamma/histo/2018/ee/20200706/'\n",
    "pathfig = '/home/jcordero/CMS/SMP_ZGamma/fig/2018/ee/20200706/sf_eff/'\n",
    "\n",
    "#EffType = \"ProbeIDPass\"\n",
    "#EffType = \"ProbeISOPass\"\n",
    "#EffType = \"ProbeWorstPass\"\n",
    "#EffType = \"ProbeSigPass\"\n",
    "#EffType = \"ProbeIsConv\"\n",
    "\n",
    "#EffTypeList = [\"ProbeTrigPass\",\n",
    "#               \"ProbeIDPass\",\n",
    "#               \"ProbeISOPass\",\n",
    "#               \"ProbeWorstPass\",]\n",
    "#               #\"ProbeSigPass\"]\n",
    "#               #,\"ProbeIsConv\",]\n",
    "\n",
    "EffTypeList = [\"ProbeTrigPass\",]\n",
    "for EffType in EffTypeList:\n",
    "    fileName = 'eff.root'\n",
    "    fileData = TFile(os.path.join(path,EffType,fileName))\n",
    "\n",
    "    fileName = 'eff_mc.root'\n",
    "    fileMC   = TFile(os.path.join(path,EffType,fileName))\n",
    "\n",
    "    Data     = fileData.Get('EGamma_eff')\n",
    "    DataStat = fileData.Get('EGamma_eff_stat')\n",
    "    MC       = fileMC.Get('EGamma_eff')\n",
    "    MCStat   = fileMC.Get('EGamma_eff_stat')\n",
    "\n",
    "    print(EffType, fileMC)\n",
    "    pathSF = os.path.join(path,EffType)\n",
    "    #SF = SFPlot(pathSF,Data,MC)\n",
    "    \n",
    "    #PlotSFPt(SF)\n",
    "    #PlotSFEta(SF)\n",
    "    #PlotEff('pt','data')\n",
    "    #PlotEff('pt','mc')\n",
    "    #PlotEff('eta','data')\n",
    "    #PlotEff('eta','mc')\n",
    "    \n",
    "    fileName = 'sf_photon.root'\n",
    "    path = os.path.join(pathSF,fileName)\n",
    "    print(path)\n",
    "    #print(Data)\n",
    "    File = TFile(path,'recreate')\n",
    "    tree = TTree('tree_SF','tree_SF')\n",
    "    hist2d = TH2F(\"SF\",\"SF\",\n",
    "                  ptNBins,ptBins,\n",
    "                  etaNBins,etaBins)\n",
    "    tree.Branch(\"sf\",hist2d,\"TH2F\")\n",
    "    \n",
    "    SF = {}\n",
    "    for i in range(1,len(ptBins)):\n",
    "        SF[i] = {}\n",
    "        for j in range(1,len(etaBins)):\n",
    "            data = Data.GetBinContent(i,j)\n",
    "            mc = MC.GetBinContent(i,j)        \n",
    "            if mc == 0:\n",
    "                SF[i][j] = 1\n",
    "            else:\n",
    "                SF[i][j] = data/mc\n",
    "            #print(ptBins[i],etaBins[j],data,mc)\n",
    "            print(i,j,data,mc,SF[i][j])            \n",
    "            hist2d.SetBinContent(i,j,SF[i][j])\n",
    "            tree.Fill()\n",
    "    c = TCanvas()\n",
    "    hist2d.GetZaxis().SetRangeUser(0.975,1.32)\n",
    "    hist2d.Draw(\"COLZ text\")\n",
    "    c.Draw()  \n",
    "    \n",
    "    File.Write()\n",
    "    File.Close()\n",
    "    \n",
    "    print(SF)\n"
   ]
  },
  {
   "cell_type": "code",
   "execution_count": 12,
   "metadata": {},
   "outputs": [],
   "source": [
    "import pandas as pd\n",
    "sf = pd.DataFrame(SF)"
   ]
  },
  {
   "cell_type": "code",
   "execution_count": 13,
   "metadata": {},
   "outputs": [],
   "source": [
    "#sf.set_index()\n",
    "sf.index = ['[0, 1.4442]','[1.566, 2.5]']\n",
    "sf.columns = [str(pt) for pt in CommonHelper.Plot.BinFormat(ptBins)]"
   ]
  },
  {
   "cell_type": "code",
   "execution_count": 14,
   "metadata": {},
   "outputs": [
    {
     "data": {
      "text/html": [
       "<div>\n",
       "<style scoped>\n",
       "    .dataframe tbody tr th:only-of-type {\n",
       "        vertical-align: middle;\n",
       "    }\n",
       "\n",
       "    .dataframe tbody tr th {\n",
       "        vertical-align: top;\n",
       "    }\n",
       "\n",
       "    .dataframe thead th {\n",
       "        text-align: right;\n",
       "    }\n",
       "</style>\n",
       "<table border=\"1\" class=\"dataframe\">\n",
       "  <thead>\n",
       "    <tr style=\"text-align: right;\">\n",
       "      <th></th>\n",
       "      <th>[15.0, 20.0]</th>\n",
       "      <th>[20.0, 35.0]</th>\n",
       "      <th>[35.0, 50.0]</th>\n",
       "      <th>[50.0, 90.0]</th>\n",
       "      <th>[90.0, 150.0]</th>\n",
       "      <th>[150.0, 1500.0]</th>\n",
       "    </tr>\n",
       "  </thead>\n",
       "  <tbody>\n",
       "    <tr>\n",
       "      <th>[0, 1.4442]</th>\n",
       "      <td>1.179250</td>\n",
       "      <td>1.050141</td>\n",
       "      <td>0.995380</td>\n",
       "      <td>0.952014</td>\n",
       "      <td>0.988736</td>\n",
       "      <td>0.967999</td>\n",
       "    </tr>\n",
       "    <tr>\n",
       "      <th>[1.566, 2.5]</th>\n",
       "      <td>1.196204</td>\n",
       "      <td>1.058090</td>\n",
       "      <td>0.993445</td>\n",
       "      <td>1.006873</td>\n",
       "      <td>0.950148</td>\n",
       "      <td>1.003717</td>\n",
       "    </tr>\n",
       "  </tbody>\n",
       "</table>\n",
       "</div>"
      ],
      "text/plain": [
       "              [15.0, 20.0]  [20.0, 35.0]  [35.0, 50.0]  [50.0, 90.0]  \\\n",
       "[0, 1.4442]       1.179250      1.050141      0.995380      0.952014   \n",
       "[1.566, 2.5]      1.196204      1.058090      0.993445      1.006873   \n",
       "\n",
       "              [90.0, 150.0]  [150.0, 1500.0]  \n",
       "[0, 1.4442]        0.988736         0.967999  \n",
       "[1.566, 2.5]       0.950148         1.003717  "
      ]
     },
     "execution_count": 14,
     "metadata": {},
     "output_type": "execute_result"
    }
   ],
   "source": [
    "sf"
   ]
  },
  {
   "cell_type": "code",
   "execution_count": 15,
   "metadata": {},
   "outputs": [],
   "source": [
    "#\n",
    "from ROOT import TCanvas"
   ]
  },
  {
   "cell_type": "code",
   "execution_count": 16,
   "metadata": {},
   "outputs": [
    {
     "data": {
      "image/png": "[encoded data removed]",
      "text/plain": [
       "<IPython.core.display.Image object>"
      ]
     },
     "metadata": {},
     "output_type": "display_data"
    }
   ],
   "source": [
    "c = TCanvas()\n",
    "Data.Draw('colz text')\n",
    "c.Draw()"
   ]
  },
  {
   "cell_type": "code",
   "execution_count": 17,
   "metadata": {},
   "outputs": [
    {
     "data": {
      "image/png": "[encoded data removed]",
      "text/plain": [
       "<IPython.core.display.Image object>"
      ]
     },
     "metadata": {},
     "output_type": "display_data"
    }
   ],
   "source": [
    "c = TCanvas()\n",
    "MC.Draw('colz text')\n",
    "c.Draw()"
   ]
  },
  {
   "cell_type": "code",
   "execution_count": 18,
   "metadata": {},
   "outputs": [
    {
     "name": "stdout",
     "output_type": "stream",
     "text": [
      "0 0 0.0\n",
      "0 1 0.0\n",
      "0 2 0.0\n",
      "0 3 0.0\n",
      "1 0 0.0\n",
      "1 1 0.9134884476661682\n",
      "1 2 0.886624276638031\n",
      "1 3 0.0\n",
      "2 0 0.0\n",
      "2 1 0.8983625173568726\n",
      "2 2 0.9236249923706055\n",
      "2 3 0.0\n",
      "3 0 0.0\n",
      "3 1 0.8888567686080933\n",
      "3 2 0.9078767895698547\n",
      "3 3 0.0\n",
      "4 0 0.0\n",
      "4 1 0.8662223219871521\n",
      "4 2 0.9322851300239563\n",
      "4 3 0.0\n",
      "5 0 0.0\n",
      "5 1 0.9113331437110901\n",
      "5 2 0.8951204419136047\n",
      "5 3 0.0\n",
      "6 0 0.0\n",
      "6 1 0.9132954478263855\n",
      "6 2 0.9578486680984497\n",
      "6 3 0.0\n"
     ]
    }
   ],
   "source": [
    "for i in range(0,7):\n",
    "    for j in range(0,4):\n",
    "        print(i,j,Data.GetBinContent(i,j))"
   ]
  },
  {
   "cell_type": "code",
   "execution_count": 19,
   "metadata": {},
   "outputs": [
    {
     "ename": "AttributeError",
     "evalue": "'dict' object has no attribute 'Draw'",
     "output_type": "error",
     "traceback": [
      "\u001b[0;31m---------------------------------------------------------------------------\u001b[0m",
      "\u001b[0;31mAttributeError\u001b[0m                            Traceback (most recent call last)",
      "\u001b[0;32m<ipython-input-19-ecc5b978b374>\u001b[0m in \u001b[0;36m<module>\u001b[0;34m\u001b[0m\n\u001b[1;32m      1\u001b[0m \u001b[0mc\u001b[0m \u001b[0;34m=\u001b[0m \u001b[0mTCanvas\u001b[0m\u001b[0;34m(\u001b[0m\u001b[0;34m)\u001b[0m\u001b[0;34m\u001b[0m\u001b[0;34m\u001b[0m\u001b[0m\n\u001b[0;32m----> 2\u001b[0;31m \u001b[0mSF\u001b[0m\u001b[0;34m.\u001b[0m\u001b[0mDraw\u001b[0m\u001b[0;34m(\u001b[0m\u001b[0;34m'colz text'\u001b[0m\u001b[0;34m)\u001b[0m\u001b[0;34m\u001b[0m\u001b[0;34m\u001b[0m\u001b[0m\n\u001b[0m\u001b[1;32m      3\u001b[0m \u001b[0mc\u001b[0m\u001b[0;34m.\u001b[0m\u001b[0mDraw\u001b[0m\u001b[0;34m(\u001b[0m\u001b[0;34m)\u001b[0m\u001b[0;34m\u001b[0m\u001b[0;34m\u001b[0m\u001b[0m\n",
      "\u001b[0;31mAttributeError\u001b[0m: 'dict' object has no attribute 'Draw'"
     ]
    }
   ],
   "source": [
    "c = TCanvas()\n",
    "SF.Draw('colz text')\n",
    "c.Draw()"
   ]
  },
  {
   "cell_type": "code",
   "execution_count": null,
   "metadata": {},
   "outputs": [],
   "source": []
  }
 ],
 "metadata": {
  "kernelspec": {
   "display_name": "SMP",
   "language": "python",
   "name": "smp"
  },
  "language_info": {
   "codemirror_mode": {
    "name": "ipython",
    "version": 3
   },
   "file_extension": ".py",
   "mimetype": "text/x-python",
   "name": "python",
   "nbconvert_exporter": "python",
   "pygments_lexer": "ipython3",
   "version": "3.6.10"
  },
  "varInspector": {
   "cols": {
    "lenName": 16,
    "lenType": 16,
    "lenVar": 40
   },
   "kernels_config": {
    "python": {
     "delete_cmd_postfix": "",
     "delete_cmd_prefix": "del ",
     "library": "var_list.py",
     "varRefreshCmd": "print(var_dic_list())"
    },
    "r": {
     "delete_cmd_postfix": ") ",
     "delete_cmd_prefix": "rm(",
     "library": "var_list.r",
     "varRefreshCmd": "cat(var_dic_list()) "
    }
   },
   "types_to_exclude": [
    "module",
    "function",
    "builtin_function_or_method",
    "instance",
    "_Feature"
   ],
   "window_display": false
  }
 },
 "nbformat": 4,
 "nbformat_minor": 2
}
