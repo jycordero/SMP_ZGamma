{
 "cells": [
  {
   "cell_type": "code",
   "execution_count": 2,
   "metadata": {},
   "outputs": [],
   "source": [
    "import os \n",
    "import matplotlib.pyplot as plt\n",
    "from Common.StackList import StackList"
   ]
  },
  {
   "cell_type": "code",
   "execution_count": 4,
   "metadata": {},
   "outputs": [],
   "source": [
    "class HistoEras( StackList ):\n",
    "    def __init__(self,stack=None, name=None,Print=False):\n",
    "        StackList.__init__(self,name=name,stack=stack,Print=Print)    \n",
    "    \n",
    "    def append(self,stack,name=None):\n",
    "        if name is None and stack.name is None:\n",
    "            raise \"Name is not specified, provide argument \\\"name\\\" or set is in Histo\"\n",
    "            \n",
    "        if name is None:\n",
    "            name = stack.name\n",
    "        else:\n",
    "            stack.name = name\n",
    "\n",
    "        super().append(stack,stack.name)\n",
    "          \n",
    "    \n",
    "    def savefig(self,fig,fullpath):\n",
    "        fig.savefig(fullpath)\n",
    "\n",
    "    def _savefigjoin(self,fullpath,ind):    \n",
    "        pass\n",
    "    def _savefigind(self,fullpath,ind):\n",
    "        for era in self.names:\n",
    "            self[era].savefigs(fullpath, ind=ind)\n",
    "    def _savefigmult(self,fullpath,ind,WithYield):\n",
    "        for var in self[0][0].names:\n",
    "            for log in [True,False]:\n",
    "                LOG = \"log\" if log else \"linear\"\n",
    "                fig = plt.figure()\n",
    "                self.plotmult(variable=var,ind=ind,WithYield=WithYield,log=log)\n",
    "                self.savefig(fig,os.path.join(fullpath,LOG,\"single\",var) )\n",
    "\n",
    "    \n",
    "    def savefigs(self,fullpath,Type,WithYield=False,ind=None):\n",
    "        if   Type == \"ind\":\n",
    "            self._savefigind(fullpath=fullpath,ind=ind)\n",
    "        elif Type == \"mult\":\n",
    "            self._savefigmult(fullpath=fullpath,ind=ind,WithYield=WithYield)\n",
    "        elif Type == \"join\":\n",
    "            self._savefigjoin(fullpath=fullpath,ind=ind)\n",
    "    \n",
    "        \n",
    "    def plotind(self,variable,era,ind,WithYield,log):\n",
    "        self[era].plot(variable=variable,ind=ind,log=log,WithYield=WithYield)\n",
    "    \n",
    "    def plotmult(self,variable,ind,WithYield,log):\n",
    "        Runs = self.names\n",
    "        FIG = plt.figure(figsize=(11*len(Runs),10))\n",
    "        for i, era in enumerate(Runs):\n",
    "            fig, ax = self[era].plot( variable=variable,log=log,\n",
    "                                      ind = ind,\n",
    "                                      shape=(4,len(Runs)),loc = i,\n",
    "                                      WithYield = WithYield,\n",
    "                                      Create = False,\n",
    "                                    )\n",
    "        return FIG\n",
    "    \n",
    "    def plotjoin(self,variable):\n",
    "        pass\n",
    "    \n",
    "    def plot(self,variable,log=True,era=None,ind=None,WithYield=False,Type='ind'):\n",
    "        if   Type == 'ind':\n",
    "            self.plotind(variable=variable,era=era,ind=ind,WithYield=WithYield,log=log)\n",
    "        elif Type == 'mult':\n",
    "            self.plotmult(variable=variable,ind=ind,WithYield=WithYield,log=log)\n",
    "        elif Type == 'join':\n",
    "            self.plotjoin(variable=variable,log=log)\n",
    "        \n",
    "        \n",
    "    def plots(self,variables,log=True,era=None,ind=None,WithYield=False,Type='ind'):\n",
    "        if Type == 'mult':\n",
    "            fig = self.plotmult(variable=variable,ind=ind,WithYield=WithYield,log=log)\n",
    "        elif Type == 'join':\n",
    "            self.plotjoin(variable=variable,log=log)"
   ]
  },
  {
   "cell_type": "code",
   "execution_count": null,
   "metadata": {},
   "outputs": [],
   "source": []
  }
 ],
 "metadata": {
  "kernelspec": {
   "display_name": "SMP",
   "language": "python",
   "name": "smp"
  },
  "language_info": {
   "codemirror_mode": {
    "name": "ipython",
    "version": 3
   },
   "file_extension": ".py",
   "mimetype": "text/x-python",
   "name": "python",
   "nbconvert_exporter": "python",
   "pygments_lexer": "ipython3",
   "version": "3.6.10"
  },
  "varInspector": {
   "cols": {
    "lenName": 16,
    "lenType": 16,
    "lenVar": 40
   },
   "kernels_config": {
    "python": {
     "delete_cmd_postfix": "",
     "delete_cmd_prefix": "del ",
     "library": "var_list.py",
     "varRefreshCmd": "print(var_dic_list())"
    },
    "r": {
     "delete_cmd_postfix": ") ",
     "delete_cmd_prefix": "rm(",
     "library": "var_list.r",
     "varRefreshCmd": "cat(var_dic_list()) "
    }
   },
   "types_to_exclude": [
    "module",
    "function",
    "builtin_function_or_method",
    "instance",
    "_Feature"
   ],
   "window_display": false
  }
 },
 "nbformat": 4,
 "nbformat_minor": 2
}
