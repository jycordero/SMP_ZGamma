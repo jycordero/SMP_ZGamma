{
 "cells": [
  {
   "cell_type": "code",
   "execution_count": 1,
   "metadata": {},
   "outputs": [],
   "source": [
    "class StackList:\n",
    "    def __init__(self,stack = None):\n",
    "        self.stack = stack\n",
    "        \n",
    "    def __repr__(self):\n",
    "        msg = \"Stack(\"+str(self.stack)+\")\"\n",
    "        return msg\n",
    "    \n",
    "    def __str__(self):\n",
    "        msg = \"\"\n",
    "        if self.stack:\n",
    "            msg += \"Samples:\\n\"\n",
    "            for samp in self.stack:\n",
    "                msg += \"---\"+samp.name+\"\\n\"\n",
    "        else:\n",
    "            msg += \"Stack is empty\"\n",
    "        return msg\n",
    "    \n",
    "    def __getitem__(self,key):\n",
    "        try :\n",
    "            key = int(key)\n",
    "            return self.stack[key]\n",
    "        except:\n",
    "            if type(key) is str:\n",
    "                try:\n",
    "                    for istack in self.stack:\n",
    "                        if istack.name.lower() == key.lower():\n",
    "                            return istack\n",
    "                    return None\n",
    "                except:\n",
    "                    raise BaseException(\"Stack elements does not have \\\"name\\\" member. Use int index\")\n",
    "            else:\n",
    "                try:\n",
    "                    return [ self[k] for k in key ]\n",
    "                except:\n",
    "                    raise BaseException(\"Type of key is not supported\")\n",
    "        \n",
    "    def __len__(self):\n",
    "        return len(self.stack)\n",
    "    \n",
    "    def __iter__(self):\n",
    "        return iter(self.stack)\n",
    "    \n",
    "    def remove(self,i):\n",
    "        self.stack.remove(i)\n",
    "    \n",
    "    def pop(self,i):\n",
    "        return self.stack.pop(i)\n",
    "    \n",
    "    def append(self,istack):\n",
    "        if self.stack:\n",
    "            self.stack.append(istack)\n",
    "        else:\n",
    "            self.stack = [istack]\n",
    "            \n"
   ]
  }
 ],
 "metadata": {
  "kernelspec": {
   "display_name": "SMP",
   "language": "python",
   "name": "smp"
  },
  "language_info": {
   "codemirror_mode": {
    "name": "ipython",
    "version": 3
   },
   "file_extension": ".py",
   "mimetype": "text/x-python",
   "name": "python",
   "nbconvert_exporter": "python",
   "pygments_lexer": "ipython3",
   "version": "3.6.10"
  },
  "varInspector": {
   "cols": {
    "lenName": 16,
    "lenType": 16,
    "lenVar": 40
   },
   "kernels_config": {
    "python": {
     "delete_cmd_postfix": "",
     "delete_cmd_prefix": "del ",
     "library": "var_list.py",
     "varRefreshCmd": "print(var_dic_list())"
    },
    "r": {
     "delete_cmd_postfix": ") ",
     "delete_cmd_prefix": "rm(",
     "library": "var_list.r",
     "varRefreshCmd": "cat(var_dic_list()) "
    }
   },
   "types_to_exclude": [
    "module",
    "function",
    "builtin_function_or_method",
    "instance",
    "_Feature"
   ],
   "window_display": false
  }
 },
 "nbformat": 4,
 "nbformat_minor": 2
}
