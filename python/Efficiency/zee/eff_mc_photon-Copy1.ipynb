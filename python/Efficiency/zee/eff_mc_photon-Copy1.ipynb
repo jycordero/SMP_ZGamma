{
 "cells": [
  {
   "cell_type": "code",
   "execution_count": 74,
   "metadata": {},
   "outputs": [],
   "source": [
    "from ROOT import TFile,TTree,TH2F\n",
    "import array\n",
    "import matplotlib.pyplot as plt\n",
    "import numpy as np\n",
    "from root_pandas import read_root \n",
    "\n",
    "import scipy.special as spc\n",
    "from scipy.optimize import curve_fit\n"
   ]
  },
  {
   "cell_type": "code",
   "execution_count": 75,
   "metadata": {
    "code_folding": [
     0,
     19
    ]
   },
   "outputs": [],
   "source": [
    "def BinFormat(Bins,Type='ranges'):\n",
    "    bins = []\n",
    "    if Type == 'ranges':\n",
    "        if type(Bins[0]) is np.ndarray or type(Bins[0]) is list:\n",
    "            bins = Bins\n",
    "        else:\n",
    "            for i in np.arange(len(Bins)-1):\n",
    "                bins.append([Bins[i],Bins[i+1]])\n",
    "    elif Type == 'edges':\n",
    "        if type(Bins[0]) is int or type(Bins[0]) is float:\n",
    "            bins = Bins\n",
    "        else:\n",
    "            for b in Bins:\n",
    "                bins.append(b[0])\n",
    "            bins.append(Bins[-1][1])\n",
    "        bins = array.array(\"f\",bins)\n",
    "        \n",
    "    return bins\n",
    "\n",
    "def BinIndex(Data,Low,Max):\n",
    "    return np.logical_and(np.array(Data) >= Low, np.array(Data) <  Max)"
   ]
  },
  {
   "cell_type": "code",
   "execution_count": 76,
   "metadata": {},
   "outputs": [],
   "source": [
    "path = \"/home/jcordero/CMS/JYCMCMS/SMP_ZG/python/Efficiency/files_zee/New/DYJets/\"\n",
    "fileName = \"output_DYJets_v.root\"\n",
    "file = TFile(path+fileName,\"read\")\n"
   ]
  },
  {
   "cell_type": "code",
   "execution_count": 77,
   "metadata": {},
   "outputs": [],
   "source": [
    "Probe = file.Get(\"EGammaProbe\")\n",
    "Pass = file.Get(\"EGammaProbePass\")\n",
    "\n",
    "tree = file.Get(\"tree_dyjets\")\n"
   ]
  },
  {
   "cell_type": "code",
   "execution_count": 78,
   "metadata": {},
   "outputs": [],
   "source": [
    "ptBins  = array.array('f',[0,20,40,50,90,150,500])\n",
    "#ptBins  = array.array(\"f\",[10,20,35,50,90,150,500])\n",
    "\n",
    "etaBins = array.array(\"f\",[-2.5,-2,-1.566,-1.4442,-1.0,0,1.0,1.4442,1.566,2,2.5])\n",
    "#etaBins = array.array(\"f\",[-2.5,-1.566,-1.4442,0,1.4442,1.566,2.5])\n",
    "\n",
    "ptNBins,etaNBins = len(ptBins),len(etaBins)\n",
    "\n",
    "ProbeCount , PassCount , eff = {},{},{}\n",
    "for i in range(ptNBins):\n",
    "    ProbeCount[i] , PassCount[i] , eff[i] = {}, {}, {}\n",
    "    for j in range(etaNBins):\n",
    "        ProbeCount[i][j] = Probe.GetBinContent(i,j)\n",
    "        PassCount[i][j]  = Pass .GetBinContent(i,j)\n",
    "        \n",
    "        if ProbeCount[i][j] == 0:\n",
    "            eff[i][j] = 0\n",
    "        else:\n",
    "            eff[i][j] = PassCount[i][j]/ProbeCount[i][j]"
   ]
  },
  {
   "cell_type": "code",
   "execution_count": null,
   "metadata": {
    "scrolled": true
   },
   "outputs": [],
   "source": []
  },
  {
   "cell_type": "code",
   "execution_count": 79,
   "metadata": {
    "scrolled": true
   },
   "outputs": [],
   "source": [
    "fileOut = TFile(\"eff_photon.root\",\"recreate\")\n",
    "tree = TTree(\"eff_photon\",\"eff_photon\")\n",
    "\n",
    "ptNBins,etaNBins = len(ptBins)-1,len(etaBins)-1\n",
    "hist2d = TH2F(\"EGamma_eff\",\"Eff\",\n",
    "              ptNBins ,ptBins,\n",
    "              etaNBins,etaBins)\n",
    "\n",
    "\n",
    "tree.Branch(\"eff\",hist2d,\"TH2F\")\n",
    "\n",
    "\n",
    "\n",
    "'''\n",
    "hist2d = TH2F(\"EGamma_eff\",\"Eff\",\n",
    "              ptNBins,ptBinsDown,ptBinsUp\n",
    "              etaNBins,etaBinsDown)\n",
    "'''\n",
    "for i in range(ptNBins+1):\n",
    "    for j in range(etaNBins+1):\n",
    "        #print(i,j)\n",
    "        hist2d.SetBinContent(i,j,eff[i][j])\n",
    "        tree.Fill()\n",
    "fileOut.Write()\n",
    "fileOut.Close()"
   ]
  },
  {
   "cell_type": "code",
   "execution_count": null,
   "metadata": {},
   "outputs": [],
   "source": []
  },
  {
   "cell_type": "markdown",
   "metadata": {},
   "source": [
    "# Create Eff for MC"
   ]
  },
  {
   "cell_type": "code",
   "execution_count": 80,
   "metadata": {},
   "outputs": [],
   "source": [
    "NewOld = 'New/'\n",
    "\n",
    "\n",
    "#path = \"/home/jcordero/CMS/JYCMCMS/SMP_ZG/python/Efficiency/files_zee/\"+NewOld+\"SingleElectron/\"\n",
    "figpath = '/home/jcordero/CMS/JYCMCMS/SMP_ZG/python/Efficiency/'\n",
    "\n",
    "var = [\"dileptonProbeFailM\",\"dileptonProbePassM\",\n",
    "      \"leptonProbeFailPt\",\"leptonProbePassPt\",\n",
    "      \"leptonProbeFailEta\",\"leptonProbePassEta\",\n",
    "       \"vetoDY\",\"genIsoPass\",\"fromZ\",\n",
    "      ]"
   ]
  },
  {
   "cell_type": "code",
   "execution_count": null,
   "metadata": {},
   "outputs": [],
   "source": []
  },
  {
   "cell_type": "code",
   "execution_count": 81,
   "metadata": {},
   "outputs": [],
   "source": [
    "#samples = [\"DYJets\",\"WJets\"]\n",
    "samples = [\"DYJets\"]\n",
    "s = samples[0]\n",
    "\n",
    "path = \"/home/jcordero/CMS/JYCMCMS/SMP_ZG/python/Efficiency/files_zee/\"+NewOld+s+\"/\"\n",
    "fileName = \"output_\"+s+\"_v.root\"\n",
    "dfMC = read_root(path+fileName,columns = var)\n"
   ]
  },
  {
   "cell_type": "code",
   "execution_count": null,
   "metadata": {},
   "outputs": [],
   "source": []
  },
  {
   "cell_type": "code",
   "execution_count": 82,
   "metadata": {},
   "outputs": [],
   "source": [
    "ProbeType = \"Pass\"\n",
    "part      = 'dileptonProbe'\n",
    "variable  = 'M'\n",
    "sample    = dfMC\n",
    "\n",
    "ptBins, etaBins = BinFormat(ptBins,Type='ranges'),BinFormat(etaBins,Type='ranges')\n",
    "\n",
    "Yields = {}\n",
    "Yields[ProbeType] = {}\n",
    "\n",
    "for j in np.arange(ptNBins):\n",
    "    '''\n",
    "    if j in BinEBEE:\n",
    "        etaBINS = etaBinsEBEE\n",
    "    else:\n",
    "        etaBINS = etaBins\n",
    "    '''\n",
    "    Yields[ProbeType][j] = {}\n",
    "    \n",
    "    for i in np.arange(etaNBins):\n",
    "    #for i in np.arange(len(etaBINS)):                 \n",
    "        VAL = sample[part+ProbeType+variable]\n",
    "        Ind = sample.vetoDY == False\n",
    "        if samples == \"DYJets\":\n",
    "            Ind = np.logical_and(Ind,sample.fromZ == True)\n",
    "            #Ind = np.logical_and(Ind,sample.fromZ == False)\n",
    "\n",
    "        Var = np.array(VAL[Ind])\n",
    "        Pt  = sample['leptonProbe'+ProbeType+'Pt'][Ind]\n",
    "        Eta = sample['leptonProbe'+ProbeType+'Eta'][Ind]\n",
    "\n",
    "\n",
    "        ptInd  = BinIndex(Pt , ptBins [j][0], ptBins [j][1])\n",
    "        #etaInd = BinIndex(Eta, etaBINS[i][0], etaBINS[i][1])\n",
    "        etaInd = BinIndex(Eta, etaBins[i][0], etaBins[i][1])\n",
    "        Ind    = np.logical_and(ptInd,etaInd)\n",
    "        \n",
    "        Yields[ProbeType][j][i] = np.sum(Ind)\n",
    "#dfMC.leptonProbeFailPt"
   ]
  },
  {
   "cell_type": "code",
   "execution_count": 56,
   "metadata": {},
   "outputs": [],
   "source": [
    "ProbeType = \"Fail\"\n",
    "part      = 'dileptonProbe'\n",
    "variable  = 'M'\n",
    "sample    = dfMC\n",
    "\n",
    "ptBins, etaBins = BinFormat(ptBins,Type='ranges'),BinFormat(etaBins,Type='ranges')\n",
    "\n",
    "Yields[ProbeType] = {}\n",
    "\n",
    "for j in np.arange(ptNBins):\n",
    "    '''\n",
    "    if j in BinEBEE:\n",
    "        etaBINS = etaBinsEBEE\n",
    "    else:\n",
    "        etaBINS = etaBins\n",
    "    '''\n",
    "    Yields[ProbeType][j] = {}\n",
    "    \n",
    "    for i in np.arange(etaNBins):\n",
    "    #for i in np.arange(len(etaBINS)):                 \n",
    "        VAL = sample[part+ProbeType+variable]\n",
    "        Ind = sample.vetoDY == False\n",
    "        if samples == \"DYJets\":\n",
    "            Ind = np.logical_and(Ind,sample.fromZ == True)\n",
    "            #Ind = np.logical_and(Ind,sample.fromZ == False)\n",
    "\n",
    "        Var = np.array(VAL[Ind])\n",
    "        Pt  = sample['leptonProbe'+ProbeType+'Pt'][Ind]\n",
    "        Eta = sample['leptonProbe'+ProbeType+'Eta'][Ind]\n",
    "\n",
    "\n",
    "        ptInd  = BinIndex(Pt , ptBins [j][0], ptBins [j][1])\n",
    "        #etaInd = BinIndex(Eta, etaBINS[i][0], etaBINS[i][1])\n",
    "        etaInd = BinIndex(Eta, etaBins[i][0], etaBins[i][1])\n",
    "        Ind    = np.logical_and(ptInd,etaInd)\n",
    "        \n",
    "        Yields[ProbeType][j][i] = np.sum(Ind)\n",
    "#dfMC.leptonProbeFailPt"
   ]
  },
  {
   "cell_type": "code",
   "execution_count": 67,
   "metadata": {},
   "outputs": [
    {
     "name": "stderr",
     "output_type": "stream",
     "text": [
      "/home/jcordero/anaconda3/lib/python3.6/site-packages/ipykernel_launcher.py:5: RuntimeWarning: invalid value encountered in long_scalars\n",
      "  \"\"\"\n"
     ]
    }
   ],
   "source": [
    "eff = {}\n",
    "for j in np.arange(ptNBins):    \n",
    "    eff[j] = {}\n",
    "    for i in np.arange(etaNBins):\n",
    "        eff[j][i] = Yields['Pass'][j][i]/(Yields['Pass'][j][i] + Yields['Fail'][j][i])"
   ]
  },
  {
   "cell_type": "code",
   "execution_count": 68,
   "metadata": {},
   "outputs": [
    {
     "data": {
      "text/plain": [
       "{0: {0: 0.16643022436864877,\n",
       "  1: 0.19639874809578883,\n",
       "  2: nan,\n",
       "  3: 0.23676571385319672,\n",
       "  4: 0.26106819313270874,\n",
       "  5: 0.2556373920271571,\n",
       "  6: 0.24569471868829512,\n",
       "  7: nan,\n",
       "  8: 0.22251653186014553,\n",
       "  9: 0.18973403865471586},\n",
       " 1: {0: 0.38933050034873146,\n",
       "  1: 0.42901479022622063,\n",
       "  2: nan,\n",
       "  3: 0.47635175652791306,\n",
       "  4: 0.5106821249432161,\n",
       "  5: 0.5098455649657513,\n",
       "  6: 0.48725651628214506,\n",
       "  7: nan,\n",
       "  8: 0.49756968734669943,\n",
       "  9: 0.4772339982650491},\n",
       " 2: {0: 0.668925591270429,\n",
       "  1: 0.6925555591394381,\n",
       "  2: nan,\n",
       "  3: 0.7636736652817744,\n",
       "  4: 0.7918675871785034,\n",
       "  5: 0.7941361028448157,\n",
       "  6: 0.766114031866948,\n",
       "  7: nan,\n",
       "  8: 0.7702975638773223,\n",
       "  9: 0.7466101029146045},\n",
       " 3: {0: 0.5735424558327855,\n",
       "  1: 0.6240104269968549,\n",
       "  2: nan,\n",
       "  3: 0.6445203452844995,\n",
       "  4: 0.6934958258761567,\n",
       "  5: 0.6892327704142277,\n",
       "  6: 0.6705002060581083,\n",
       "  7: nan,\n",
       "  8: 0.6871995582694557,\n",
       "  9: 0.6725584293248085},\n",
       " 4: {0: 0.5460575719649562,\n",
       "  1: 0.515136638847979,\n",
       "  2: nan,\n",
       "  3: 0.5808445572255839,\n",
       "  4: 0.5855220189085303,\n",
       "  5: 0.5982986767485823,\n",
       "  6: 0.6126392056889843,\n",
       "  7: nan,\n",
       "  8: 0.5991855979425632,\n",
       "  9: 0.604445952825386},\n",
       " 5: {0: 0.78055822906641,\n",
       "  1: 0.6361770741717971,\n",
       "  2: nan,\n",
       "  3: 0.6599340478153339,\n",
       "  4: 0.6669152810073268,\n",
       "  5: 0.647982062780269,\n",
       "  6: 0.6161690806976057,\n",
       "  7: nan,\n",
       "  8: 0.621870882740448,\n",
       "  9: 0.7157987643424537}}"
      ]
     },
     "execution_count": 68,
     "metadata": {},
     "output_type": "execute_result"
    }
   ],
   "source": [
    "eff"
   ]
  },
  {
   "cell_type": "code",
   "execution_count": 72,
   "metadata": {},
   "outputs": [
    {
     "data": {
      "text/plain": [
       "1.0"
      ]
     },
     "execution_count": 72,
     "metadata": {},
     "output_type": "execute_result"
    }
   ],
   "source": [
    "len(dfMC.leptonProbeFailPt)/len(dfMC.leptonProbePassPt)"
   ]
  },
  {
   "cell_type": "code",
   "execution_count": 66,
   "metadata": {},
   "outputs": [
    {
     "name": "stdout",
     "output_type": "stream",
     "text": [
      "6 10\n"
     ]
    }
   ],
   "source": [
    "print(ptNBins,etaNBins)"
   ]
  },
  {
   "cell_type": "code",
   "execution_count": null,
   "metadata": {},
   "outputs": [],
   "source": []
  }
 ],
 "metadata": {
  "kernelspec": {
   "display_name": "Python 3",
   "language": "python",
   "name": "python3"
  },
  "language_info": {
   "codemirror_mode": {
    "name": "ipython",
    "version": 3
   },
   "file_extension": ".py",
   "mimetype": "text/x-python",
   "name": "python",
   "nbconvert_exporter": "python",
   "pygments_lexer": "ipython3",
   "version": "3.6.5"
  }
 },
 "nbformat": 4,
 "nbformat_minor": 2
}
