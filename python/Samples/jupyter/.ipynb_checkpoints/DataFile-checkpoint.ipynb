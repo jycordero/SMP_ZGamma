{
 "cells": [
  {
   "cell_type": "code",
   "execution_count": null,
   "metadata": {},
   "outputs": [],
   "source": [
    "from ROOT import TFile\n",
    "from root_pandas import read_root"
   ]
  },
  {
   "cell_type": "code",
   "execution_count": null,
   "metadata": {},
   "outputs": [],
   "source": [
    "class DataFile:\n",
    "    def __init__(self,path, name, file,chunksize=1):\n",
    "        self.path = path\n",
    "        self.name = name\n",
    "        self.file = file\n",
    "        self.chunksize = chunksize\n",
    "        \n",
    "    def __repr__(self):              \n",
    "        return \"file(\"+self.file+\")\"\n",
    "       \n",
    "    def __str__(self):\n",
    "        msg= \"DataFile(path=\"+self.path+\",\\n\"\\\n",
    "             \"         name=\"+self.name+\")\"\n",
    "        return msg\n",
    "\n",
    "    def __len__(self):\n",
    "        return self.N()\n",
    "    \n",
    "    def __iter__(self):\n",
    "        return iter(read_root(self.path,chunksize=self.chunksize))\n",
    "    \n",
    "    def _totalNameToBin(name):\n",
    "        mapConv = {\n",
    "                \"Total\":1\n",
    "                    }\n",
    "        return mapConv[name]\n",
    "        \n",
    "    def N(self,n=1):\n",
    "        rootFile = TFile(self.path)\n",
    "        return int(rootFile.Get(\"TotalEvents_\"+self.name.lower()).GetBinContent(n))\n",
    "        \n",
    "    def Total(self):\n",
    "        return self.N()\n",
    "    \n",
    "    def getBin(self,n):\n",
    "        try:\n",
    "            n = int(n)\n",
    "        except:\n",
    "            n = self._totalNameToBin(n)\n",
    "        \n",
    "        return self.N(n)"
   ]
  }
 ],
 "metadata": {
  "kernelspec": {
   "display_name": "Python [conda env:CMSenv] *",
   "language": "python",
   "name": "conda-env-CMSenv-py"
  },
  "language_info": {
   "codemirror_mode": {
    "name": "ipython",
    "version": 3
   },
   "file_extension": ".py",
   "mimetype": "text/x-python",
   "name": "python",
   "nbconvert_exporter": "python",
   "pygments_lexer": "ipython3",
   "version": "3.6.7"
  },
  "varInspector": {
   "cols": {
    "lenName": 16,
    "lenType": 16,
    "lenVar": 40
   },
   "kernels_config": {
    "python": {
     "delete_cmd_postfix": "",
     "delete_cmd_prefix": "del ",
     "library": "var_list.py",
     "varRefreshCmd": "print(var_dic_list())"
    },
    "r": {
     "delete_cmd_postfix": ") ",
     "delete_cmd_prefix": "rm(",
     "library": "var_list.r",
     "varRefreshCmd": "cat(var_dic_list()) "
    }
   },
   "types_to_exclude": [
    "module",
    "function",
    "builtin_function_or_method",
    "instance",
    "_Feature"
   ],
   "window_display": false
  }
 },
 "nbformat": 4,
 "nbformat_minor": 2
}
