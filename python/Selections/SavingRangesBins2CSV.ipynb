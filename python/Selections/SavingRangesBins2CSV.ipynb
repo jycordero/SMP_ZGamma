{
 "cells": [
  {
   "cell_type": "code",
   "execution_count": 1,
   "metadata": {},
   "outputs": [],
   "source": [
    "## Python dependencies \n",
    "import matplotlib.pyplot as plt\n",
    "import matplotlib.colors as col\n",
    "import numpy as np\n",
    "import pandas as pd"
   ]
  },
  {
   "cell_type": "code",
   "execution_count": 2,
   "metadata": {},
   "outputs": [
    {
     "name": "stdout",
     "output_type": "stream",
     "text": [
      "Welcome to JupyROOT 6.18/04\n"
     ]
    },
    {
     "name": "stderr",
     "output_type": "stream",
     "text": [
      "/home/jcordero/anaconda3/envs/CMSenv/lib/python3.6/site-packages/root_numpy/__init__.py:34: RuntimeWarning: ROOT 6.18/04 is currently active but you installed root_numpy against ROOT 6.05/02. Please consider reinstalling root_numpy for this ROOT version.\n",
      "  RuntimeWarning)\n",
      "/home/jcordero/anaconda3/envs/CMSenv/lib/python3.6/site-packages/root_numpy/__init__.py:46: RuntimeWarning: numpy 1.15.0 is currently installed but you installed root_numpy against numpy 1.12.1. Please consider reinstalling root_numpy for this numpy version.\n",
      "  RuntimeWarning)\n"
     ]
    }
   ],
   "source": [
    "# My Dependencies\n",
    "from Samples.Data      import Data\n",
    "from Plotter.Helper    import Helper\n",
    "from Plotter.Plotter   import Plotter\n",
    "\n",
    "import Samples"
   ]
  },
  {
   "cell_type": "code",
   "execution_count": 3,
   "metadata": {},
   "outputs": [],
   "source": [
    "from scipy.optimize  import curve_fit\n",
    "from scipy.special   import erf, betainc, gamma\n",
    "from scipy           import asarray as ar,exp\n",
    "from numpy.random    import uniform\n",
    "from scipy           import stats\n",
    "from scipy.integrate import simps\n",
    "import array\n",
    "\n",
    "from root_pandas import read_root \n",
    "\n",
    "# External Dependencies\n",
    "from ROOT import TFile, TTree"
   ]
  },
  {
   "cell_type": "code",
   "execution_count": 4,
   "metadata": {},
   "outputs": [],
   "source": [
    "import os, datetime"
   ]
  },
  {
   "cell_type": "code",
   "execution_count": 5,
   "metadata": {
    "code_folding": [
     7,
     50
    ]
   },
   "outputs": [],
   "source": [
    "selection = 'mumug'\n",
    "#selection = 'elelg'\n",
    "#selection = 'ee'\n",
    "\n",
    "#era = \"2016\"\n",
    "era = \"2017\"\n",
    "\n",
    "if selection == \"mumug\" or selection == \"elelg\":\n",
    "    if era == \"2016\":\n",
    "        run = ['B','C','D','E','F','G','H']\n",
    "        #DataGen = 'rereco'\n",
    "        DataGen = 'legacy'\n",
    "        if DataGen == 'legacy':\n",
    "            #SampleSet = 'MatchZGpaper'\n",
    "            #SampleSet = 'Rerun'\n",
    "            SampleSet = 'Correction'\n",
    "        else:\n",
    "            SampleSet = 'MatchZGpaper_newAna'\n",
    "    elif era == \"2017\":\n",
    "        run = ['B','C','D','E','F']\n",
    "        DataGen = 'rereco'\n",
    "        #SampleSet = 'V1'\n",
    "        #SampleSet = 'V2_puWeight'\n",
    "        #SampleSet = 'V2_puWeight_phID'\n",
    "        #SampleSet = 'V4_phID_isConv'\n",
    "        SampleSet = 'V4_phID_isConv_MINUIT'\n",
    "        \n",
    "    LoadVars = [\n",
    "            'runNumber','evtNumber',\n",
    "            'nPV','nPU','Rho', 'met',\n",
    "            'genWeight','eventWeight','puWeight','triggerWeight','photonIDWeight',\"photonIsConvWeight\",\n",
    "            'leptonOnePt','leptonOneEta','leptonOnePhi','leptonOneIso','leptonOneCharge',\n",
    "            'leptonTwoPt','leptonTwoEta','leptonTwoPhi','leptonTwoIso','leptonTwoCharge',\n",
    "            'photonOnePt','photonOneEta','photonOnePhi',\n",
    "            'photonOneR9','photonOneMVA','photonOneERes','photonOneSieie',\n",
    "            'photonOneHoverE','photonOneIneu','photonOneIph','photonOneIch',\n",
    "            'photonOneSieip','photonOneSipip','photonOneSrr','photonOneE2x2','photonOneE5x5',\n",
    "            'photonOneScEtaWidth','photonOneScPhiWidth',\n",
    "            'photonOneScRawE','photonOnePreShowerE','photonOneScBrem',\n",
    "            'genPhotonPt','genPhotonEta','genPhotonPhi',\n",
    "            'vetoDY','genIsoPass',\n",
    "            'dileptonPt','dileptonEta','dileptonPhi','dileptonM',\n",
    "            'llgPt','llgEta','llgPhi','llgM',\n",
    "            'dileptonDEta','dileptonDPhi','dileptonDR',\n",
    "            'l1PhotonDEta','l1PhotonDPhi','l1PhotonDR',\n",
    "            'l2PhotonDEta','l2PhotonDPhi','l2PhotonDR',\n",
    "            'dileptonPhotonDEta','dileptonPhotonDPhi','dileptonPhotonDR',\n",
    "            'nMuons','nElectrons','nPhotons','nJets',#'nTaus','nBJets',\n",
    "            'passElectronVeto',\n",
    "            ]\n",
    "elif selection == \"ee\":\n",
    "    if era == \"2016\":\n",
    "        run = ['B','C','D','E','F','G','H']\n",
    "        #DataGen = 'rereco'\n",
    "        DataGen = 'legacy'\n",
    "        if DataGen == 'legacy':\n",
    "            #SampleSet = 'MatchZGpaper'\n",
    "            #SampleSet = 'Rerun'\n",
    "            SampleSet = 'Correction'\n",
    "        else:\n",
    "            SampleSet = 'MatchZGpaper_newAna'\n",
    "    elif era == \"2017\":\n",
    "        run = ['B','C','D','E','F']\n",
    "        DataGen = 'rereco'\n",
    "        SampleSet = 'EfficiencyCorrection/files_zee/V4_phID_isConv'    \n",
    "    \n",
    "    LoadVars = [\n",
    "            'runNumber','evtNumber',\n",
    "            'nPV','nPU','Rho', \n",
    "            #'eventWeight','puWeight',\n",
    "            'genWeight','triggerWeight','photonIDWeight',\n",
    "            #'leptonOnePt','leptonOneEta','leptonOnePhi','leptonOneCharge',\n",
    "            #'leptonTwoPt','leptonTwoEta','leptonTwoPhi','leptonTwoCharge',\n",
    "            #'photonOnePt','photonOneEta','photonOnePhi',\n",
    "            'photonOneEta',\n",
    "            #'photonOneR9','photonOneMVA','photonOneERes','photonOneSieie',\n",
    "            #'photonOneHoverE','photonOneIneu','photonOneIph','photonOneIch',\n",
    "            #'photonOneSieip','photonOneSipip','photonOneSrr','photonOneE2x2','photonOneE5x5',\n",
    "            #'photonOneScEtaWidth','photonOneScPhiWidth',\n",
    "            #'photonOneScRawE','photonOnePreShowerE','photonOneScBrem',\n",
    "            #'genPhotonPt',\n",
    "            #'vetoDY','genIsoPass',\n",
    "            #'dileptonPt','dileptonEta','dileptonPhi','dileptonM',\n",
    "            #'nMuons','nElectrons','nTaus','nPhotons','nJets','nBJets',\n",
    "            #'ProbeIDPass','ProbeISOPass','ProbeWorstPass','ProbeSigPass','ProbeIsConv',\n",
    "            ]\n",
    "path    = \"/home/jcordero/CMS/data_\"+era+\"/\"+DataGen+\"/SMP_ZG/Files/\"+selection+\"/\"+SampleSet+\"/\"\n",
    "figpath = \"/home/jcordero/CMS/JYCMCMS/SMP_ZG/figs/\"+era+\"/\"+DataGen+\"/\"+selection+\"/\"\n",
    "pathSelections = path+\"Reduced\"\n",
    "\n",
    "\n",
    "\n",
    "Help    = Helper(era)\n",
    "Help.figpath = figpath\n",
    "Plotter = Plotter(Help=Help)\n",
    "Plotter.SetFig(Help.figpath)\n"
   ]
  },
  {
   "cell_type": "markdown",
   "metadata": {},
   "source": [
    "# Save the Ranges and Bins from Class "
   ]
  },
  {
   "cell_type": "code",
   "execution_count": 8,
   "metadata": {},
   "outputs": [],
   "source": [
    "var = 'ranges'\n",
    "df = pd.DataFrame(getattr(Help,var))\n",
    "df['part'] = df.index\n",
    "\n",
    "path = \"/home/jcordero/CMS/JYCMCMS/SMP_ZG/python/Plotter/\"\n",
    "df.to_csv(path+var+'.csv')"
   ]
  },
  {
   "cell_type": "code",
   "execution_count": 9,
   "metadata": {},
   "outputs": [],
   "source": [
    "\n",
    "var = 'bins'\n",
    "df = pd.DataFrame(getattr(Help,var))\n",
    "df['part'] = df.index\n",
    "\n",
    "path = \"/home/jcordero/CMS/JYCMCMS/SMP_ZG/python/Plotter/\"\n",
    "df.to_csv(path+var+'.csv')"
   ]
  },
  {
   "cell_type": "code",
   "execution_count": null,
   "metadata": {},
   "outputs": [],
   "source": []
  },
  {
   "cell_type": "markdown",
   "metadata": {},
   "source": [
    "# Reading Test"
   ]
  },
  {
   "cell_type": "code",
   "execution_count": 16,
   "metadata": {
    "scrolled": true
   },
   "outputs": [],
   "source": [
    "part = 'dilepton'\n",
    "var = 'M'\n",
    "ph = ''\n",
    "\n",
    "H = Help.GET_RangeBins(part,var,ph,\n",
    "                      Blind    = True,\n",
    "                      Plotting = True, \n",
    "                      File     = True,\n",
    "                      )"
   ]
  },
  {
   "cell_type": "code",
   "execution_count": 17,
   "metadata": {
    "scrolled": true
   },
   "outputs": [
    {
     "data": {
      "text/plain": [
       "([50.0, 200.0],\n",
       " [50.0,\n",
       "  52.0,\n",
       "  54.0,\n",
       "  56.0,\n",
       "  58.0,\n",
       "  60.0,\n",
       "  62.0,\n",
       "  64.0,\n",
       "  66.0,\n",
       "  68.0,\n",
       "  70.0,\n",
       "  72.0,\n",
       "  74.0,\n",
       "  76.0,\n",
       "  78.0,\n",
       "  80.0,\n",
       "  82.0,\n",
       "  84.0,\n",
       "  86.0,\n",
       "  88.0,\n",
       "  90.0,\n",
       "  92.0,\n",
       "  94.0,\n",
       "  96.0,\n",
       "  98.0,\n",
       "  100.0,\n",
       "  102.0,\n",
       "  104.0,\n",
       "  106.0,\n",
       "  108.0,\n",
       "  110.0,\n",
       "  112.0,\n",
       "  114.0,\n",
       "  116.0,\n",
       "  118.0,\n",
       "  120.0,\n",
       "  122.0,\n",
       "  124.0,\n",
       "  126.0,\n",
       "  128.0,\n",
       "  130.0,\n",
       "  132.0,\n",
       "  134.0,\n",
       "  136.0,\n",
       "  138.0,\n",
       "  140.0,\n",
       "  142.0,\n",
       "  144.0,\n",
       "  146.0,\n",
       "  148.0,\n",
       "  150.0,\n",
       "  152.0,\n",
       "  154.0,\n",
       "  156.0,\n",
       "  158.0,\n",
       "  160.0,\n",
       "  162.0,\n",
       "  164.0,\n",
       "  166.0,\n",
       "  168.0,\n",
       "  170.0,\n",
       "  172.0,\n",
       "  174.0,\n",
       "  176.0,\n",
       "  178.0,\n",
       "  180.0,\n",
       "  182.0,\n",
       "  184.0,\n",
       "  186.0,\n",
       "  188.0,\n",
       "  190.0,\n",
       "  192.0,\n",
       "  194.0,\n",
       "  196.0,\n",
       "  198.0,\n",
       "  200.0,\n",
       "  202.0,\n",
       "  204.0,\n",
       "  206.0,\n",
       "  208.0,\n",
       "  210.0,\n",
       "  212.0,\n",
       "  214.0,\n",
       "  216.0,\n",
       "  218.0,\n",
       "  220.0,\n",
       "  222.0,\n",
       "  224.0,\n",
       "  226.0,\n",
       "  228.0,\n",
       "  230.0,\n",
       "  232.0,\n",
       "  234.0,\n",
       "  236.0,\n",
       "  238.0,\n",
       "  240.0,\n",
       "  242.0,\n",
       "  244.0,\n",
       "  246.0,\n",
       "  248.0])"
      ]
     },
     "execution_count": 17,
     "metadata": {},
     "output_type": "execute_result"
    }
   ],
   "source": [
    "H"
   ]
  }
 ],
 "metadata": {
  "kernelspec": {
   "display_name": "Python [conda env:CMSenv] *",
   "language": "python",
   "name": "conda-env-CMSenv-py"
  },
  "language_info": {
   "codemirror_mode": {
    "name": "ipython",
    "version": 3
   },
   "file_extension": ".py",
   "mimetype": "text/x-python",
   "name": "python",
   "nbconvert_exporter": "python",
   "pygments_lexer": "ipython3",
   "version": "3.6.7"
  }
 },
 "nbformat": 4,
 "nbformat_minor": 2
}
