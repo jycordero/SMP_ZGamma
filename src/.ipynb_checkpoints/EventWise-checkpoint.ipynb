{
 "cells": [
  {
   "cell_type": "code",
   "execution_count": 1,
   "metadata": {},
   "outputs": [],
   "source": [
    "import os\n",
    "from glob import glob\n",
    "import copy "
   ]
  },
  {
   "cell_type": "code",
   "execution_count": 2,
   "metadata": {},
   "outputs": [],
   "source": [
    "#from dask import delayed\n",
    "#from dask import compute\n",
    "#from dask.distributed import Client, progress\n",
    "#client = Client(threads_per_worker=4, n_workers=20)"
   ]
  },
  {
   "cell_type": "code",
   "execution_count": 3,
   "metadata": {},
   "outputs": [
    {
     "name": "stdout",
     "output_type": "stream",
     "text": [
      "Welcome to JupyROOT 6.16/00\n"
     ]
    },
    {
     "name": "stderr",
     "output_type": "stream",
     "text": [
      "/home/jcordero/CMS/SMP_ZGamma/envSMP/lib/python3.6/site-packages/root_numpy/__init__.py:46: RuntimeWarning: numpy 1.14.3 is currently installed but you installed root_numpy against numpy 1.9.3. Please consider reinstalling root_numpy for this numpy version.\n",
      "  RuntimeWarning)\n"
     ]
    }
   ],
   "source": [
    "import numpy as np\n",
    "import pandas as pd\n",
    "\n",
    "import matplotlib.pyplot as plt\n",
    "from root_pandas import read_root \n",
    "from ROOT import TFile"
   ]
  },
  {
   "cell_type": "code",
   "execution_count": 4,
   "metadata": {},
   "outputs": [],
   "source": [
    "'''\n",
    "from guppy import hpy\n",
    "h = hpy()\n",
    "print(h.heap())\n",
    "''';"
   ]
  },
  {
   "cell_type": "code",
   "execution_count": 5,
   "metadata": {},
   "outputs": [],
   "source": [
    "from Common.CommonHelper  import CommonHelper\n",
    "from Config.ConfigManager import ConfigManager\n",
    "from Samples.DataSample   import DataSample\n",
    "from Samples.DataFile     import DataFile\n",
    "from Samples.Event        import Event\n",
    "from Samples.DataFile     import DataFile\n",
    "from Samples.DataEras     import DataEras\n",
    "from Samples.ConfigData   import ConfigData\n",
    "from Cuts.Cuts            import Cuts\n",
    "from Plotter.Histo        import Histo\n",
    "from Plotter.HistoVar     import HistoVar\n",
    "from Plotter.HistoSample  import HistoSample\n",
    "from Plotter.HistoEras    import HistoEras"
   ]
  },
  {
   "cell_type": "code",
   "execution_count": 6,
   "metadata": {},
   "outputs": [],
   "source": [
    "def getSamplesPath(path):\n",
    "    return glob(os.path.join(path,\"*[!.][!s][!h]\"))\n",
    "\n",
    "def getSampleFromPath(path):\n",
    "    return path.split(\"/\")[-1]\n",
    "\n",
    "def getFileFromPath(path):\n",
    "    return path.split(\"/\")[-1]\n",
    "\n",
    "def getFiles(path,sample):\n",
    "    return glob(os.path.join(path,sample,\"output*[!v_0]*\"))"
   ]
  },
  {
   "cell_type": "code",
   "execution_count": 7,
   "metadata": {},
   "outputs": [],
   "source": [
    "def isPathEmpty(path,samp):\n",
    "    file = glob(os.path.join(path, getSampleFromPath(samp),\"output*\"))\n",
    "    if file:\n",
    "        return False\n",
    "    else:\n",
    "        return True"
   ]
  },
  {
   "cell_type": "code",
   "execution_count": 8,
   "metadata": {},
   "outputs": [],
   "source": [
    "def FillLoop(Sample, HStack, Cut):    \n",
    "    for file in Sample:\n",
    "        for i,iEvent in enumerate(file):\n",
    "            #if i == 1:break\n",
    "            event = Event(iEvent)\n",
    "            event = Event(event[Cut.Pass(event,Region=None)])\n",
    "            if file.name == 'DYJets' and Cut.VetoDY is not None:\n",
    "                event = Event(event[Cut._vetoDY(event)])\n",
    "            for histo in HStack:\n",
    "                #print(histo.name)\n",
    "                histo.fill( event.value(histo.name),\n",
    "                            event.value('genWeight')*event.value('eventWeight')*Sample.getSF())\n",
    "                '''\n",
    "                if histo.name == \"eventWeight\":\n",
    "                    histo.fill( event.value(histo.name) )\n",
    "                else:\n",
    "                    histo.fill( event.value(histo.name),\n",
    "                                event.value('eventWeight')*Sample.getSF())\n",
    "                '''\n",
    "    return HStack"
   ]
  },
  {
   "cell_type": "code",
   "execution_count": 9,
   "metadata": {},
   "outputs": [
    {
     "name": "stdout",
     "output_type": "stream",
     "text": [
      "Loading era 2016 for selection mumug\n",
      "---Building data files\n",
      "---Filling in histograms\n",
      "WWTo2L2Nu\n",
      "DYJets\n",
      "DoubleMuon_2016E\n",
      "ZZTo4L\n",
      "DoubleMuon_2016H\n",
      "DoubleMuon_2016F\n",
      "ZZTo2L2Nu\n",
      "DoubleMuon_2016D\n",
      "DoubleMuon_2016B\n",
      "ZGToLLG\n",
      "TTTo2L2Nu\n",
      "WZTo3LNu\n",
      "WJets\n",
      "DoubleMuon_2016C\n",
      "DoubleMuon_2016G\n",
      "ZZTo2L2Q\n"
     ]
    }
   ],
   "source": [
    "Manager = ConfigManager()\n",
    "datapath     = \"/home/jcordero/CMS/data/\"\n",
    "histsavepath = \"/home/jcordero/CMS/SMP_ZGamma/histo/\"\n",
    "figpath      = \"/home/jcordero/CMS/SMP_ZGamma/fig/\"\n",
    "Manager.CreateProject(histsavepath)\n",
    "Manager.CreateProject(figpath)\n",
    "\n",
    "\n",
    "PhotonRadiation = None\n",
    "OppositeCharge = True\n",
    "#VetoDY = True\n",
    "VetoDY = False #right veto settings\n",
    "#VetoDY = None\n",
    "\n",
    "Cut = Cuts(PhotonRadiation = PhotonRadiation, OppositeCharge = OppositeCharge, VetoDY = VetoDY)\n",
    "\n",
    "selection = \"mumug\"\n",
    "#selection = \"elelg\"\n",
    "\n",
    "#chuncksize = 5000\n",
    "chuncksize = 10000\n",
    "#chuncksize = 1000\n",
    "\n",
    "#eras = ['2016','2017','2018']\n",
    "#eras = ['2017','2018']\n",
    "eras = ['2016']\n",
    "#eras = ['2017']\n",
    "#eras = ['2018']\n",
    "\n",
    "DEra = DataEras()\n",
    "HEra = HistoEras(name = \"ZGamma\")\n",
    "HUnmergeEra = HistoEras()\n",
    "for era in eras:\n",
    "    histsavepath = \"/home/jcordero/CMS/SMP_ZGamma/histo/\"\n",
    "    figpath      = \"/home/jcordero/CMS/SMP_ZGamma/fig/\"\n",
    "    dirstructure = os.path.join(era,selection,Manager.Date())\n",
    "    \n",
    "    print('Loading era {} for selection {}'.format(era,selection))\n",
    "    path = datapath+\"data_{}/{}/SMP_ZG/Files/{}/{}/\".format(era,Manager.legacy(era),selection,Manager.latestDir(era,selection))\n",
    "    histsavepath = os.path.join(histsavepath,dirstructure)\n",
    "    figpath = os.path.join(figpath,dirstructure)\n",
    "    Manager.CreateFigStructure(figpath)\n",
    "    \n",
    "\n",
    "    print('---Building data files')\n",
    "    DSample = DataSample()\n",
    "    for samp in getSamplesPath(path):\n",
    "        if not isPathEmpty(path,samp) :\n",
    "            DSample.append( DataFile(path, getSampleFromPath(samp), era, chuncksize) )\n",
    "    DEra.append(DSample)\n",
    "    \n",
    "    Samples = DSample.getSamples()\n",
    "    #Samples.pop(Samples.index('ZGToLLG'))\n",
    "    #Samples.pop(Samples.index('DYJets'))\n",
    "\n",
    "    #Samples = ['ZGToLLG','DYJets']\n",
    "    #Samples = ['ZGToLLG']\n",
    "\n",
    "    print('---Filling in histograms')\n",
    "    HSample = HistoSample()\n",
    "    for sample in Samples:\n",
    "        print(sample)\n",
    "        HVar = HistoVar()\n",
    "        HSample.append(FillLoop(DSample[sample], HVar.initialize(), Cut), sample)\n",
    "    \n",
    "    HUnmergeSmaple = copy.deepcopy(HSample)\n",
    "    #HSample.merge(ConfigData.DoubleMuon(era),name =\"DoubleMuon\")\n",
    "    #HSample.merge(ConfigData.Diboson(era),name =\"Diboson\")\n",
    "    \n",
    "    HEra.append(HSample, name = era)\n",
    "    HUnmergeEra.append(HUnmergeSmaple, name = era)\n"
   ]
  },
  {
   "cell_type": "code",
   "execution_count": null,
   "metadata": {},
   "outputs": [],
   "source": []
  },
  {
   "cell_type": "code",
   "execution_count": null,
   "metadata": {},
   "outputs": [],
   "source": []
  },
  {
   "cell_type": "code",
   "execution_count": 13,
   "metadata": {},
   "outputs": [],
   "source": [
    "ind  = ['DoubleMuon','WJets', 'TTTo2L2Nu','Diboson' , 'DYJets', 'ZGToLLG']"
   ]
  },
  {
   "cell_type": "code",
   "execution_count": 14,
   "metadata": {},
   "outputs": [
    {
     "name": "stdout",
     "output_type": "stream",
     "text": [
      "DYJets 142169\n",
      "ZGToLLG 71784\n",
      "TTTo2L2Nu 8105\n",
      "WJets 1987\n",
      "DoubleMuon 103972\n",
      "Diboson 1574\n"
     ]
    }
   ],
   "source": [
    "for i,smp in enumerate(HSample):\n",
    "    print(smp.name,smp.size())"
   ]
  },
  {
   "cell_type": "code",
   "execution_count": 16,
   "metadata": {
    "scrolled": false
   },
   "outputs": [
    {
     "data": {
      "image/png": "[encoded data removed]",
      "text/plain": [
       "<Figure size 720x720 with 2 Axes>"
      ]
     },
     "metadata": {
      "needs_background": "light"
     },
     "output_type": "display_data"
    }
   ],
   "source": [
    "era ='2016'\n",
    "figpath = \"/home/jcordero/CMS/SMP_ZGamma/fig/\"\n",
    "dirstructure = os.path.join(era,selection,Manager.Date())\n",
    "figpath = os.path.join(figpath,dirstructure)\n",
    "\n",
    "variable = 'dileptonM'\n",
    "fig, ax = HEra[era].plot( variable=variable,log=True,\n",
    "                        ind = ind,\n",
    "                        WithYield = True,)\n",
    "                        #xranges = [50,200],)\n",
    "                        #yranges=[0,12000])#,Debug=Tru\n",
    "HEra[era].savefig(fig,os.path.join(figpath,variable))"
   ]
  },
  {
   "cell_type": "code",
   "execution_count": null,
   "metadata": {},
   "outputs": [],
   "source": [
    "eraind = {\n",
    "        '2016':0,\n",
    "        '2017':1,\n",
    "        '2018':2,\n",
    "        }\n",
    "era = '2018'\n",
    "path = \"/home/jcordero/CMS/data/data_{}/{}/SMP_ZG/Files/{}/VDask/\".format(era,Manager.legacy(era),selection)\n",
    "histsavepath += os.path.join(era,selection,Manager.Date())\n",
    "\n",
    "figpath = \"/home/jcordero/CMS/SMP_ZGamma/fig/\"\n",
    "dirstructure = os.path.join(era,selection,Manager.Date())\n",
    "figpath = os.path.join(figpath,dirstructure)"
   ]
  },
  {
   "cell_type": "code",
   "execution_count": null,
   "metadata": {},
   "outputs": [],
   "source": [
    "HEra[eraind[era]].savefig(fig,os.path.join(figpath,variable))"
   ]
  },
  {
   "cell_type": "code",
   "execution_count": null,
   "metadata": {},
   "outputs": [],
   "source": [
    "histsavepath = \"/home/jcordero/CMS/SMP_ZGamma/histo/\"\n",
    "dirstructure = os.path.join(era,selection,Manager.Date())\n",
    "histsavepath = os.path.join(histsavepath,dirstructure)\n",
    "\n",
    "HEra[eraind[era]].savehists(path = histsavepath)"
   ]
  },
  {
   "cell_type": "code",
   "execution_count": null,
   "metadata": {},
   "outputs": [],
   "source": [
    "HEra[0].name"
   ]
  },
  {
   "cell_type": "code",
   "execution_count": null,
   "metadata": {
    "scrolled": true
   },
   "outputs": [],
   "source": [
    "#HEra[eraind[era]].savefigs(figpath)\n",
    "#HEra[0].savefigs(figpath, ind=ind)\n",
    "\n",
    "#HEra[0].savefigs(figpath, ind=ind)\n",
    "era ='2018'\n",
    "figpath = \"/home/jcordero/CMS/SMP_ZGamma/fig/\"\n",
    "dirstructure = os.path.join(era,selection,Manager.Date())\n",
    "figpath = os.path.join(figpath,dirstructure)\n",
    "HEra[2].savefigs(figpath, ind=ind)"
   ]
  },
  {
   "cell_type": "code",
   "execution_count": null,
   "metadata": {},
   "outputs": [],
   "source": [
    "x = np.arange(0,10)\n",
    "xc = [x for _ in range(3)]\n",
    "wei  = [10*x for _ in range(3)]\n",
    "mchist = plt.hist(xc,weights=wei,stacked=True)\n",
    "ax = plt.gca()\n",
    "ax.set_xticklabels([])\n",
    "for i in dir(ax):\n",
    "    if 'tick' in i:\n",
    "        print(i)"
   ]
  },
  {
   "cell_type": "code",
   "execution_count": null,
   "metadata": {},
   "outputs": [],
   "source": [
    "ax.set_xticks()"
   ]
  },
  {
   "cell_type": "code",
   "execution_count": null,
   "metadata": {},
   "outputs": [],
   "source": [
    "len(mchist[1])"
   ]
  },
  {
   "cell_type": "code",
   "execution_count": null,
   "metadata": {},
   "outputs": [],
   "source": [
    "mchist[0][-1]"
   ]
  },
  {
   "cell_type": "code",
   "execution_count": null,
   "metadata": {},
   "outputs": [],
   "source": [
    "figpath = \"/home/jcordero/CMS/SMP_ZGamma/fig/\"\n",
    "dirstructure = os.path.join(era,selection,Manager.Date())\n",
    "figpath = os.path.join(figpath,dirstructure)\n"
   ]
  },
  {
   "cell_type": "code",
   "execution_count": null,
   "metadata": {},
   "outputs": [],
   "source": [
    "Manager.CreateFigStructure(figpath)"
   ]
  },
  {
   "cell_type": "code",
   "execution_count": null,
   "metadata": {},
   "outputs": [],
   "source": [
    "x = np.arange(0,10)\n",
    "plt.plot(x)"
   ]
  },
  {
   "cell_type": "code",
   "execution_count": null,
   "metadata": {},
   "outputs": [],
   "source": [
    "from ROOT import TFile\n",
    "#from Cuts.Cuts import Cuts\n",
    "#from Samples.Event import Event\n",
    "from root_pandas import read_root"
   ]
  },
  {
   "cell_type": "code",
   "execution_count": null,
   "metadata": {},
   "outputs": [],
   "source": []
  },
  {
   "cell_type": "code",
   "execution_count": null,
   "metadata": {},
   "outputs": [],
   "source": [
    "rootpath = '/home/jcordero/CMS/data/data_2017/rereco/SMP_ZG/Files/mumug/VDask/WWTo2L2Nu/output_WWTo2L2Nu_1.root'\n",
    "#files = TFile(DSample['DYJets'][0].path)\n",
    "for df in read_root(rootpath,chunksize=10000):\n",
    "    event = Event(df)"
   ]
  },
  {
   "cell_type": "code",
   "execution_count": null,
   "metadata": {},
   "outputs": [],
   "source": []
  },
  {
   "cell_type": "code",
   "execution_count": null,
   "metadata": {},
   "outputs": [],
   "source": [
    "#PhotonRadiation = None\n",
    "PhotonRadiation = 'IRS'\n",
    "OppositeCharge = True\n",
    "#VetoDY = True\n",
    "VetoDY = False\n",
    "\n",
    "Cutting = Cuts(PhotonRadiation = PhotonRadiation, OppositeCharge = OppositeCharge, VetoDY = VetoDY)"
   ]
  },
  {
   "cell_type": "code",
   "execution_count": null,
   "metadata": {},
   "outputs": [],
   "source": [
    "flag = Cutting._DR_l1gm(event)\n",
    "print('DRl1',np.sum(flag))\n",
    "#flag = np.logical_and(flag,Cutting._DR_l2gm(event))\n",
    "flag *= Cutting._DR_l2gm(event)\n",
    "print('DRl2',np.sum(flag))\n",
    "\n",
    "if Cutting.MVA is not None and self.MVA: \n",
    "    flag *= Cutting._MVA(event)\n",
    "print('MVA',np.sum(flag))\n",
    "    \n",
    "if Cutting.PhotonRadiation is not None:\n",
    "    if Cutting.PhotonRadiation == 'ISR': \n",
    "        flag *= Cutting._ISR(event)\n",
    "    elif Cutting.PhotonRadiation == 'FSR': \n",
    "        flag *= Cutting._ISR(event)\n",
    "print('PhotonType',np.sum(flag))\n",
    "        \n",
    "# Implemented on the main code and not in this STD member \n",
    "'''\n",
    "if self.VetoDY is not None:\n",
    "    flag *= self._vetoDY(event)\n",
    "'''\n",
    "\n",
    "if Cutting.OppositeCharge is not None: \n",
    "    if Cutting.OppositeCharge:\n",
    "        flag *= Cutting._oppositeCharge(event)\n",
    "    else: \n",
    "        flag *= Cutting._sameCharge(event)\n",
    "print('Charge',np.sum(flag))\n",
    "        \n",
    "flag *= Cutting._extremeWeight(event)\n",
    "print(np.sum(flag))"
   ]
  },
  {
   "cell_type": "code",
   "execution_count": null,
   "metadata": {},
   "outputs": [],
   "source": [
    "np.sum(event.event.l1PhotonDR > 0.7)"
   ]
  },
  {
   "cell_type": "code",
   "execution_count": null,
   "metadata": {},
   "outputs": [],
   "source": [
    "np.sum(event.event.l2PhotonDR > 0.7)"
   ]
  },
  {
   "cell_type": "code",
   "execution_count": null,
   "metadata": {},
   "outputs": [],
   "source": [
    "np.sum((event.event.l1PhotonDR > 0.7)*(event.event.l2PhotonDR > 0.7))"
   ]
  },
  {
   "cell_type": "code",
   "execution_count": null,
   "metadata": {},
   "outputs": [],
   "source": [
    "np.sum(Cutting._oppositeCharge(event))"
   ]
  },
  {
   "cell_type": "code",
   "execution_count": null,
   "metadata": {},
   "outputs": [],
   "source": [
    "for sample in Samples:\n",
    "    print(sample,DSample[sample].getSF())"
   ]
  },
  {
   "cell_type": "code",
   "execution_count": null,
   "metadata": {},
   "outputs": [],
   "source": [
    "newpath = \"/home/jcordero/CMS/data/data_2017/rereco/SMP_ZG/Files/mumug/VDask/\"\n",
    "oldpath = \"/home/jcordero/CMS/data/data_2017/rereco/SMP_ZG/Files/mumug/V6_lPhoton/\"\n",
    "oldsmppath = 'WWTo2L2Nu/output_WWTo2L2Nu_v_0.root'\n",
    "OLD = read_root(oldpath+oldsmppath)['eventWeight']\n",
    "\n",
    "#files = TFile(DSample['DYJets'][0].path)\n",
    "weight = []\n",
    "NEW = pd.DataFrame()\n",
    "for i in range(1,11):\n",
    "    newsmppath = 'WWTo2L2Nu/output_WWTo2L2Nu_{}.root'.format(str(i))\n",
    "    event = Event(read_root(newpath+newsmppath))\n",
    "    NEW = NEW.append(read_root(newpath+newsmppath))"
   ]
  },
  {
   "cell_type": "code",
   "execution_count": null,
   "metadata": {},
   "outputs": [],
   "source": [
    "plt.hist(OLD)\n"
   ]
  },
  {
   "cell_type": "code",
   "execution_count": null,
   "metadata": {},
   "outputs": [],
   "source": [
    "plt.hist(NEW['eventWeight'])"
   ]
  },
  {
   "cell_type": "code",
   "execution_count": null,
   "metadata": {},
   "outputs": [],
   "source": [
    "event.value('eventWeight')*DSample['DYJets'].getSF()"
   ]
  },
  {
   "cell_type": "code",
   "execution_count": null,
   "metadata": {},
   "outputs": [],
   "source": []
  }
 ],
 "metadata": {
  "kernelspec": {
   "display_name": "SMP",
   "language": "python",
   "name": "smp"
  },
  "language_info": {
   "codemirror_mode": {
    "name": "ipython",
    "version": 3
   },
   "file_extension": ".py",
   "mimetype": "text/x-python",
   "name": "python",
   "nbconvert_exporter": "python",
   "pygments_lexer": "ipython3",
   "version": "3.6.10"
  },
  "varInspector": {
   "cols": {
    "lenName": 16,
    "lenType": 16,
    "lenVar": 40
   },
   "kernels_config": {
    "python": {
     "delete_cmd_postfix": "",
     "delete_cmd_prefix": "del ",
     "library": "var_list.py",
     "varRefreshCmd": "print(var_dic_list())"
    },
    "r": {
     "delete_cmd_postfix": ") ",
     "delete_cmd_prefix": "rm(",
     "library": "var_list.r",
     "varRefreshCmd": "cat(var_dic_list()) "
    }
   },
   "types_to_exclude": [
    "module",
    "function",
    "builtin_function_or_method",
    "instance",
    "_Feature"
   ],
   "window_display": false
  }
 },
 "nbformat": 4,
 "nbformat_minor": 2
}
