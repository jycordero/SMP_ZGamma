{
 "cells": [
  {
   "cell_type": "code",
   "execution_count": null,
   "metadata": {},
   "outputs": [],
   "source": [
    "from glob import glob\n",
    "import os\n",
    "import numpy as np"
   ]
  },
  {
   "cell_type": "code",
   "execution_count": null,
   "metadata": {},
   "outputs": [],
   "source": [
    "from Common.CommonHelper import CommonHelper\n",
    "from Common.StackList import StackList\n",
    "from Samples.Data import Data\n",
    "from Samples.ConfigData import ConfigData"
   ]
  },
  {
   "cell_type": "code",
   "execution_count": null,
   "metadata": {},
   "outputs": [],
   "source": [
    "class DataFile( StackList, ConfigData ):\n",
    "    def __init__(self,path,name,era,chunksize=1):\n",
    "        self.path = os.path.join(path, name) #/PATHTODATA/SAMPLE\n",
    "        self.name = name\n",
    "        self.era  = era\n",
    "        self.data = self.isData(name)\n",
    "        self.chunksize = chunksize\n",
    "        self.confpath = \"/home/jcordero/CMS/SMP_ZGamma/json/data/\"\n",
    "        \n",
    "        StackList.__init__(self, self._loadFiles() )\n",
    "    \n",
    "\n",
    "    def _loadFiles(self):\n",
    "        DataFiles = []\n",
    "        for files in self._getFiles():\n",
    "            filename = files.split(\"/\")[-1]\n",
    "            DataFiles.append( Data(files, self.name, filename, self.chunksize) )\n",
    "        return DataFiles\n",
    "    \n",
    "    def _getFiles(self):\n",
    "        return glob(os.path.join(self.path,\"output*[!v_0]*\"))\n",
    "\n",
    "    def getLumi(self,era):\n",
    "        return CommonHelper.Read.openJson(self.confpath+\"lumi.json\")[era]\n",
    "    \n",
    "    def getXsec(self,process,era=None):\n",
    "        try:\n",
    "            return CommonHelper.Read.openJson(self.confpath+\"xsec.json\")[process][era]\n",
    "        except:\n",
    "            return CommonHelper.Read.openJson(self.confpath+\"xsec.json\")[process]\n",
    "        \n",
    "    def getSF(self):\n",
    "        if(self.N() != 0 and not self.data):\n",
    "            return(1e3*self.getXsec(self.name,self.era)*self.getLumi(self.era)/self.N())\n",
    "        else: \n",
    "            return(1)\n",
    "    \n",
    "    def N(self):\n",
    "        return np.sum([istck.N() for istck in self.stack])\n",
    "    \n",
    "    def Total(self):\n",
    "        return np.sum([istck.getTotal() for istck in self.stack])\n",
    "       "
   ]
  },
  {
   "cell_type": "code",
   "execution_count": null,
   "metadata": {},
   "outputs": [],
   "source": []
  },
  {
   "cell_type": "code",
   "execution_count": null,
   "metadata": {},
   "outputs": [],
   "source": []
  }
 ],
 "metadata": {
  "kernelspec": {
   "display_name": "SMP",
   "language": "python",
   "name": "smp"
  },
  "language_info": {
   "codemirror_mode": {
    "name": "ipython",
    "version": 3
   },
   "file_extension": ".py",
   "mimetype": "text/x-python",
   "name": "python",
   "nbconvert_exporter": "python",
   "pygments_lexer": "ipython3",
   "version": "3.6.10"
  },
  "varInspector": {
   "cols": {
    "lenName": 16,
    "lenType": 16,
    "lenVar": 40
   },
   "kernels_config": {
    "python": {
     "delete_cmd_postfix": "",
     "delete_cmd_prefix": "del ",
     "library": "var_list.py",
     "varRefreshCmd": "print(var_dic_list())"
    },
    "r": {
     "delete_cmd_postfix": ") ",
     "delete_cmd_prefix": "rm(",
     "library": "var_list.r",
     "varRefreshCmd": "cat(var_dic_list()) "
    }
   },
   "types_to_exclude": [
    "module",
    "function",
    "builtin_function_or_method",
    "instance",
    "_Feature"
   ],
   "window_display": false
  }
 },
 "nbformat": 4,
 "nbformat_minor": 2
}
