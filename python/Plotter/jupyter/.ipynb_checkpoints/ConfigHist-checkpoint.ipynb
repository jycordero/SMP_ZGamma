{
 "cells": [
  {
   "cell_type": "code",
   "execution_count": null,
   "metadata": {},
   "outputs": [],
   "source": [
    "from Common.CommonHelper import CommonHelper"
   ]
  },
  {
   "cell_type": "code",
   "execution_count": null,
   "metadata": {},
   "outputs": [],
   "source": [
    "class ConfigHist:\n",
    "    confpath=\"/home/jcordero/CMS/SMP_ZGamma/json/plot/\"\n",
    "    \n",
    "    def getMarket(self,name):\n",
    "        return CommonHelper.Read.openJson(self.confpath+\"plot_conf.json\")[name]['plot']['marker']\n",
    "    \n",
    "    def getHisttpe(self,name):\n",
    "        return CommonHelper.Read.openJson(self.confpath+\"plot_conf.json\")[name]['hist']['histtype']\n",
    "    \n",
    "    def getLabel(self,name):\n",
    "        return CommonHelper.Read.openJson(self.confpath+\"plot_conf.json\")[name]['label']\n",
    "        \n",
    "    def getLinewidth(self,name):\n",
    "        return CommonHelper.Read.openJson(self.confpath+\"plot_conf.json\")[name]['plot'][\"linewidth\"]\n",
    "    \n",
    "    def getColor(self,name):\n",
    "        return CommonHelper.Read.openJson(self.confpath+\"plot_conf.json\")[name][\"color\"]"
   ]
  }
 ],
 "metadata": {
  "kernelspec": {
   "display_name": "Python [conda env:CMSenv] *",
   "language": "python",
   "name": "conda-env-CMSenv-py"
  },
  "language_info": {
   "codemirror_mode": {
    "name": "ipython",
    "version": 3
   },
   "file_extension": ".py",
   "mimetype": "text/x-python",
   "name": "python",
   "nbconvert_exporter": "python",
   "pygments_lexer": "ipython3",
   "version": "3.6.7"
  },
  "varInspector": {
   "cols": {
    "lenName": 16,
    "lenType": 16,
    "lenVar": 40
   },
   "kernels_config": {
    "python": {
     "delete_cmd_postfix": "",
     "delete_cmd_prefix": "del ",
     "library": "var_list.py",
     "varRefreshCmd": "print(var_dic_list())"
    },
    "r": {
     "delete_cmd_postfix": ") ",
     "delete_cmd_prefix": "rm(",
     "library": "var_list.r",
     "varRefreshCmd": "cat(var_dic_list()) "
    }
   },
   "types_to_exclude": [
    "module",
    "function",
    "builtin_function_or_method",
    "instance",
    "_Feature"
   ],
   "window_display": false
  }
 },
 "nbformat": 4,
 "nbformat_minor": 2
}
