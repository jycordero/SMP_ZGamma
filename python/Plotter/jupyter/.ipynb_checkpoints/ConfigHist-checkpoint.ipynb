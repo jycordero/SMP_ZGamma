{
 "cells": [
  {
   "cell_type": "code",
   "execution_count": null,
   "metadata": {},
   "outputs": [],
   "source": [
    "from Common.CommonHelper import CommonHelper"
   ]
  },
  {
   "cell_type": "code",
   "execution_count": 1,
   "metadata": {},
   "outputs": [],
   "source": [
    "class ConfigHist:\n",
    "    confpath=\"/home/jcordero/CMS/SMP_ZGamma/json/plot/\"\n",
    "    \n",
    "    def getProperties(self,name=\"\"):\n",
    "        prop = {}\n",
    "        prop['color']    = self.getColor(name) \n",
    "        prop['label']    = self.getLabel(name)\n",
    "        prop['histtype'] = self.getHisttpe(name)\n",
    "        return prop    \n",
    "    \n",
    "    def getMarket(self,name):\n",
    "        return CommonHelper.Read.openJson(self.confpath+\"plot_conf.json\")[name]['plot']['marker']\n",
    "    \n",
    "    def getHisttpe(self,name):\n",
    "        return CommonHelper.Read.openJson(self.confpath+\"plot_conf.json\")[name]['hist']['histtype']\n",
    "    \n",
    "    def getLabel(self,name):\n",
    "        return CommonHelper.Read.openJson(self.confpath+\"plot_conf.json\")[name]['label']\n",
    "        \n",
    "    def getLinewidth(self,name):\n",
    "        return CommonHelper.Read.openJson(self.confpath+\"plot_conf.json\")[name]['plot'][\"linewidth\"]\n",
    "    \n",
    "    def getColor(self,name):\n",
    "        return CommonHelper.Read.openJson(self.confpath+\"plot_conf.json\")[name][\"color\"]\n",
    "    \n",
    "    def Var2PlotDict(self,part,var,ph):\n",
    "        VarDict = []\n",
    "        dirstruc = {}\n",
    "        for p in part:\n",
    "            for v in var:\n",
    "                for gm in ph:\n",
    "                    VarDict.append({\n",
    "                                    \"part\":p,\n",
    "                                    \"var\":v,\n",
    "                                    \"ph\":gm\n",
    "                                    })\n",
    "\n",
    "        return VarDict\n",
    "    \n",
    "    def Var2Plot(self):\n",
    "        PartVar = []\n",
    "        VarDict = []\n",
    "\n",
    "        parts = [\"photonOne\",\"leptonOne\",\"leptonTwo\",\"dilepton\",\"llg\"]\n",
    "        var = [\"Pt\"]\n",
    "        ph = [\"\"]\n",
    "        #ph = [\"\",\"_EE\",\"_EB\"]\n",
    "        PartVar += [p+v+gm for p in parts for v in var for gm in ph]\n",
    "        VarDict += self.Var2PlotDict(parts,var,ph)    \n",
    "\n",
    "        parts = [\"dilepton\",\"llg\"]\n",
    "        var = [\"M\"]\n",
    "        ph = [\"\"]\n",
    "        #ph = [\"\",\"_EE\",\"_EB\"]\n",
    "        PartVar += [p+v+gm for p in parts for v in var for gm in ph]\n",
    "        VarDict += self.Var2PlotDict(parts,var,ph)    \n",
    "\n",
    "        parts = [\"photonOne\",\"leptonOne\",\"leptonTwo\"]\n",
    "        var = [\"Eta\",\"Phi\"]\n",
    "        ph = [\"\"]\n",
    "        #ph = [\"\",\"_EE\",\"_EB\"]\n",
    "        PartVar += [p+v+gm for p in parts for v in var for gm in ph]\n",
    "        VarDict += self.Var2PlotDict(parts,var,ph)    \n",
    "\n",
    "        parts = [\"dilepton\",\"dileptonPhoton\",\"l1Photon\",\"l2Photon\"]\n",
    "        var = [\"DR\",\"DEta\",\"DPhi\"]\n",
    "        ph = [\"\"]\n",
    "        PartVar += [p+v+gm for p in parts for v in var for gm in ph]\n",
    "        VarDict += self.Var2PlotDict(parts,var,ph)\n",
    "\n",
    "        return PartVar,VarDict"
   ]
  },
  {
   "cell_type": "code",
   "execution_count": null,
   "metadata": {},
   "outputs": [],
   "source": []
  }
 ],
 "metadata": {
  "kernelspec": {
   "display_name": "SMP",
   "language": "python",
   "name": "smp"
  },
  "language_info": {
   "codemirror_mode": {
    "name": "ipython",
    "version": 3
   },
   "file_extension": ".py",
   "mimetype": "text/x-python",
   "name": "python",
   "nbconvert_exporter": "python",
   "pygments_lexer": "ipython3",
   "version": "3.6.10"
  },
  "varInspector": {
   "cols": {
    "lenName": 16,
    "lenType": 16,
    "lenVar": 40
   },
   "kernels_config": {
    "python": {
     "delete_cmd_postfix": "",
     "delete_cmd_prefix": "del ",
     "library": "var_list.py",
     "varRefreshCmd": "print(var_dic_list())"
    },
    "r": {
     "delete_cmd_postfix": ") ",
     "delete_cmd_prefix": "rm(",
     "library": "var_list.r",
     "varRefreshCmd": "cat(var_dic_list()) "
    }
   },
   "types_to_exclude": [
    "module",
    "function",
    "builtin_function_or_method",
    "instance",
    "_Feature"
   ],
   "window_display": false
  }
 },
 "nbformat": 4,
 "nbformat_minor": 2
}
