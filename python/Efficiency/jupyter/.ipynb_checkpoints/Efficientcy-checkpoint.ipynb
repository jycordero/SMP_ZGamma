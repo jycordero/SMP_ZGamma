{
 "cells": [
  {
   "cell_type": "code",
   "execution_count": null,
   "metadata": {},
   "outputs": [],
   "source": [
    "class Efficienty():\n",
    "    def __init__(self,\n",
    "                 Data,Signal,Bkg,\n",
    "                 etaBins, ptBins,\n",
    "                ):\n",
    "        self.Data   = Data\n",
    "        self.Signal = Signal\n",
    "        self.Bkg    = Bkg\n",
    "        \n",
    "        self.etaBins = etaBins\n",
    "        self.etaBins = ptBins\n",
    "    def"
   ]
  }
 ],
 "metadata": {
  "kernelspec": {
   "display_name": "python3",
   "language": "python",
   "name": "python3"
  },
  "language_info": {
   "codemirror_mode": {
    "name": "ipython",
    "version": 2
   },
   "file_extension": ".py",
   "mimetype": "text/x-python",
   "name": "python",
   "nbconvert_exporter": "python",
   "pygments_lexer": "ipython2",
   "version": "2.7.17"
  }
 },
 "nbformat": 4,
 "nbformat_minor": 2
}
