{
 "cells": [
  {
   "cell_type": "code",
   "execution_count": null,
   "metadata": {},
   "outputs": [],
   "source": [
    "from ROOT import TMVA\n",
    "import array"
   ]
  },
  {
   "cell_type": "code",
   "execution_count": 1,
   "metadata": {},
   "outputs": [],
   "source": [
    "class MVA():\n",
    "    def __init__(self, Config,variables):\n",
    "        self.projectdir = Config.projectdir\n",
    "        self.era = Config.era\n",
    "        self.DataGen = Config.DataGen\n",
    "        self.variables = variables\n",
    "        \n",
    "        self.pathMVA = \"/home/jcordero/CMS/data_\" + self.era + \"/\" + self.DataGen + \"/SMP_ZG/Files/ShowerShapeMVA/\"\n",
    "        \n",
    "        \n",
    "        self.file = {}\n",
    "        self.reader = {}\n",
    "        \n",
    "        self.phVals = [\"EE\",\"EB\"]\n",
    "        \n",
    "        self.var = {}\n",
    "        self.BDT = {}\n",
    "        \n",
    "        self.iniFiles()\n",
    "        \n",
    "        \n",
    "    def iniFiles(self):\n",
    "        for ph in self.phVals:\n",
    "            if self.era == \"2016\":\n",
    "                preName = \"spring16_80x_\"+ph\n",
    "            elif self.era == \"2017\":\n",
    "                preName = \"fall17_94X_\"+ph\n",
    "            elif self.era == \"2018\":\n",
    "                preName = \"autumn18_\"+ph\n",
    "                \n",
    "            self.file[ph] = self.pathMVA + preName + \"_TMVAnalysis_BDT.weights.xml\"\n",
    "            self.reader[ph] = TMVA.Reader()\n",
    "        \n",
    "    def loadMVA(self):\n",
    "        for ph in self.phVals:\n",
    "            self.var[ph] = {}\n",
    "            for mvaVar in self.variables[ph]:\n",
    "                    self.var[ph][mvaVar] = array.array('f',[0])\n",
    "                    self.reader[ph].AddVariable(mvaVar, \n",
    "                                                self.var[ph][mvaVar]\n",
    "                                               )\n",
    "            self.reader[ph].BookMVA(\"BDT\",self.file[ph])        \n",
    "            \n",
    "    def readMVA(self, data, inMVA):\n",
    "        self.BDT = {}\n",
    "        for ph in self.phVals:\n",
    "            print('============='+ph+\"============\")\n",
    "            self.BDT[ph] = {}\n",
    "            for d in data:\n",
    "                print('--------',d.name,'-------',len(inMVA[ph][d.name][\"recoPhi\"]))\n",
    "                self.BDT[ph][d.name] = []\n",
    "                for i in range(len(inMVA[ph][d.name][\"recoPhi\"])):\n",
    "                    for v in inMVA[ph][d.name]:\n",
    "                        self.var[ph][v][0] = inMVA[ph][d.name][v][i]\n",
    "\n",
    "                    self.BDT[ph][d.name].append(self.reader[ph].EvaluateMVA(\"BDT\"))\n",
    "        \n",
    "\n"
   ]
  },
  {
   "cell_type": "code",
   "execution_count": null,
   "metadata": {},
   "outputs": [],
   "source": []
  },
  {
   "cell_type": "code",
   "execution_count": null,
   "metadata": {},
   "outputs": [],
   "source": []
  }
 ],
 "metadata": {
  "kernelspec": {
   "display_name": "Python [conda env:CMSenv] *",
   "language": "python",
   "name": "conda-env-CMSenv-py"
  },
  "language_info": {
   "codemirror_mode": {
    "name": "ipython",
    "version": 3
   },
   "file_extension": ".py",
   "mimetype": "text/x-python",
   "name": "python",
   "nbconvert_exporter": "python",
   "pygments_lexer": "ipython3",
   "version": "3.6.7"
  }
 },
 "nbformat": 4,
 "nbformat_minor": 2
}
