{
 "cells": [
  {
   "cell_type": "code",
   "execution_count": 4,
   "metadata": {},
   "outputs": [],
   "source": [
    "import dask.dataframe as ddf"
   ]
  },
  {
   "cell_type": "code",
   "execution_count": 6,
   "metadata": {},
   "outputs": [
    {
     "name": "stderr",
     "output_type": "stream",
     "text": [
      "ERROR:root:Internal Python error in the inspect module.\n",
      "Below is the traceback from this internal error.\n",
      "\n"
     ]
    },
    {
     "name": "stdout",
     "output_type": "stream",
     "text": [
      "Traceback (most recent call last):\n",
      "  File \"/home/jcordero/anaconda3/envs/CMSenv/lib/python3.6/site-packages/IPython/core/interactiveshell.py\", line 3319, in run_code\n",
      "    exec(code_obj, self.user_global_ns, self.user_ns)\n",
      "  File \"<ipython-input-6-5cf3a253cfc0>\", line 1, in <module>\n",
      "    from root_pandas import read_root\n",
      "  File \"/home/jcordero/anaconda3/envs/CMSenv/lib/ROOT.py\", line 533, in _importhook\n",
      "    return _orig_ihook( name, *args, **kwds )\n",
      "  File \"/home/jcordero/anaconda3/envs/CMSenv/lib/ROOT.py\", line 533, in _importhook\n",
      "    return _orig_ihook( name, *args, **kwds )\n",
      "  File \"/home/jcordero/anaconda3/envs/CMSenv/lib/ROOT.py\", line 533, in _importhook\n",
      "    return _orig_ihook( name, *args, **kwds )\n",
      "  [Previous line repeated 7 more times]\n",
      "  File \"/home/jcordero/anaconda3/envs/CMSenv/lib/python3.6/site-packages/root_pandas/__init__.py\", line 1, in <module>\n",
      "    from .readwrite import read_root\n",
      "  File \"/home/jcordero/anaconda3/envs/CMSenv/lib/ROOT.py\", line 533, in _importhook\n",
      "    return _orig_ihook( name, *args, **kwds )\n",
      "  File \"/home/jcordero/anaconda3/envs/CMSenv/lib/ROOT.py\", line 533, in _importhook\n",
      "    return _orig_ihook( name, *args, **kwds )\n",
      "  File \"/home/jcordero/anaconda3/envs/CMSenv/lib/ROOT.py\", line 533, in _importhook\n",
      "    return _orig_ihook( name, *args, **kwds )\n",
      "  [Previous line repeated 7 more times]\n",
      "  File \"/home/jcordero/anaconda3/envs/CMSenv/lib/python3.6/site-packages/root_pandas/readwrite.py\", line 11, in <module>\n",
      "    from root_numpy import root2array, list_trees\n",
      "  File \"/home/jcordero/anaconda3/envs/CMSenv/lib/ROOT.py\", line 533, in _importhook\n",
      "    return _orig_ihook( name, *args, **kwds )\n",
      "  File \"/home/jcordero/anaconda3/envs/CMSenv/lib/ROOT.py\", line 533, in _importhook\n",
      "    return _orig_ihook( name, *args, **kwds )\n",
      "  File \"/home/jcordero/anaconda3/envs/CMSenv/lib/ROOT.py\", line 533, in _importhook\n",
      "    return _orig_ihook( name, *args, **kwds )\n",
      "  [Previous line repeated 7 more times]\n",
      "  File \"/home/jcordero/anaconda3/envs/CMSenv/lib/python3.6/site-packages/root_numpy/__init__.py\", line 21, in <module>\n",
      "    ROOT_VERSION = root_version_active()\n",
      "  File \"/home/jcordero/anaconda3/envs/CMSenv/lib/python3.6/site-packages/root_numpy/setup_utils.py\", line 111, in root_version_active\n",
      "    import ROOT\n",
      "  File \"/home/jcordero/anaconda3/envs/CMSenv/lib/ROOT.py\", line 533, in _importhook\n",
      "    return _orig_ihook( name, *args, **kwds )\n",
      "  File \"/home/jcordero/anaconda3/envs/CMSenv/lib/ROOT.py\", line 533, in _importhook\n",
      "    return _orig_ihook( name, *args, **kwds )\n",
      "  File \"/home/jcordero/anaconda3/envs/CMSenv/lib/ROOT.py\", line 533, in _importhook\n",
      "    return _orig_ihook( name, *args, **kwds )\n",
      "  [Previous line repeated 7 more times]\n",
      "  File \"/home/jcordero/anaconda3/envs/CMSenv/lib/ROOT.py\", line 834, in <module>\n",
      "    import JupyROOT\n",
      "  File \"/home/jcordero/anaconda3/envs/CMSenv/lib/ROOT.py\", line 533, in _importhook\n",
      "    return _orig_ihook( name, *args, **kwds )\n",
      "  File \"/home/jcordero/anaconda3/envs/CMSenv/lib/ROOT.py\", line 533, in _importhook\n",
      "    return _orig_ihook( name, *args, **kwds )\n",
      "  File \"/home/jcordero/anaconda3/envs/CMSenv/lib/ROOT.py\", line 533, in _importhook\n",
      "    return _orig_ihook( name, *args, **kwds )\n",
      "  [Previous line repeated 8 more times]\n",
      "  File \"/home/jcordero/anaconda3/envs/CMSenv/lib/JupyROOT/__init__.py\", line 5, in <module>\n",
      "    utils.iPythonize()\n",
      "  File \"/home/jcordero/anaconda3/envs/CMSenv/lib/JupyROOT/helpers/utils.py\", line 504, in iPythonize\n",
      "    loadMagicsAndCapturers()\n",
      "  File \"/home/jcordero/anaconda3/envs/CMSenv/lib/JupyROOT/helpers/utils.py\", line 476, in loadMagicsAndCapturers\n",
      "    extMgr.load_extension(extName)\n",
      "  File \"/home/jcordero/anaconda3/envs/CMSenv/lib/python3.6/site-packages/IPython/core/extensions.py\", line 80, in load_extension\n",
      "    mod = import_module(module_str)\n",
      "  File \"/home/jcordero/anaconda3/envs/CMSenv/lib/python3.6/importlib/__init__.py\", line 126, in import_module\n",
      "    return _bootstrap._gcd_import(name[level:], package, level)\n",
      "  File \"/home/jcordero/anaconda3/envs/CMSenv/lib/JupyROOT/magics/cppmagic.py\", line 8, in <module>\n",
      "    class CppMagics(Magics):\n",
      "  File \"/home/jcordero/anaconda3/envs/CMSenv/lib/JupyROOT/magics/cppmagic.py\", line 12, in CppMagics\n",
      "    @argument('-d', '--declare', action=\"store_true\", help='Declare functions and/or classes.')\n",
      "  File \"/home/jcordero/anaconda3/envs/CMSenv/lib/python3.6/site-packages/IPython/core/magic.py\", line 193, in magic_deco\n",
      "    retval = decorator(call, func)\n",
      "  File \"/home/jcordero/anaconda3/envs/CMSenv/lib/python3.6/site-packages/decorator.py\", line 263, in decorator\n",
      "    return decorate(_func, caller)\n",
      "  File \"/home/jcordero/anaconda3/envs/CMSenv/lib/python3.6/site-packages/decorator.py\", line 245, in decorate\n",
      "    generatorcaller = isgeneratorfunction(caller)\n",
      "  File \"/home/jcordero/anaconda3/envs/CMSenv/lib/python3.6/inspect.py\", line 177, in isgeneratorfunction\n",
      "    return bool((isfunction(object) or ismethod(object)) and\n",
      "  File \"/home/jcordero/anaconda3/envs/CMSenv/lib/ROOT.py\", line 156, in isfunction\n",
      "    return inspect._old_isfunction( object )\n",
      "  File \"/home/jcordero/anaconda3/envs/CMSenv/lib/ROOT.py\", line 156, in isfunction\n",
      "    return inspect._old_isfunction( object )\n",
      "  File \"/home/jcordero/anaconda3/envs/CMSenv/lib/ROOT.py\", line 156, in isfunction\n",
      "    return inspect._old_isfunction( object )\n",
      "  [Previous line repeated 2806 more times]\n",
      "  File \"/home/jcordero/anaconda3/envs/CMSenv/lib/ROOT.py\", line 154, in isfunction\n",
      "    if type(object) == _root.MethodProxy and not object.im_class:\n",
      "RecursionError: maximum recursion depth exceeded while calling a Python object\n",
      "\n",
      "During handling of the above exception, another exception occurred:\n",
      "\n",
      "Traceback (most recent call last):\n",
      "  File \"/home/jcordero/anaconda3/envs/CMSenv/lib/python3.6/site-packages/IPython/core/interactiveshell.py\", line 2034, in showtraceback\n",
      "    stb = value._render_traceback_()\n",
      "AttributeError: 'RecursionError' object has no attribute '_render_traceback_'\n",
      "\n",
      "During handling of the above exception, another exception occurred:\n",
      "\n",
      "Traceback (most recent call last):\n",
      "  File \"/home/jcordero/anaconda3/envs/CMSenv/lib/python3.6/site-packages/IPython/core/ultratb.py\", line 1101, in get_records\n",
      "    return _fixed_getinnerframes(etb, number_of_lines_of_context, tb_offset)\n",
      "  File \"/home/jcordero/anaconda3/envs/CMSenv/lib/python3.6/site-packages/IPython/core/ultratb.py\", line 319, in wrapped\n",
      "    return f(*args, **kwargs)\n",
      "  File \"/home/jcordero/anaconda3/envs/CMSenv/lib/python3.6/site-packages/IPython/core/ultratb.py\", line 353, in _fixed_getinnerframes\n",
      "    records = fix_frame_records_filenames(inspect.getinnerframes(etb, context))\n",
      "  File \"/home/jcordero/anaconda3/envs/CMSenv/lib/python3.6/inspect.py\", line 1488, in getinnerframes\n",
      "    frameinfo = (tb.tb_frame,) + getframeinfo(tb, context)\n",
      "  File \"/home/jcordero/anaconda3/envs/CMSenv/lib/python3.6/inspect.py\", line 1446, in getframeinfo\n",
      "    filename = getsourcefile(frame) or getfile(frame)\n",
      "  File \"/home/jcordero/anaconda3/envs/CMSenv/lib/python3.6/inspect.py\", line 684, in getsourcefile\n",
      "    filename = getfile(object)\n",
      "  File \"/home/jcordero/anaconda3/envs/CMSenv/lib/python3.6/inspect.py\", line 655, in getfile\n",
      "    if ismethod(object):\n",
      "  File \"/home/jcordero/anaconda3/envs/CMSenv/lib/ROOT.py\", line 163, in ismethod\n",
      "    return inspect._old_ismethod( object )\n",
      "  File \"/home/jcordero/anaconda3/envs/CMSenv/lib/ROOT.py\", line 163, in ismethod\n",
      "    return inspect._old_ismethod( object )\n",
      "  File \"/home/jcordero/anaconda3/envs/CMSenv/lib/ROOT.py\", line 163, in ismethod\n",
      "    return inspect._old_ismethod( object )\n",
      "  [Previous line repeated 2948 more times]\n",
      "  File \"/home/jcordero/anaconda3/envs/CMSenv/lib/ROOT.py\", line 161, in ismethod\n",
      "    if type(object) == _root.MethodProxy:\n",
      "RecursionError: maximum recursion depth exceeded while calling a Python object\n"
     ]
    },
    {
     "ename": "RecursionError",
     "evalue": "maximum recursion depth exceeded while calling a Python object",
     "output_type": "error",
     "traceback": [
      "\u001b[0;31m---------------------------------------------------------------------------\u001b[0m"
     ]
    }
   ],
   "source": [
    "from root_pandas import read_root "
   ]
  },
  {
   "cell_type": "code",
   "execution_count": 14,
   "metadata": {},
   "outputs": [],
   "source": [
    "from glob import glob"
   ]
  },
  {
   "cell_type": "code",
   "execution_count": 13,
   "metadata": {},
   "outputs": [],
   "source": [
    "DATAPATH=\"/home/jcordero/CMS/data/data_2018/rereco/SMP_ZG/Files/mumug/V2_trigBits_pu\""
   ]
  },
  {
   "cell_type": "code",
   "execution_count": null,
   "metadata": {},
   "outputs": [],
   "source": []
  },
  {
   "cell_type": "raw",
   "metadata": {},
   "source": [
    " "
   ]
  },
  {
   "cell_type": "code",
   "execution_count": null,
   "metadata": {},
   "outputs": [],
   "source": []
  }
 ],
 "metadata": {
  "kernelspec": {
   "display_name": "Python [conda env:CMSenv] *",
   "language": "python",
   "name": "conda-env-CMSenv-py"
  },
  "language_info": {
   "codemirror_mode": {
    "name": "ipython",
    "version": 3
   },
   "file_extension": ".py",
   "mimetype": "text/x-python",
   "name": "python",
   "nbconvert_exporter": "python",
   "pygments_lexer": "ipython3",
   "version": "3.6.7"
  },
  "varInspector": {
   "cols": {
    "lenName": 16,
    "lenType": 16,
    "lenVar": 40
   },
   "kernels_config": {
    "python": {
     "delete_cmd_postfix": "",
     "delete_cmd_prefix": "del ",
     "library": "var_list.py",
     "varRefreshCmd": "print(var_dic_list())"
    },
    "r": {
     "delete_cmd_postfix": ") ",
     "delete_cmd_prefix": "rm(",
     "library": "var_list.r",
     "varRefreshCmd": "cat(var_dic_list()) "
    }
   },
   "types_to_exclude": [
    "module",
    "function",
    "builtin_function_or_method",
    "instance",
    "_Feature"
   ],
   "window_display": false
  }
 },
 "nbformat": 4,
 "nbformat_minor": 2
}
