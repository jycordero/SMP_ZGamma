{
 "cells": [
  {
   "cell_type": "code",
   "execution_count": 1,
   "metadata": {},
   "outputs": [],
   "source": [
    "from Common.StackList import StackList"
   ]
  },
  {
   "cell_type": "code",
   "execution_count": 2,
   "metadata": {},
   "outputs": [],
   "source": [
    "class HistoEras( StackList ):\n",
    "    def __init__(self,stack=None, name=None):\n",
    "        StackList.__init__(self,stack)\n",
    "        if name is None:            \n",
    "            self.name     = None\n",
    "        else:\n",
    "            if type(name) is list:\n",
    "                self.name     = name\n",
    "            else:\n",
    "                self.name     = [ name ]\n",
    "    \n",
    "    def append(self,stack,name=None):\n",
    "        if name is None and stack.name is None:\n",
    "            raise \"Name is not specified, provide argument \\\"name\\\" or set is in Histo\"\n",
    "            \n",
    "        self.__addVariable(name)\n",
    "        self.vappend(stack)\n",
    "        \n",
    "    def vappend(self,stack):\n",
    "        super().append(stack)\n",
    "        #self.__addVariable(stack.name)\n",
    "        \n",
    "    def __addVariable(self,name):\n",
    "        if self.name is None:\n",
    "            self.name = []\n",
    "        \n",
    "        if name is not None:\n",
    "            if type(name) is list:\n",
    "                self.name  += name\n",
    "            else:\n",
    "                self.name  += [ name ]    \n",
    "    \n",
    "    \n",
    "    def savefig(self,fig,fullpath):  \n",
    "        fig.savefig(fullpath)\n",
    "    \n",
    "    '''\n",
    "    def savefigs(self)\n",
    "        fig.savefig(fullpath)\n",
    "    '''\n",
    "    \n",
    "    def plot():\n",
    "        pass"
   ]
  },
  {
   "cell_type": "code",
   "execution_count": null,
   "metadata": {},
   "outputs": [],
   "source": []
  }
 ],
 "metadata": {
  "kernelspec": {
   "display_name": "SMP",
   "language": "python",
   "name": "smp"
  },
  "language_info": {
   "codemirror_mode": {
    "name": "ipython",
    "version": 3
   },
   "file_extension": ".py",
   "mimetype": "text/x-python",
   "name": "python",
   "nbconvert_exporter": "python",
   "pygments_lexer": "ipython3",
   "version": "3.6.10"
  },
  "varInspector": {
   "cols": {
    "lenName": 16,
    "lenType": 16,
    "lenVar": 40
   },
   "kernels_config": {
    "python": {
     "delete_cmd_postfix": "",
     "delete_cmd_prefix": "del ",
     "library": "var_list.py",
     "varRefreshCmd": "print(var_dic_list())"
    },
    "r": {
     "delete_cmd_postfix": ") ",
     "delete_cmd_prefix": "rm(",
     "library": "var_list.r",
     "varRefreshCmd": "cat(var_dic_list()) "
    }
   },
   "types_to_exclude": [
    "module",
    "function",
    "builtin_function_or_method",
    "instance",
    "_Feature"
   ],
   "window_display": false
  }
 },
 "nbformat": 4,
 "nbformat_minor": 2
}
