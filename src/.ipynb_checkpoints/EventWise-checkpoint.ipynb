{
 "cells": [
  {
   "cell_type": "code",
   "execution_count": 1,
   "metadata": {},
   "outputs": [],
   "source": [
    "import os\n",
    "from glob import glob"
   ]
  },
  {
   "cell_type": "code",
   "execution_count": 2,
   "metadata": {},
   "outputs": [],
   "source": [
    "#from dask.distributed import Client, progress\n",
    "#client = Client(threads_per_worker=4, n_workers=20)"
   ]
  },
  {
   "cell_type": "code",
   "execution_count": 3,
   "metadata": {},
   "outputs": [
    {
     "name": "stdout",
     "output_type": "stream",
     "text": [
      "Welcome to JupyROOT 6.16/00\n"
     ]
    },
    {
     "name": "stderr",
     "output_type": "stream",
     "text": [
      "/home/jcordero/CMS/SMP_ZGamma/envSMP/lib/python3.6/site-packages/root_numpy/__init__.py:46: RuntimeWarning: numpy 1.14.3 is currently installed but you installed root_numpy against numpy 1.9.3. Please consider reinstalling root_numpy for this numpy version.\n",
      "  RuntimeWarning)\n"
     ]
    }
   ],
   "source": [
    "import numpy as np\n",
    "import pandas as pd\n",
    "#from dask import delayed\n",
    "#from dask import compute\n",
    "\n",
    "from root_pandas import read_root \n",
    "from ROOT import TFile"
   ]
  },
  {
   "cell_type": "code",
   "execution_count": 4,
   "metadata": {},
   "outputs": [],
   "source": [
    "'''\n",
    "from guppy import hpy\n",
    "h = hpy()\n",
    "print(h.heap())\n",
    "''';"
   ]
  },
  {
   "cell_type": "code",
   "execution_count": null,
   "metadata": {},
   "outputs": [],
   "source": []
  },
  {
   "cell_type": "code",
   "execution_count": 5,
   "metadata": {},
   "outputs": [],
   "source": [
    "import matplotlib.pyplot as plt"
   ]
  },
  {
   "cell_type": "code",
   "execution_count": 6,
   "metadata": {},
   "outputs": [],
   "source": [
    "from Common.CommonHelper  import CommonHelper\n",
    "from Samples.DataStack    import DataStack\n",
    "from Samples.DataSample   import DataSample\n",
    "from Samples.Event        import Event\n",
    "from Samples.DataFile     import DataFile\n",
    "from Plotter.Histo        import Histo\n",
    "from Plotter.HistoSample  import HistoSample\n",
    "from Plotter.HistoVar     import HistoVar"
   ]
  },
  {
   "cell_type": "code",
   "execution_count": 7,
   "metadata": {},
   "outputs": [],
   "source": [
    "def getSamplesPath(path):\n",
    "    return glob(os.path.join(path,\"*[!.][!s][!h]\"))\n",
    "\n",
    "def getSampleFromPath(path):\n",
    "    return path.split(\"/\")[-1]\n",
    "\n",
    "def getFileFromPath(path):\n",
    "    return path.split(\"/\")[-1]\n",
    "\n",
    "def getFiles(path,sample):\n",
    "    return glob(os.path.join(path,sample,\"output*[!v_0]*\"))"
   ]
  },
  {
   "cell_type": "code",
   "execution_count": 8,
   "metadata": {},
   "outputs": [],
   "source": [
    "def isPathEmpty(path,samp):\n",
    "    file = glob(os.path.join(path, getSampleFromPath(samp),\"output*\"))\n",
    "    if file:\n",
    "        return False\n",
    "    else:\n",
    "        return True"
   ]
  },
  {
   "cell_type": "code",
   "execution_count": 9,
   "metadata": {},
   "outputs": [],
   "source": [
    "def SampleLoop(Sample, HStack):\n",
    "    for file in Sample:\n",
    "        for i,iEvent in enumerate(file):\n",
    "            event = Event(iEvent)\n",
    "\n",
    "            for histo in HStack:\n",
    "                #print(histo.name)\n",
    "                histo.fill( event.value(histo.name),\n",
    "                            event.value('eventWeight')*Sample.getSF())\n",
    "    return HStack"
   ]
  },
  {
   "cell_type": "code",
   "execution_count": 10,
   "metadata": {},
   "outputs": [],
   "source": [
    "path = \"/home/jcordero/CMS/data/data_2018/rereco/SMP_ZG/Files/mumug/VDask/\"\n",
    "chuncksize = 5000\n",
    "era = \"2018\"\n",
    "\n",
    "dataFiles  = ['DoubleMuon']\n",
    "dataFiles += ['DoubleMuon_'+era+run for era in ['2016','2017','2018'] for run in ['A','B','C','D','E','F','G','Histo']]"
   ]
  },
  {
   "cell_type": "code",
   "execution_count": null,
   "metadata": {},
   "outputs": [],
   "source": []
  },
  {
   "cell_type": "code",
   "execution_count": 11,
   "metadata": {},
   "outputs": [],
   "source": [
    "DStack = DataStack()\n",
    "\n",
    "for samp in getSamplesPath(path):\n",
    "    if not isPathEmpty(path,samp) :\n",
    "        if getSampleFromPath(samp) not in dataFiles:\n",
    "            DStack.append( DataSample(path, getSampleFromPath(samp), era, chuncksize) )\n",
    "    "
   ]
  },
  {
   "cell_type": "code",
   "execution_count": 12,
   "metadata": {},
   "outputs": [],
   "source": [
    "def Var2PlotDict(part,var,ph):\n",
    "    VarDict = []\n",
    "    dirstruc = {}\n",
    "    for p in part:\n",
    "        for v in var:\n",
    "            for gm in ph:\n",
    "                VarDict.append({\n",
    "                                \"part\":p,\n",
    "                                \"var\":v,\n",
    "                                \"ph\":gm\n",
    "                                })\n",
    "                \n",
    "    return VarDict\n",
    "    \n",
    "def Var2Plot():\n",
    "    PartVar = []\n",
    "    VarDict = []\n",
    "    \n",
    "    parts = [\"photonOne\",\"leptonOne\",\"leptonTwo\",\"dilepton\",\"llg\"]\n",
    "    var = [\"Pt\"]\n",
    "    ph = [\"\"]\n",
    "    #ph = [\"\",\"_EE\",\"_EB\"]\n",
    "    PartVar += [p+v+gm for p in parts for v in var for gm in ph]\n",
    "    VarDict += Var2PlotDict(parts,var,ph)    \n",
    "    \n",
    "    parts = [\"dilepton\",\"llg\"]\n",
    "    var = [\"M\"]\n",
    "    ph = [\"\"]\n",
    "    #ph = [\"\",\"_EE\",\"_EB\"]\n",
    "    PartVar += [p+v+gm for p in parts for v in var for gm in ph]\n",
    "    VarDict += Var2PlotDict(parts,var,ph)    \n",
    "    \n",
    "    parts = [\"photonOne\",\"leptonOne\",\"leptonTwo\"]\n",
    "    var = [\"Eta\",\"Phi\"]\n",
    "    ph = [\"\"]\n",
    "    #ph = [\"\",\"_EE\",\"_EB\"]\n",
    "    PartVar += [p+v+gm for p in parts for v in var for gm in ph]\n",
    "    VarDict += Var2PlotDict(parts,var,ph)    \n",
    "    \n",
    "    parts = [\"dilepton\",\"dileptonPhoton\",\"l1Photon\",\"l2Photon\"]\n",
    "    var = [\"DR\",\"DEta\",\"DPhi\"]\n",
    "    ph = [\"\"]\n",
    "    PartVar += [p+v+gm for p in parts for v in var for gm in ph]\n",
    "    VarDict += Var2PlotDict(parts,var,ph)\n",
    "    \n",
    "    return PartVar,VarDict"
   ]
  },
  {
   "cell_type": "code",
   "execution_count": 13,
   "metadata": {
    "scrolled": true
   },
   "outputs": [],
   "source": [
    "def HVarStackckIni():\n",
    "    HVarStack = HistoVar()\n",
    "    _,vardict = Var2Plot()\n",
    "    \n",
    "    for var in vardict:\n",
    "        #print(var)\n",
    "        HVarStack.append(Histo(variable = var))\n",
    "        \n",
    "    return HVarStack"
   ]
  },
  {
   "cell_type": "code",
   "execution_count": 14,
   "metadata": {
    "code_folding": []
   },
   "outputs": [
    {
     "name": "stdout",
     "output_type": "stream",
     "text": [
      "WZTo2L2Q\n",
      "DYJets\n",
      "ZZTo4L\n",
      "ZGToLLG\n",
      "TTTo2L2Nu\n",
      "WZTo3LNu\n",
      "WJets\n",
      "CPU times: user 37.1 s, sys: 2.84 s, total: 39.9 s\n",
      "Wall time: 40.4 s\n"
     ]
    }
   ],
   "source": [
    "\n",
    "HSampleStack = HistoSample()\n",
    "for sample in DStack.getSamples():\n",
    "    print(sample)\n",
    "    HSampleStack.append(SampleLoop(DStack[sample], HVarStackckIni()),name = sample)\n",
    "    #HSampleStack.append(delayed(SampleLoop)(DStack[sample], HVarStack))\n",
    "#compute(*HSampleStack)"
   ]
  },
  {
   "cell_type": "code",
   "execution_count": 15,
   "metadata": {},
   "outputs": [
    {
     "data": {
      "image/png": "[encoded data removed]",
      "text/plain": [
       "<Figure size 720x720 with 1 Axes>"
      ]
     },
     "metadata": {
      "needs_background": "light"
     },
     "output_type": "display_data"
    }
   ],
   "source": [
    "fig,ax = HSampleStack.plot(variable=\"dileptonM\",log=True)\n",
    "#HSampleStack.plot(log=True)\n",
    "#HSampleStack.plot(log=False)"
   ]
  },
  {
   "cell_type": "code",
   "execution_count": 16,
   "metadata": {
    "scrolled": true
   },
   "outputs": [
    {
     "data": {
      "text/plain": [
       "['WZTo2L2Q', 'DYJets', 'ZZTo4L', 'ZGToLLG', 'TTTo2L2Nu', 'WZTo3LNu', 'WJets']"
      ]
     },
     "execution_count": 16,
     "metadata": {},
     "output_type": "execute_result"
    }
   ],
   "source": [
    "HSampleStack.name"
   ]
  },
  {
   "cell_type": "code",
   "execution_count": 17,
   "metadata": {
    "scrolled": false
   },
   "outputs": [
    {
     "ename": "TypeError",
     "evalue": "unsupported operand type(s) for +=: 'NoneType' and 'NoneType'",
     "output_type": "error",
     "traceback": [
      "\u001b[0;31m---------------------------------------------------------------------------\u001b[0m",
      "\u001b[0;31mTypeError\u001b[0m                                 Traceback (most recent call last)",
      "\u001b[0;32m<ipython-input-17-6c1f3e694404>\u001b[0m in \u001b[0;36m<module>\u001b[0;34m\u001b[0m\n\u001b[1;32m      1\u001b[0m \u001b[0mVV\u001b[0m \u001b[0;34m=\u001b[0m \u001b[0;34m[\u001b[0m\u001b[0;34m'WZTo2L2Q'\u001b[0m\u001b[0;34m,\u001b[0m\u001b[0;34m'ZZTo4L'\u001b[0m\u001b[0;34m,\u001b[0m\u001b[0;34m'WZTo3LNu'\u001b[0m\u001b[0;34m]\u001b[0m\u001b[0;34m\u001b[0m\u001b[0;34m\u001b[0m\u001b[0m\n\u001b[0;32m----> 2\u001b[0;31m \u001b[0mHSampleStack\u001b[0m\u001b[0;34m.\u001b[0m\u001b[0mmerge\u001b[0m\u001b[0;34m(\u001b[0m\u001b[0mVV\u001b[0m\u001b[0;34m,\u001b[0m\u001b[0mname\u001b[0m \u001b[0;34m=\u001b[0m\u001b[0;34m\"VV\"\u001b[0m\u001b[0;34m)\u001b[0m\u001b[0;34m\u001b[0m\u001b[0;34m\u001b[0m\u001b[0m\n\u001b[0m",
      "\u001b[0;32m~/CMS/SMP_ZGamma/python/Plotter/HistoSample.py\u001b[0m in \u001b[0;36mmerge\u001b[0;34m(self, samples, name)\u001b[0m\n\u001b[1;32m     76\u001b[0m         \u001b[0;32mfor\u001b[0m \u001b[0mi\u001b[0m \u001b[0;34m,\u001b[0m\u001b[0msmp\u001b[0m \u001b[0;32min\u001b[0m \u001b[0menumerate\u001b[0m\u001b[0;34m(\u001b[0m\u001b[0msamples\u001b[0m\u001b[0;34m)\u001b[0m\u001b[0;34m:\u001b[0m\u001b[0;34m\u001b[0m\u001b[0;34m\u001b[0m\u001b[0m\n\u001b[1;32m     77\u001b[0m             \u001b[0;32mif\u001b[0m \u001b[0mi\u001b[0m \u001b[0;34m==\u001b[0m \u001b[0;36m0\u001b[0m\u001b[0;34m:\u001b[0m \u001b[0mhistos\u001b[0m \u001b[0;34m=\u001b[0m \u001b[0mself\u001b[0m\u001b[0;34m.\u001b[0m\u001b[0mpop\u001b[0m\u001b[0;34m(\u001b[0m\u001b[0mself\u001b[0m\u001b[0;34m.\u001b[0m\u001b[0mName2Index\u001b[0m\u001b[0;34m(\u001b[0m\u001b[0msmp\u001b[0m\u001b[0;34m)\u001b[0m\u001b[0;34m)\u001b[0m\u001b[0;34m\u001b[0m\u001b[0;34m\u001b[0m\u001b[0m\n\u001b[0;32m---> 78\u001b[0;31m             \u001b[0;32melse\u001b[0m\u001b[0;34m:\u001b[0m \u001b[0mhistos\u001b[0m \u001b[0;34m+=\u001b[0m \u001b[0mself\u001b[0m\u001b[0;34m.\u001b[0m\u001b[0mpop\u001b[0m\u001b[0;34m(\u001b[0m\u001b[0mself\u001b[0m\u001b[0;34m.\u001b[0m\u001b[0mName2Index\u001b[0m\u001b[0;34m(\u001b[0m\u001b[0msmp\u001b[0m\u001b[0;34m)\u001b[0m\u001b[0;34m)\u001b[0m\u001b[0;34m\u001b[0m\u001b[0;34m\u001b[0m\u001b[0m\n\u001b[0m\u001b[1;32m     79\u001b[0m         \u001b[0;31m#self.append(sum([self.pop(self.Name2Index(smp)) for smp in samples]),name)\u001b[0m\u001b[0;34m\u001b[0m\u001b[0;34m\u001b[0m\u001b[0;34m\u001b[0m\u001b[0m\n\u001b[1;32m     80\u001b[0m         \u001b[0mself\u001b[0m\u001b[0;34m.\u001b[0m\u001b[0mappend\u001b[0m\u001b[0;34m(\u001b[0m\u001b[0mhisto\u001b[0m\u001b[0;34m,\u001b[0m\u001b[0mname\u001b[0m\u001b[0;34m)\u001b[0m\u001b[0;34m\u001b[0m\u001b[0;34m\u001b[0m\u001b[0m\n",
      "\u001b[0;31mTypeError\u001b[0m: unsupported operand type(s) for +=: 'NoneType' and 'NoneType'"
     ]
    }
   ],
   "source": [
    "VV = ['WZTo2L2Q','ZZTo4L','WZTo3LNu']\n",
    "HSampleStack.merge(VV,name =\"VV\")"
   ]
  },
  {
   "cell_type": "code",
   "execution_count": null,
   "metadata": {},
   "outputs": [],
   "source": [
    "HSampleStack.name"
   ]
  },
  {
   "cell_type": "code",
   "execution_count": null,
   "metadata": {},
   "outputs": [],
   "source": [
    "#np.sum(HSampleStack[smp] for smp in HSampleStack.name)\n",
    "for hsmpstck in HSampleStack:\n",
    "    hsmpstck.Print = True"
   ]
  },
  {
   "cell_type": "code",
   "execution_count": null,
   "metadata": {},
   "outputs": [],
   "source": [
    "HSampleStack['DYJets'].Print"
   ]
  },
  {
   "cell_type": "code",
   "execution_count": null,
   "metadata": {},
   "outputs": [],
   "source": [
    "#M['photonOnePt'].values\n",
    "#M['photonOnePt'].plot()"
   ]
  },
  {
   "cell_type": "code",
   "execution_count": null,
   "metadata": {},
   "outputs": [],
   "source": [
    "M = HSampleStack['DYJets']+HSampleStack['ZGToLLG']"
   ]
  },
  {
   "cell_type": "code",
   "execution_count": null,
   "metadata": {},
   "outputs": [],
   "source": [
    "HSampleStack['DYJets']['photonOnePt'].plot()\n",
    "HSampleStack['ZGToLLG']['photonOnePt'].plot()"
   ]
  },
  {
   "cell_type": "code",
   "execution_count": null,
   "metadata": {
    "scrolled": true
   },
   "outputs": [],
   "source": [
    "M['photonOnePt'].plot()\n",
    "M['photonOnePt'].values\n",
    "#HSampleStack['DYJets']['photonOnePt']+HSampleStack['ZGToLLG']['photonOnePt']"
   ]
  },
  {
   "cell_type": "code",
   "execution_count": null,
   "metadata": {},
   "outputs": [],
   "source": [
    "print(HSampleStack['DYJets']['photonOnePt'].values,\n",
    "      HSampleStack['ZGToLLG']['photonOnePt'].values)"
   ]
  },
  {
   "cell_type": "code",
   "execution_count": null,
   "metadata": {},
   "outputs": [],
   "source": [
    "(HSampleStack['DYJets']['photonOnePt'] + HSampleStack['ZGToLLG']['photonOnePt']).values"
   ]
  },
  {
   "cell_type": "code",
   "execution_count": null,
   "metadata": {},
   "outputs": [],
   "source": []
  },
  {
   "cell_type": "code",
   "execution_count": null,
   "metadata": {},
   "outputs": [],
   "source": []
  },
  {
   "cell_type": "code",
   "execution_count": null,
   "metadata": {},
   "outputs": [],
   "source": []
  },
  {
   "cell_type": "code",
   "execution_count": null,
   "metadata": {},
   "outputs": [],
   "source": [
    "HSampleStack.getProperties()"
   ]
  },
  {
   "cell_type": "code",
   "execution_count": null,
   "metadata": {
    "scrolled": false
   },
   "outputs": [],
   "source": [
    "for idy, izg in zip(HSampleStack['DYJets'],HSampleStack['ZGToLLG']):\n",
    "    print((idy + izg).values)\n",
    "    m = (idy + izg)\n",
    "    print(m.values)\n",
    "    print()"
   ]
  },
  {
   "cell_type": "code",
   "execution_count": null,
   "metadata": {},
   "outputs": [],
   "source": [
    "type(HSampleStack['DYJets']+HSampleStack['ZGToLLG'])"
   ]
  },
  {
   "cell_type": "code",
   "execution_count": null,
   "metadata": {},
   "outputs": [],
   "source": [
    "for d in HSampleStack['DYJets']:\n",
    "    print(type(d))"
   ]
  },
  {
   "cell_type": "code",
   "execution_count": null,
   "metadata": {},
   "outputs": [],
   "source": []
  }
 ],
 "metadata": {
  "kernelspec": {
   "display_name": "SMP",
   "language": "python",
   "name": "smp"
  },
  "language_info": {
   "codemirror_mode": {
    "name": "ipython",
    "version": 3
   },
   "file_extension": ".py",
   "mimetype": "text/x-python",
   "name": "python",
   "nbconvert_exporter": "python",
   "pygments_lexer": "ipython3",
   "version": "3.6.10"
  },
  "varInspector": {
   "cols": {
    "lenName": 16,
    "lenType": 16,
    "lenVar": 40
   },
   "kernels_config": {
    "python": {
     "delete_cmd_postfix": "",
     "delete_cmd_prefix": "del ",
     "library": "var_list.py",
     "varRefreshCmd": "print(var_dic_list())"
    },
    "r": {
     "delete_cmd_postfix": ") ",
     "delete_cmd_prefix": "rm(",
     "library": "var_list.r",
     "varRefreshCmd": "cat(var_dic_list()) "
    }
   },
   "types_to_exclude": [
    "module",
    "function",
    "builtin_function_or_method",
    "instance",
    "_Feature"
   ],
   "window_display": false
  }
 },
 "nbformat": 4,
 "nbformat_minor": 2
}
