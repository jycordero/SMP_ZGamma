{
 "cells": [
  {
   "cell_type": "code",
   "execution_count": 2,
   "metadata": {
    "code_folding": [
     62,
     65
    ]
   },
   "outputs": [],
   "source": [
    "class jetjetgm_Topology():\n",
    "    def __init__(self):\n",
    "        self.__xsec = {}\n",
    "        self.__BR = {}\n",
    "        self.__lumi = {}\n",
    "        #--------------------------------------\n",
    "        # Luminosity --- units = fb^-1\n",
    "        self.__lumi = {}\n",
    "        self.__lumi['2016'] = 37.80 \n",
    "        #--------------------------------------\n",
    "        self.__xsec[\"Muon\"]     = 1\n",
    "        \n",
    "        # Crossection of H = 125.5 GeV @ 13 TeV --- units = pb        \n",
    "        self.__xsec[\"TT\"]     = 831.76 \n",
    "        self.__xsec[\"WH\"]     = 1.362  \n",
    "        \n",
    "        self.__xsec['DYJets'] = 5765.4 #D YJetsToLL_M-50_amcatnlo 5765.4\n",
    "        self.__xsec['WZTo2L2Q'] = 5.595\n",
    "        self.__xsec['WZTo1L1Nu2Q'] = 10.71\n",
    "        \n",
    "        self.__xsec['ZZTo2L2Q'] = 3.22\n",
    "        \n",
    "        self.__xsec[\"WWTo2L2Nu\"]    = 12.178\n",
    "        self.__xsec[\"WWToLNuQQ\"]    = 49.997\n",
    "        \n",
    "        self.__xsec[\"WZ\"]           = 0.8594 \n",
    "        self.__xsec[\"WZTo3LNu\"]     = 4.42965\n",
    "        self.__xsec[\"WZTo1L3Nu\"]    = 3.033\n",
    "        self.__xsec[\"WZTo1L1Nu2Q\"]  = 10.71\n",
    "        self.__xsec[\"WZTo2L2Q\"]     = 5.595\n",
    "        \n",
    "        self.__xsec['ggF']    = 43.62  \n",
    "        self.__xsec['VBF']    = 3.727  \n",
    "        self.__xsec['W1Jets'] = 9493.0\n",
    "        self.__xsec['W2Jets'] = 3120.0 \n",
    "        self.__xsec['W3Jets'] = 942.3\n",
    "        self.__xsec['W4Jets'] = 524.1\n",
    "        #--------------------------------------\n",
    "        # Branchin Ratio\n",
    "        self.__BR[\"All\"] = 1\n",
    "        self.__BR[\"H2ZGm\"] = 1.54e-3\n",
    "\n",
    "        ### W Branching\n",
    "        self.__BR[\"W2e\"]   = 0.108\n",
    "        self.__BR[\"W2mu\"]  = 0.106\n",
    "        self.__BR[\"W2tau\"] = 0.112\n",
    "        #self.__BR[\"W2ud\"] = 0.676/3\n",
    "        #self.__BR[\"W2sc\"] = 0.676/3\n",
    "\n",
    "        ### Z Branching\n",
    "        self.__BR[\"Z2ee\"]     = 0.0363\n",
    "        self.__BR[\"Z2mumu\"]   = 0.0366\n",
    "        self.__BR[\"Z2tautau\"] = 0.0367\n",
    "        self.__BR[\"Z2jj\"]     = 0.692\n",
    "        self.__BR[\"Z2bbbar\"]  = 0.156\n",
    "        self.__BR[\"Z2ddbar\"]  = 0.156\n",
    "        self.__BR[\"Z2ssbar\"]  = 0.156\n",
    "        self.__BR[\"Z2uubar\"]  = 0.116\n",
    "        self.__BR[\"Z2ccbar\"]  = 0.116\n",
    "\n",
    "        # Top to Wb\n",
    "        self.__BR[\"t2Wb\"] = 0.91\n",
    "\n",
    "    def _GetXsec(self, process):\n",
    "        if type(process) == str:\n",
    "            return(self.__xsec[process])\n",
    "        else :\n",
    "            return(np.prod([self.__xsec[p] for p in process]))\n",
    "\n",
    "    def _GetBR(self, process):\n",
    "        if type(process) == str:\n",
    "            return(self.__BR[process])\n",
    "        else: \n",
    "            return(np.prod([self.__BR[p] for p in process]))\n",
    "\n",
    "    def _GetLumi(self, process):\n",
    "        return(self.__lumi[process])\n",
    "\n",
    "    def GetSF(self, N,lumName,xsecName,data=False):\n",
    "        if(N != 0 and not data):\n",
    "            return(1e3*self._GetXsec(xsecName)*self._GetLumi(lumName)/N)\n",
    "        else: \n",
    "            return(1)\n",
    "        "
   ]
  },
  {
   "cell_type": "code",
   "execution_count": null,
   "metadata": {
    "code_folding": []
   },
   "outputs": [],
   "source": []
  },
  {
   "cell_type": "code",
   "execution_count": null,
   "metadata": {
    "code_folding": []
   },
   "outputs": [],
   "source": []
  },
  {
   "cell_type": "code",
   "execution_count": null,
   "metadata": {},
   "outputs": [],
   "source": []
  }
 ],
 "metadata": {
  "kernelspec": {
   "display_name": "Python 3",
   "language": "python",
   "name": "python3"
  },
  "language_info": {
   "codemirror_mode": {
    "name": "ipython",
    "version": 3
   },
   "file_extension": ".py",
   "mimetype": "text/x-python",
   "name": "python",
   "nbconvert_exporter": "python",
   "pygments_lexer": "ipython3",
   "version": "3.6.5"
  }
 },
 "nbformat": 4,
 "nbformat_minor": 2
}
