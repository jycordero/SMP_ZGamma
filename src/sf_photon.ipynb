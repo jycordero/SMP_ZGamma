{
 "cells": [
  {
   "cell_type": "code",
   "execution_count": 1,
   "metadata": {},
   "outputs": [],
   "source": [
    "import array\n",
    "import numpy as np\n",
    "from ROOT import TFile, TTree, TH2F"
   ]
  },
  {
   "cell_type": "code",
   "execution_count": 8,
   "metadata": {
    "code_folding": [
     0
    ]
   },
   "outputs": [],
   "source": []
  },
  {
   "cell_type": "markdown",
   "metadata": {},
   "source": [
    "# Reader File"
   ]
  },
  {
   "cell_type": "code",
   "execution_count": 2,
   "metadata": {},
   "outputs": [],
   "source": [
    "NewOld = 'New/'\n",
    "\n",
    "path = \"/home/jcordero/CMS/JYCMCMS/SMP_ZG/python/Efficiency/zee/\"\n",
    "fileName = 'eff_photon_data.root'\n",
    "#fileName = 'eff_photon_data_ExpFit.root'\n",
    "fileData = TFile(path+fileName)\n",
    "\n",
    "fileName = 'eff_photon.root'\n",
    "fileMC = TFile(path+fileName)"
   ]
  },
  {
   "cell_type": "code",
   "execution_count": 3,
   "metadata": {},
   "outputs": [],
   "source": [
    "Data = fileData.Get('EGamma_eff')\n",
    "MC   = fileMC.Get('EGamma_eff')"
   ]
  },
  {
   "cell_type": "code",
   "execution_count": null,
   "metadata": {},
   "outputs": [],
   "source": []
  },
  {
   "cell_type": "markdown",
   "metadata": {},
   "source": [
    "# Scale Factor"
   ]
  },
  {
   "cell_type": "code",
   "execution_count": 4,
   "metadata": {},
   "outputs": [],
   "source": [
    "fileName = 'sf_photon.root'\n",
    "file = TFile(path+fileName,'recreate')\n",
    "tree = TTree('tree_SF','tree_SF')"
   ]
  },
  {
   "cell_type": "code",
   "execution_count": 5,
   "metadata": {},
   "outputs": [],
   "source": [
    "ptBins  = array.array('f',[0,20,40,50,90,150,500])\n",
    "#ptBins  = array.array(\"f\",[10,20,35,50,90,150,500])\n",
    "\n",
    "#etaBins = array.array(\"f\",[-2.5,-2,-1.566,-1.4442,-1.0,0,1.0,1.4442,1.566,2,2.5])\n",
    "etaBins = array.array(\"f\",[-2.5,-1.566,-1.4442,0,1.4442,1.566,2.5])\n",
    "\n",
    "ptNBins, etaNBins  = len(ptBins)-1, len(etaBins)-1\n",
    "\n",
    "hist2d = TH2F(\"SF\",\"SF\",\n",
    "              ptNBins,ptBins,\n",
    "              etaNBins,etaBins)\n",
    "\n",
    "tree.Branch(\"sf\",hist2d,\"TH2F\")\n",
    "#hist2d.SetAxisRange(0,1,\"Z\")\n",
    "hist2d.SetAxisRange(0,2,\"Z\")"
   ]
  },
  {
   "cell_type": "markdown",
   "metadata": {},
   "source": [
    "# Filling Hist"
   ]
  },
  {
   "cell_type": "code",
   "execution_count": 6,
   "metadata": {},
   "outputs": [],
   "source": [
    "SF = {}\n",
    "\n",
    "ptBin,etaBin = 7,11\n",
    "for i in range(1,ptBin):\n",
    "    SF[i] = {}\n",
    "    for j in range(1,etaBin):\n",
    "        data = Data.GetBinContent(i,j)\n",
    "        mc = MC.GetBinContent(i,j)\n",
    "        #print(i,j,data,mc)\n",
    "        if mc == 0:\n",
    "            SF[i][j] = 1\n",
    "        else:\n",
    "            SF[i][j] = data/mc\n",
    "        hist2d.SetBinContent(i,j,SF[i][j])\n",
    "        tree.Fill()\n",
    "file.Write()\n",
    "file.Close()"
   ]
  },
  {
   "cell_type": "code",
   "execution_count": null,
   "metadata": {},
   "outputs": [],
   "source": []
  },
  {
   "cell_type": "code",
   "execution_count": null,
   "metadata": {},
   "outputs": [],
   "source": []
  },
  {
   "cell_type": "code",
   "execution_count": null,
   "metadata": {},
   "outputs": [],
   "source": []
  }
 ],
 "metadata": {
  "kernelspec": {
   "display_name": "python3",
   "language": "python",
   "name": "python3"
  },
  "language_info": {
   "codemirror_mode": {
    "name": "ipython",
    "version": 2
   },
   "file_extension": ".py",
   "mimetype": "text/x-python",
   "name": "python",
   "nbconvert_exporter": "python",
   "pygments_lexer": "ipython2",
   "version": "2.7.17"
  }
 },
 "nbformat": 4,
 "nbformat_minor": 2
}
