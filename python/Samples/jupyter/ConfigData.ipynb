{
 "cells": [
  {
   "cell_type": "code",
   "execution_count": 3,
   "metadata": {},
   "outputs": [],
   "source": [
    "import os\n",
    "import numpy as np\n",
    "from Common.IO import openJson"
   ]
  },
  {
   "cell_type": "code",
   "execution_count": 4,
   "metadata": {},
   "outputs": [],
   "source": [
    "class ConfigData:\n",
    "    dataNameRoot = ['Muon','Electron','EGamma','Gamma','EG']\n",
    "    mergepath = \"/home/jcordero/CMS/SMP_ZGamma/json/manage/\"\n",
    "    \n",
    "    def isData(self,name):\n",
    "        return np.sum([ d.lower() in name.lower() for d in self.dataNameRoot], dtype = np.bool)\n",
    "        \n",
    "    def Runs(self,era):\n",
    "        return openJson(os.path.join(self.mergepath,'runs.json'))[era]\n",
    "        \n",
    "    def Diboson(self,era):\n",
    "        return openJson(os.path.join(self.mergepath,'merge.json'))[era][\"Diboson\"]\n",
    "        \n",
    "    def DoubleMuon(self,era):\n",
    "        return openJson(os.path.join(self.mergepath,'merge.json'))[era][\"DoubleMuon\"]\n",
    "    \n",
    "    def DoubleEG(self,era):\n",
    "        return openJson(os.path.join(self.mergepath,'merge.json'))[era][\"DoubleEG\"]\n",
    "    \n",
    "    def Electron(self,era):\n",
    "        return openJson(os.path.join(self.mergepath,'merge.json'))[era][\"Electron\"]\n",
    "    "
   ]
  },
  {
   "cell_type": "code",
   "execution_count": 7,
   "metadata": {},
   "outputs": [
    {
     "name": "stdout",
     "output_type": "stream",
     "text": [
      "['WWToLNuQQ', 'WWTo2L2Nu', 'WZTo2L2Q', 'WZTo3LNu', 'ZZTo2L2Nu', 'ZZTo2L2Q', 'ZZTo4L']\n",
      "['DoubleMuon_2018A', 'DoubleMuon_2018B', 'DoubleMuon_2018C', 'DoubleMuon_2018D']\n",
      "['B', 'C', 'D', 'E', 'F']\n",
      "['SingleElectron_2018A', 'SingleElectron_2018B', 'SingleElectron_2018C', 'SingleElectron_2018D']\n"
     ]
    }
   ],
   "source": [
    "if __name__ == '__main__':\n",
    "    C = ConfigData()\n",
    "    print(C.Diboson('2016'))\n",
    "    print(C.DoubleMuon('2018'))\n",
    "    print(C.Runs('2017'))\n",
    "    print(C.SingleElectron('2018'))"
   ]
  },
  {
   "cell_type": "code",
   "execution_count": null,
   "metadata": {},
   "outputs": [],
   "source": []
  },
  {
   "cell_type": "code",
   "execution_count": null,
   "metadata": {},
   "outputs": [],
   "source": []
  }
 ],
 "metadata": {
  "kernelspec": {
   "display_name": "SMP",
   "language": "python",
   "name": "smp"
  },
  "language_info": {
   "codemirror_mode": {
    "name": "ipython",
    "version": 3
   },
   "file_extension": ".py",
   "mimetype": "text/x-python",
   "name": "python",
   "nbconvert_exporter": "python",
   "pygments_lexer": "ipython3",
   "version": "3.6.10"
  },
  "varInspector": {
   "cols": {
    "lenName": 16,
    "lenType": 16,
    "lenVar": 40
   },
   "kernels_config": {
    "python": {
     "delete_cmd_postfix": "",
     "delete_cmd_prefix": "del ",
     "library": "var_list.py",
     "varRefreshCmd": "print(var_dic_list())"
    },
    "r": {
     "delete_cmd_postfix": ") ",
     "delete_cmd_prefix": "rm(",
     "library": "var_list.r",
     "varRefreshCmd": "cat(var_dic_list()) "
    }
   },
   "types_to_exclude": [
    "module",
    "function",
    "builtin_function_or_method",
    "instance",
    "_Feature"
   ],
   "window_display": false
  }
 },
 "nbformat": 4,
 "nbformat_minor": 2
}
