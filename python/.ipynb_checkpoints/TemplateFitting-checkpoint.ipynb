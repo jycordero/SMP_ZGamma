{
 "cells": [
  {
   "cell_type": "code",
   "execution_count": null,
   "metadata": {},
   "outputs": [],
   "source": [
    "class jetjetgm_PlotOpt():\n",
    "    def __init__(color = 'k', linestyle = '-', linewidth = 1.5, isData = False, isSignalMC = False):\n",
    "        self.color     = color\n",
    "        self.linestyle = linestyle\n",
    "        self.linewidth = linewidth \n",
    "        self.isData    = isData\n",
    "        self.isSignal  = isSignalMC\n",
    "        self.hist = plt.hist(None,\n",
    "                            color     = self.color\n",
    "                            linestyle = self.linestyle\n",
    "                            linewidth = self.linewidth\n",
    "                            )"
   ]
  },
  {
   "cell_type": "code",
   "execution_count": 21,
   "metadata": {},
   "outputs": [],
   "source": [
    "import numpy as np\n",
    "import matplotlib.pyplot as plt\n",
    "a = np.random.rand(100)\n",
    "b = np.random.rand(100)"
   ]
  },
  {
   "cell_type": "code",
   "execution_count": 13,
   "metadata": {},
   "outputs": [
    {
     "data": {
      "image/png": "[encoded data removed]",
      "text/plain": [
       "<Figure size 432x288 with 1 Axes>"
      ]
     },
     "metadata": {},
     "output_type": "display_data"
    },
    {
     "data": {
      "image/png": "[encoded data removed]",
      "text/plain": [
       "<Figure size 432x288 with 1 Axes>"
      ]
     },
     "metadata": {},
     "output_type": "display_data"
    },
    {
     "data": {
      "image/png": "[encoded data removed]",
      "text/plain": [
       "<Figure size 432x288 with 1 Axes>"
      ]
     },
     "metadata": {},
     "output_type": "display_data"
    }
   ],
   "source": [
    "plt.figure()\n",
    "plt.hist([a,b],stacked=True,color = ['r','b']);\n",
    "plt.figure()\n",
    "plt.hist([a,b],stacked=False,color = ['r','b']);\n",
    "\n",
    "plt.figure()\n",
    "plt.hist(a,stacked=True,color = 'r');\n",
    "plt.hist(b,stacked=True,color = 'b');"
   ]
  },
  {
   "cell_type": "code",
   "execution_count": 2,
   "metadata": {},
   "outputs": [
    {
     "data": {
      "text/plain": [
       "<Figure size 640x480 with 3 Axes>"
      ]
     },
     "metadata": {},
     "output_type": "display_data"
    }
   ],
   "source": [
    "import numpy as np\n",
    "import matplotlib.pyplot as plt\n",
    "\n",
    "x = np.arange(10)\n",
    "plt.subplot(312)\n",
    "plt.plot(x)\n",
    "\n",
    "\n",
    "plt.subplot(322)\n",
    "plt.plot(x)\n",
    "\n",
    "plt.subplot(321)\n",
    "plt.plot(x)\n",
    "\n",
    "\n",
    "\n",
    "plt.show()\n",
    "\n"
   ]
  },
  {
   "cell_type": "code",
   "execution_count": 11,
   "metadata": {},
   "outputs": [],
   "source": [
    "d= {}\n",
    "d['a'] = 0\n",
    "d['b'] = [0]\n",
    "d['c'] = []\n",
    "d['d'] = val()"
   ]
  },
  {
   "cell_type": "code",
   "execution_count": null,
   "metadata": {},
   "outputs": [],
   "source": []
  },
  {
   "cell_type": "code",
   "execution_count": 12,
   "metadata": {},
   "outputs": [
    {
     "data": {
      "text/plain": [
       "{'a': 0, 'b': [0], 'c': [], 'd': []}"
      ]
     },
     "execution_count": 12,
     "metadata": {},
     "output_type": "execute_result"
    }
   ],
   "source": [
    "d"
   ]
  },
  {
   "cell_type": "code",
   "execution_count": 13,
   "metadata": {},
   "outputs": [
    {
     "data": {
      "text/plain": [
       "dict_keys(['a', 'b', 'c', 'd'])"
      ]
     },
     "execution_count": 13,
     "metadata": {},
     "output_type": "execute_result"
    }
   ],
   "source": [
    "d.keys()"
   ]
  },
  {
   "cell_type": "code",
   "execution_count": 10,
   "metadata": {},
   "outputs": [],
   "source": [
    "def val():\n",
    "    y = []\n",
    "    return y"
   ]
  },
  {
   "cell_type": "code",
   "execution_count": 14,
   "metadata": {},
   "outputs": [
    {
     "name": "stdout",
     "output_type": "stream",
     "text": [
      "[]\n"
     ]
    }
   ],
   "source": [
    "print(d['c'])"
   ]
  },
  {
   "cell_type": "code",
   "execution_count": 15,
   "metadata": {},
   "outputs": [
    {
     "name": "stdout",
     "output_type": "stream",
     "text": [
      "Empty\n"
     ]
    }
   ],
   "source": [
    "if not d['c']:\n",
    "    print('Empty')"
   ]
  },
  {
   "cell_type": "code",
   "execution_count": 8,
   "metadata": {},
   "outputs": [],
   "source": [
    "class ZH():\n",
    "    def _P(self):\n",
    "        return True"
   ]
  },
  {
   "cell_type": "code",
   "execution_count": 9,
   "metadata": {},
   "outputs": [
    {
     "name": "stdout",
     "output_type": "stream",
     "text": [
      "True\n"
     ]
    }
   ],
   "source": [
    "z = ZH()\n",
    "print(z._P())"
   ]
  },
  {
   "cell_type": "code",
   "execution_count": 10,
   "metadata": {},
   "outputs": [
    {
     "data": {
      "text/plain": [
       "['_P',\n",
       " '__class__',\n",
       " '__delattr__',\n",
       " '__dict__',\n",
       " '__dir__',\n",
       " '__doc__',\n",
       " '__eq__',\n",
       " '__format__',\n",
       " '__ge__',\n",
       " '__getattribute__',\n",
       " '__gt__',\n",
       " '__hash__',\n",
       " '__init__',\n",
       " '__init_subclass__',\n",
       " '__le__',\n",
       " '__lt__',\n",
       " '__module__',\n",
       " '__ne__',\n",
       " '__new__',\n",
       " '__reduce__',\n",
       " '__reduce_ex__',\n",
       " '__repr__',\n",
       " '__setattr__',\n",
       " '__sizeof__',\n",
       " '__str__',\n",
       " '__subclasshook__',\n",
       " '__weakref__']"
      ]
     },
     "execution_count": 10,
     "metadata": {},
     "output_type": "execute_result"
    }
   ],
   "source": [
    "dir(z)"
   ]
  },
  {
   "cell_type": "code",
   "execution_count": 14,
   "metadata": {},
   "outputs": [
    {
     "name": "stdout",
     "output_type": "stream",
     "text": [
      "False\n"
     ]
    }
   ],
   "source": [
    "a = [1,2,3,4]\n",
    "if v in a:\n",
    "    print(True)\n",
    "else :\n",
    "    print(False)"
   ]
  },
  {
   "cell_type": "code",
   "execution_count": 3,
   "metadata": {},
   "outputs": [],
   "source": [
    "t = []\n",
    "t.append([1,0,0,1,1,0,0,1,0,1,1,1,0,1])\n",
    "t.append([0,1,0,1,1,1,0,0,1,1,0,1,0,1])\n",
    "t.append([0,1,0,1,1,0,0,0,1,0,0,1,0,1])\n",
    "t.append([0,0,0,0,1,0,1,0,1,0,0,1,0,1])"
   ]
  },
  {
   "cell_type": "code",
   "execution_count": 4,
   "metadata": {},
   "outputs": [
    {
     "data": {
      "text/plain": [
       "array([0, 1, 0, 1, 1, 0, 0, 0, 1, 0, 0, 1, 0, 1])"
      ]
     },
     "execution_count": 4,
     "metadata": {},
     "output_type": "execute_result"
    }
   ],
   "source": [
    "np.array(t[1])[t[2][:len(t[1])]]"
   ]
  },
  {
   "cell_type": "code",
   "execution_count": 24,
   "metadata": {},
   "outputs": [
    {
     "name": "stdout",
     "output_type": "stream",
     "text": [
      "tempt [1, 0, 0, 1, 1, 0, 0, 1, 0, 1, 1, 1, 0, 1]\n",
      "m [False False False  True  True False False False False  True False  True\n",
      " False  True]\n",
      "tempt [False False False  True  True False False False False  True False  True\n",
      " False  True]\n",
      "m [False False False  True  True False False False False False False  True\n",
      " False  True]\n",
      "tempt [False False False  True  True False False False False False False  True\n",
      " False  True]\n",
      "m [False False False False  True False False False False False False  True\n",
      " False  True]\n"
     ]
    }
   ],
   "source": [
    "m = t[0]\n",
    "for i in range(1,len(t)):\n",
    "    temp = m\n",
    "    m    = np.logical_and(temp,t[i])\n",
    "    print('tempt',temp)\n",
    "    print('m',m)"
   ]
  },
  {
   "cell_type": "code",
   "execution_count": 31,
   "metadata": {},
   "outputs": [],
   "source": [
    "m = np.logical_and(t[0],t[1])"
   ]
  },
  {
   "cell_type": "code",
   "execution_count": 32,
   "metadata": {},
   "outputs": [],
   "source": [
    "m = np.logical_and(m[0],t[1])"
   ]
  },
  {
   "cell_type": "code",
   "execution_count": null,
   "metadata": {
    "code_folding": [
     3,
     10,
     16,
     41,
     67,
     92,
     129,
     166,
     203,
     211,
     219
    ]
   },
   "outputs": [],
   "source": [
    "    def Hist(self, var = 'm2', part = ''):\n",
    "        self.Weights() # Initialize weights\n",
    "        \n",
    "        if   var == 'm2':\n",
    "            #hist = np.histogram(self.dijet_m,\n",
    "            #                    range     = self.Help.plotOps[self.name][     'range'][var][part],\n",
    "            #                    bins      = self.Help.plotOps[self.name][      'bins'][var][part],\n",
    "            #                    weights   = self.weights\n",
    "            #                   );\n",
    "            data = self.dijet_m\n",
    "        elif var == 'm3':\n",
    "            hist = np.histogram(self.dijetgm_m,\n",
    "                                range     = self.Help.plotOps[self.name][     'range'][var][part],\n",
    "                                bins      = self.Help.plotOps[self.name][      'bins'][var][part],\n",
    "                                weights   = self.weights\n",
    "                               );\n",
    "        elif var == 'pt':\n",
    "            if part == 'muon':\n",
    "                hist = np.histogram(self.lepton_pt,\n",
    "                                    range     = self.Help.plotOps[self.name][     'range'][var][part],\n",
    "                                    bins      = self.Help.plotOps[self.name][      'bins'][var][part],\n",
    "                                    weights   = self.weights\n",
    "                                   );\n",
    "            elif part == 'gm':\n",
    "                hist = np.histogram(self.photon_pt,\n",
    "                                    range     = self.Help.plotOps[self.name][     'range'][var][part],\n",
    "                                    bins      = self.Help.plotOps[self.name][      'bins'][var][part],\n",
    "                                    weights   = self.weights\n",
    "                                   );                \n",
    "            elif part == 'jet1':\n",
    "                hist = np.histogram(self.jet1_pt,\n",
    "                                    range     = self.Help.plotOps[self.name][     'range'][var][part],\n",
    "                                    bins      = self.Help.plotOps[self.name][      'bins'][var][part],\n",
    "                                    weights   = self.weights\n",
    "                                   );          \n",
    "            elif part == 'jet2':\n",
    "                hist = np.histogram(self.jet2_pt,\n",
    "                                    range     = self.Help.plotOps[self.name][     'range'][var][part],\n",
    "                                    bins      = self.Help.plotOps[self.name][      'bins'][var][part],\n",
    "                                    weights   = self.weights\n",
    "                                   );                                         \n",
    "        elif var == 'eta':\n",
    "            if part == 'muon':\n",
    "                hist = np.histogram(self.lepton_eta,\n",
    "                                    range     = self.Help.plotOps[self.name][     'range'][var][part],\n",
    "                                    bins      = self.Help.plotOps[self.name][      'bins'][var][part],\n",
    "                                    weights   = self.weights\n",
    "                                   );\n",
    "            elif part == 'gm':\n",
    "                #print(self.name + \" : \" + str(len(self.lepton_eta)))\n",
    "                hist = np.histogram(self.photon_eta,\n",
    "                                    range     = self.Help.plotOps[self.name][     'range'][var][part],\n",
    "                                    bins      = self.Help.plotOps[self.name][      'bins'][var][part],\n",
    "                                    weights   = self.weights\n",
    "                                   );                \n",
    "            elif part == 'jet1':\n",
    "                hist = np.histogram(self.jet1_eta,\n",
    "                                    range     = self.Help.plotOps[self.name][     'range'][var][part],\n",
    "                                    bins      = self.Help.plotOps[self.name][      'bins'][var][part],\n",
    "                                    weights   = self.weights\n",
    "                                   );          \n",
    "            elif part == 'jet2':\n",
    "                hist = np.histogram(self.jet2_eta,\n",
    "                                    range     = self.Help.plotOps[self.name][     'range'][var][part],\n",
    "                                    bins      = self.Help.plotOps[self.name][      'bins'][var][part],\n",
    "                                    weights   = self.weights\n",
    "                                   ); \n",
    "        elif var == 'phi':\n",
    "            if part == 'muon':\n",
    "                hist = np.histogram(self.lepton_phi,\n",
    "                                    range     = self.Help.plotOps[self.name][     'range'][var][part],\n",
    "                                    bins      = self.Help.plotOps[self.name][      'bins'][var][part],\n",
    "                                    weights   = self.weights\n",
    "                                   );\n",
    "            elif part == 'gm':\n",
    "                hist = np.histogram(self.photon_phi,\n",
    "                                    range     = self.Help.plotOps[self.name][     'range'][var][part],\n",
    "                                    bins      = self.Help.plotOps[self.name][      'bins'][var][part],\n",
    "                                    weights   = self.weights\n",
    "                                   );                \n",
    "            elif part == 'jet1':\n",
    "                hist = np.histogram(self.jet1_phi,\n",
    "                                    range     = self.Help.plotOps[self.name][     'range'][var][part],\n",
    "                                    bins      = self.Help.plotOps[self.name][      'bins'][var][part],\n",
    "                                    weights   = self.weights\n",
    "                                   );          \n",
    "            elif part == 'jet2':\n",
    "                hist = np.histogram(self.jet2_phi,\n",
    "                                    range     = self.Help.plotOps[self.name][     'range'][var][part],\n",
    "                                    bins      = self.Help.plotOps[self.name][      'bins'][var][part],\n",
    "                                    weights   = self.weights\n",
    "                                   );                 \n",
    "        elif var == 'Deta':\n",
    "            if part == \"$\\Delta \\eta(j_1 j_2)$\":\n",
    "                hist = np.histogram(self.dijet_D_eta,\n",
    "                                    range     = self.Help.plotOps[self.name][     'range'][var][part],\n",
    "                                    bins      = self.Help.plotOps[self.name][      'bins'][var][part],\n",
    "                                    weights   = self.weights\n",
    "                                   );\n",
    "            elif part == \"$\\Delta \\eta(\\mu \\gamma)$\":\n",
    "                hist = np.histogram(self.MuGm_D_eta,\n",
    "                                    range     = self.Help.plotOps[self.name][     'range'][var][part],\n",
    "                                    bins      = self.Help.plotOps[self.name][      'bins'][var][part],\n",
    "                                    weights   = self.weights\n",
    "                                   );                \n",
    "            elif part == \"$\\Delta \\eta(j_1 gm)$\":\n",
    "                hist = np.histogram(self.Jet1Gm_D_eta,\n",
    "                                    range     = self.Help.plotOps[self.name][     'range'][var][part],\n",
    "                                    bins      = self.Help.plotOps[self.name][      'bins'][var][part],\n",
    "                                    weights   = self.weights\n",
    "                                   );          \n",
    "            elif part == \"$\\Delta \\eta(j_2 gm)$\":\n",
    "                hist = np.histogram(self.Jet2Gm_D_eta,\n",
    "                                    range     = self.Help.plotOps[self.name][     'range'][var][part],\n",
    "                                    bins      = self.Help.plotOps[self.name][      'bins'][var][part],\n",
    "                                    weights   = self.weights\n",
    "                                   ); \n",
    "            elif part == \"$\\Delta \\eta(j_1 \\mu)$\":\n",
    "                hist = np.histogram(self.Jet1Mu_D_eta,\n",
    "                                    range     = self.Help.plotOps[self.name][     'range'][var][part],\n",
    "                                    bins      = self.Help.plotOps[self.name][      'bins'][var][part],\n",
    "                                    weights   = self.weights\n",
    "                                   );\n",
    "            elif part == \"$\\Delta \\eta(j_2 \\mu)$\":\n",
    "                hist = np.histogram(self.Jet2Mu_D_eta,\n",
    "                                    range     = self.Help.plotOps[self.name][     'range'][var][part],\n",
    "                                    bins      = self.Help.plotOps[self.name][      'bins'][var][part],\n",
    "                                    weights   = self.weights\n",
    "                                   );    \n",
    "        elif var == 'Dphi':\n",
    "            if part == \"$\\Delta \\phi(j_1 j_2)$\":\n",
    "                hist = np.histogram(self.dijet_D_phi,\n",
    "                                    range     = self.Help.plotOps[self.name][     'range'][var][part],\n",
    "                                    bins      = self.Help.plotOps[self.name][      'bins'][var][part],\n",
    "                                    weights   = self.weights\n",
    "                                   );\n",
    "            elif part == \"$\\Delta \\phi(\\mu \\gamma)$\":\n",
    "                hist = np.histogram(self.MuGm_D_phi,\n",
    "                                    range     = self.Help.plotOps[self.name][     'range'][var][part],\n",
    "                                    bins      = self.Help.plotOps[self.name][      'bins'][var][part],\n",
    "                                    weights   = self.weights\n",
    "                                   );                \n",
    "            elif part == \"$\\Delta \\phi(j_1 gm)$\":\n",
    "                hist = np.histogram(self.Jet1Gm_D_phi,\n",
    "                                    range     = self.Help.plotOps[self.name][     'range'][var][part],\n",
    "                                    bins      = self.Help.plotOps[self.name][      'bins'][var][part],\n",
    "                                    weights   = self.weights\n",
    "                                   );          \n",
    "            elif part == \"$\\Delta \\phi(j_2 gm)$\":\n",
    "                hist = np.histogram(self.Jet2Gm_D_phi,\n",
    "                                    range     = self.Help.plotOps[self.name][     'range'][var][part],\n",
    "                                    bins      = self.Help.plotOps[self.name][      'bins'][var][part],\n",
    "                                    weights   = self.weights\n",
    "                                   ); \n",
    "            elif part == \"$\\Delta \\phi(j_1 \\mu)$\":\n",
    "                hist = np.histogram(self.Jet1Mu_D_phi,\n",
    "                                    range     = self.Help.plotOps[self.name][     'range'][var][part],\n",
    "                                    bins      = self.Help.plotOps[self.name][      'bins'][var][part],\n",
    "                                    weights   = self.weights\n",
    "                                   );\n",
    "            elif part == \"$\\Delta \\phi(j_2 \\mu)$\":\n",
    "                hist = np.histogram(self.Jet2Mu_D_phi,\n",
    "                                    range     = self.Help.plotOps[self.name][     'range'][var][part],\n",
    "                                    bins      = self.Help.plotOps[self.name][      'bins'][var][part],\n",
    "                                    weights   = self.weights\n",
    "                                   );                 \n",
    "        elif var == 'DR':\n",
    "            if part == \"$\\Delta R(j_1 j_2)$\":\n",
    "                hist = np.histogram(self.dijet_D_R,\n",
    "                                    range     = self.Help.plotOps[self.name][     'range'][var][part],\n",
    "                                    bins      = self.Help.plotOps[self.name][      'bins'][var][part],\n",
    "                                    weights   = self.weights\n",
    "                                   );\n",
    "            elif part == \"$\\Delta R(\\mu \\gamma)$\":\n",
    "                hist = np.histogram(self.MuGm_D_R,\n",
    "                                    range     = self.Help.plotOps[self.name][     'range'][var][part],\n",
    "                                    bins      = self.Help.plotOps[self.name][      'bins'][var][part],\n",
    "                                    weights   = self.weights\n",
    "                                   );                \n",
    "            elif part == \"$\\Delta R(j_1 gm)$\":\n",
    "                hist = np.histogram(self.Jet1Gm_D_R,\n",
    "                                    range     = self.Help.plotOps[self.name][     'range'][var][part],\n",
    "                                    bins      = self.Help.plotOps[self.name][      'bins'][var][part],\n",
    "                                    weights   = self.weights\n",
    "                                   );          \n",
    "            elif part == \"$\\Delta R(j_2 gm)$\":\n",
    "                hist = np.histogram(self.Jet2Gm_D_R,\n",
    "                                    range     = self.Help.plotOps[self.name][     'range'][var][part],\n",
    "                                    bins      = self.Help.plotOps[self.name][      'bins'][var][part],\n",
    "                                    weights   = self.weights\n",
    "                                   ); \n",
    "            elif part == \"$\\Delta R(j_1 \\mu)$\":\n",
    "                hist = np.histogram(self.Jet1Mu_D_R,\n",
    "                                    range     = self.Help.plotOps[self.name][     'range'][var][part],\n",
    "                                    bins      = self.Help.plotOps[self.name][      'bins'][var][part],\n",
    "                                    weights   = self.weights\n",
    "                                   );\n",
    "            elif part == \"$\\Delta R(j_2 \\mu)$\":\n",
    "                hist = np.histogram(self.Jet2Mu_D_R,\n",
    "                                    range     = self.Help.plotOps[self.name][     'range'][var][part],\n",
    "                                    bins      = self.Help.plotOps[self.name][      'bins'][var][part],\n",
    "                                    weights   = self.weights\n",
    "                                   );                                 \n",
    "        elif var == 'nMuons':\n",
    "            #print(\"nMuons:\"+str(len(self.nMuons))+\" Weights\"+str(len(self.weights)))\n",
    "            hist = np.histogram(\n",
    "                                self.nMuons,\n",
    "                                range     = self.Help.plotOps[self.name][     'range'][var][part],\n",
    "                                bins      = self.Help.plotOps[self.name][      'bins'][var][part],\n",
    "                                weights   = self.weights\n",
    "                               );\n",
    "        elif var == 'nBJets':\n",
    "            #print(\"nBJets:\"+str(len(self.nBJets))+\" Weights\"+str(len(self.weights)))\n",
    "            hist = np.histogram(\n",
    "                                self.nBJets,\n",
    "                                range     = self.Help.plotOps[self.name][     'range'][var][part],\n",
    "                                bins      = self.Help.plotOps[self.name][      'bins'][var][part],\n",
    "                                weights   = self.weights\n",
    "                               );   \n",
    "        elif var == 'nPV':\n",
    "            #print(\"nBJets:\"+str(len(self.nBJets))+\" Weights\"+str(len(self.weights)))\n",
    "            hist = np.histogram(\n",
    "                                self.nPV,\n",
    "                                range     = self.Help.plotOps[self.name][     'range'][var][part],\n",
    "                                bins      = self.Help.plotOps[self.name][      'bins'][var][part],\n",
    "                                weights   = self.weights\n",
    "                               );   \n",
    "\n",
    "#        hist = np.histogram(np.array(data)[self.cuts],\n",
    "#                            range     = self.Help.plotOps[self.name][     'range'][var][part],\n",
    "#                            bins      = self.Help.plotOps[self.name][      'bins'][var][part],\n",
    "#                            weights   = np.array(self.weights)[self.cuts]\n",
    "#                           );                \n",
    "#        return hist"
   ]
  },
  {
   "cell_type": "code",
   "execution_count": null,
   "metadata": {
    "code_folding": [
     12,
     32,
     39
    ]
   },
   "outputs": [],
   "source": [
    "for var in Help.var1[2:]:\n",
    "    fig = plt.figure(figsize = (15, 20))\n",
    "    #for j,k in zip(range(len(data_pt)),data_pt.keys()):\n",
    "    for j,k in zip(range(len(values[var])),values[var].keys()):\n",
    "        nx,ny = 3,2\n",
    "        plt.subplot(nx,ny,j+1)\n",
    "        #PT = values[var][k][:-2]#data_pt[k][:-2]\n",
    "        title_lab = k\n",
    "        #weight = np.array([w[i] for _ in PT]) \n",
    "        COL = [Help.plotOpsAll[i]['color'] for i in range(len(values[var][k][:-2]))]\n",
    "\n",
    "        ax = plt.gca()\n",
    "        ax.hist(\n",
    "                values[var][k][:-2],\n",
    "                bins      = Help.plotOpsAll[0]['bins'][var][k],\n",
    "                histtype  = Help.plotOpsAll[0]['histtype'],\n",
    "                range     = Help.plotOpsAll[0]['range'][var][k],\n",
    "                normed    = Help.plotOpsAll[0]['normed'],\n",
    "                color     = COL,\n",
    "                stacked     = True,\n",
    "                #weights   = weight,\n",
    "                label     = legend_lab,\n",
    "                #linestyle = line_style[k],\n",
    "                #linewidth = 1.2\n",
    "                )\n",
    "        ax.set_title(title_lab)\n",
    "        #ax.set_xlabel('$'+var+'[GeV]$')\n",
    "        ax.set_xlabel(var)\n",
    "        ax.grid(linestyle='--')\n",
    "        ax.legend(prop={'size':10})\n",
    "\n",
    "\n",
    "        y3,x3 =np.histogram(\n",
    "                            values[var][k][-1],\n",
    "                            bins  = Help.plotOpsAll[-1]['bins'][var][k],\n",
    "                            range = Help.plotOpsAll[-1]['range'][var][k]\n",
    "                           )\n",
    "        x3b = (x3[1:len(x3)] + x3[0:-1])/2\n",
    "        ax = plt.gca()\n",
    "        ax.errorbar(x3b,y3,\n",
    "                    xerr = np.diff(x3)/2,yerr = np.sqrt(y3),\n",
    "                    color='k',\n",
    "                    marker='o',\n",
    "                    linestyle='',\n",
    "                    label = legend_lab[-1]\n",
    "                   )\n",
    "        ax.legend(prop={'size': 10})\n",
    "\n",
    "\n",
    "    plt.show()\n",
    "    fig.savefig(figpath+var+\".png\")"
   ]
  },
  {
   "cell_type": "code",
   "execution_count": null,
   "metadata": {},
   "outputs": [],
   "source": [
    "#---------------------------- CUTS ------------------------------------ CUTS -----------------------\n",
    "cut = []\n",
    "cut.append(np.array([np.array(d.MuGm_D_R) > 0.4 for d in data]))\n",
    "cut.append(np.array([np.array(d.nMuons)  == 1   for d in data]))\n",
    "cut.append(np.array([np.array(d.nMuons)  == 2   for d in data]))\n",
    "\n",
    "#---------------------------------------------------------------------------------------------------\n",
    "TTflag         = [  True, False, False, False, False, False, False, False, False, False, False ]\n",
    "DYJetsflag     = [ False,  True, False, False, False, False, False, False, False, False, False ]\n",
    "VVflag         = [ False, False,  True,  True,  True, False, False, False, False, False, False ]\n",
    "WJetsflag      = [ False, False, False, False, False,  True,  True,  True,  True, False, False ]\n",
    "WHflag         = [ False, False, False, False, False, False, False, False, False,  True, False ]\n",
    "SingleMuonflag = [ False, False, False, False, False, False, False, False, False, False,  True ]\n",
    "\n",
    "n = 0\n",
    "TTcut         = np.concatenate(         cut[n][TTflag], axis=None )\n",
    "DYJetscut     = np.concatenate(     cut[n][DYJetsflag], axis=None )\n",
    "VVcut         = np.concatenate(         cut[n][VVflag], axis=None )\n",
    "WJetscut      = np.concatenate(      cut[n][WJetsflag], axis=None )\n",
    "WHcut         = np.concatenate(         cut[n][WHflag], axis=None )\n",
    "SingleMuoncut = np.concatenate( cut[n][SingleMuonflag], axis=None )"
   ]
  },
  {
   "cell_type": "code",
   "execution_count": null,
   "metadata": {},
   "outputs": [],
   "source": []
  }
 ],
 "metadata": {
  "kernelspec": {
   "display_name": "Python 3",
   "language": "python",
   "name": "python3"
  },
  "language_info": {
   "codemirror_mode": {
    "name": "ipython",
    "version": 3
   },
   "file_extension": ".py",
   "mimetype": "text/x-python",
   "name": "python",
   "nbconvert_exporter": "python",
   "pygments_lexer": "ipython3",
   "version": "3.6.5"
  }
 },
 "nbformat": 4,
 "nbformat_minor": 2
}
