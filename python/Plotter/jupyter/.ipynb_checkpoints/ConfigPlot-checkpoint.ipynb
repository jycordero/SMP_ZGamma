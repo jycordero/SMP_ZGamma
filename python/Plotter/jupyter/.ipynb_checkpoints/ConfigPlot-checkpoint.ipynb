{
 "cells": [
  {
   "cell_type": "code",
   "execution_count": null,
   "metadata": {},
   "outputs": [],
   "source": [
    "import json"
   ]
  },
  {
   "cell_type": "code",
   "execution_count": null,
   "metadata": {},
   "outputs": [],
   "source": [
    "class ConfigPlot():\n",
    "    def __init__(self, projectdir, name):\n",
    "        self.projectdir = projectdir\n",
    "        self.name = name\n",
    "        \n",
    "        self.setConfigVars( self.getConfigFile() )\n",
    "\n",
    "    def getConfigFile(self):\n",
    "        #self.projectdir + \"conf/confPlot.txt\"\n",
    "        file = self.projectdir + \"json/plot/plot_conf.json\"\n",
    "        with open(file, 'r') as f:\n",
    "            JS = f.read()\n",
    "        \n",
    "        config = json.loads(JS)\n",
    "        \n",
    "        return config\n",
    "        \n",
    "    def setConfigVars(self,config):\n",
    "        conf = config[self.name]\n",
    "        \n",
    "        for var in conf.keys():\n",
    "            setattr(self,var, conf[var])"
   ]
  }
 ],
 "metadata": {
  "kernelspec": {
   "display_name": "Python [conda env:CMSenv] *",
   "language": "python",
   "name": "conda-env-CMSenv-py"
  },
  "language_info": {
   "codemirror_mode": {
    "name": "ipython",
    "version": 3
   },
   "file_extension": ".py",
   "mimetype": "text/x-python",
   "name": "python",
   "nbconvert_exporter": "python",
   "pygments_lexer": "ipython3",
   "version": "3.6.7"
  }
 },
 "nbformat": 4,
 "nbformat_minor": 2
}
