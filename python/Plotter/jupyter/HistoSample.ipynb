{
 "cells": [
  {
   "cell_type": "code",
   "execution_count": 3,
   "metadata": {},
   "outputs": [],
   "source": [
    "import numpy as np\n",
    "import matplotlib.pyplot as plt\n",
    "from Plotter.ConfigHist import ConfigHist\n",
    "from Plotter.ConfigMatplotlib import ConfigMatplotlib\n",
    "from Common.CommonHelper import CommonHelper\n",
    "from Common.StackList import StackList"
   ]
  },
  {
   "cell_type": "code",
   "execution_count": 4,
   "metadata": {},
   "outputs": [],
   "source": [
    "class HistoSample( StackList, ConfigHist, ConfigMatplotlib ):\n",
    "    def __init__(self,name=None,stack = None):\n",
    "        StackList.__init__(self, stack)\n",
    "        if name is None:            \n",
    "            self.name     = None\n",
    "        else:\n",
    "            if type(variable) is list:\n",
    "                self.name     = self.name\n",
    "            else:\n",
    "                self.name     = [ self.name ]\n",
    "\n",
    "        \n",
    "    \n",
    "    def append(self,stack,name=None):\n",
    "        if name is None and stack.name is None:\n",
    "            raise \"Name is not specified, provide argument \\\"name\\\" or set is in Histo\"\n",
    "        \n",
    "        if name is None:\n",
    "            name = stack.name\n",
    "        else:\n",
    "            stack.name = name\n",
    "        \n",
    "        self.vappend(stack)\n",
    "        \n",
    "    def vappend(self,stack):\n",
    "        super().append(stack)\n",
    "        self.__addVariable(stack.name)\n",
    "    \n",
    "    \n",
    "    def __addVariable(self,name):\n",
    "        if self.name is None:\n",
    "            self.name = []\n",
    "        \n",
    "        if name is not None:\n",
    "            if type(name) is list:\n",
    "                self.name  += name\n",
    "            else:\n",
    "                self.name  += [ name ]\n",
    "    \n",
    "    def getProperties(self):\n",
    "        prop = {}\n",
    "        prop['color']    = [ super(HistoSample,self).getColor(name) for name in self.name]\n",
    "        prop['label']    = [ super(HistoSample,self).getLabel(name) for name in self.name]\n",
    "        prop['histtype'] = super(HistoSample,self).getHisttpe(self.name[0])\n",
    "        return prop\n",
    "    \n",
    "    def plot(self,variable=\"photonOnePt\",log=False,Type = \"Single\"):\n",
    "        \n",
    "        super(HistoSample,self).setRC(plt.rc,Type=Type)\n",
    "        \n",
    "        fig = plt.figure()       \n",
    "        \n",
    "        value = [histo[variable].values for histo in self.stack]\n",
    "        bins = self.stack[0][variable].bins\n",
    "        binc = CommonHelper.Plot.BinFormat(Bins=bins, Type=\"center\")\n",
    "        binc = [binc]*len(value)\n",
    "        \n",
    "        prop = self.getProperties()\n",
    "        plt.hist(binc,\n",
    "                 weights  = value,\n",
    "                 **prop,\n",
    "                 )\n",
    "        \n",
    "        plt.legend()\n",
    "        \n",
    "        ax = plt.gca()\n",
    "        if log:\n",
    "            ax.set_yscale('log')\n",
    "        return fig,ax"
   ]
  },
  {
   "cell_type": "code",
   "execution_count": null,
   "metadata": {},
   "outputs": [],
   "source": []
  }
 ],
 "metadata": {
  "kernelspec": {
   "display_name": "Python [conda env:CMSenv] *",
   "language": "python",
   "name": "conda-env-CMSenv-py"
  },
  "language_info": {
   "codemirror_mode": {
    "name": "ipython",
    "version": 3
   },
   "file_extension": ".py",
   "mimetype": "text/x-python",
   "name": "python",
   "nbconvert_exporter": "python",
   "pygments_lexer": "ipython3",
   "version": "3.6.7"
  },
  "varInspector": {
   "cols": {
    "lenName": 16,
    "lenType": 16,
    "lenVar": 40
   },
   "kernels_config": {
    "python": {
     "delete_cmd_postfix": "",
     "delete_cmd_prefix": "del ",
     "library": "var_list.py",
     "varRefreshCmd": "print(var_dic_list())"
    },
    "r": {
     "delete_cmd_postfix": ") ",
     "delete_cmd_prefix": "rm(",
     "library": "var_list.r",
     "varRefreshCmd": "cat(var_dic_list()) "
    }
   },
   "types_to_exclude": [
    "module",
    "function",
    "builtin_function_or_method",
    "instance",
    "_Feature"
   ],
   "window_display": false
  }
 },
 "nbformat": 4,
 "nbformat_minor": 2
}
